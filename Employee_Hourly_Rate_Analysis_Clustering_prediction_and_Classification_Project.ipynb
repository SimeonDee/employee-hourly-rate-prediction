{
 "cells": [
  {
   "cell_type": "markdown",
   "id": "0d3f7188",
   "metadata": {},
   "source": [
    "*```Author```*: ```Adedoyin Simeon Adeyemi```"
   ]
  },
  {
   "cell_type": "markdown",
   "id": "5b8d0a5b",
   "metadata": {
    "id": "xNDHjznAYowv"
   },
   "source": [
    "# Hourly Rate Prediction of Employees\n",
    "\n",
    "Regression Algorithms Used: RFR (Random Forest Regressor), SVR (Support Vector), LR (Linear Regression) and RR (Ridge Regressor)\n",
    "\n",
    "\n",
    "# Employee Clustering\n",
    "\n",
    "Clustering Algorithms Used: KMeans, DBSCAN\n",
    "\n",
    "\n",
    "# Classifying Employee as either \"well-paid\" or \"not-well-paid\"\n",
    "\n",
    "Classification Algorithms Used: RFC (Random Forest Classifier), SVC (Support Vector Classifier), GBC (Gradient Bossting Classifier)"
   ]
  },
  {
   "cell_type": "markdown",
   "id": "nYE-69v9lM03",
   "metadata": {
    "id": "nYE-69v9lM03"
   },
   "source": [
    "# Import Libraries"
   ]
  },
  {
   "cell_type": "code",
   "execution_count": null,
   "id": "98c560a6",
   "metadata": {
    "executionInfo": {
     "elapsed": 2620,
     "status": "ok",
     "timestamp": 1682880632589,
     "user": {
      "displayName": "Adedoyin Simeon",
      "userId": "06560907186348381188"
     },
     "user_tz": -60
    },
    "id": "98c560a6"
   },
   "outputs": [],
   "source": [
    "# import libraries\n",
    "\n",
    "# Utilities\n",
    "import os\n",
    "import pickle\n",
    "from math import sqrt\n",
    "\n",
    "# Data wrangling and loader\n",
    "import pandas as pd\n",
    "import numpy as np\n",
    "\n",
    "# Visualizations\n",
    "import seaborn as sns\n",
    "import matplotlib.pyplot as plt\n",
    "import plotly.express as px\n",
    "import plotly.graph_objs as go\n",
    "import plotly.offline as py\n",
    "\n",
    "# Data preprocessing\n",
    "from sklearn.preprocessing import StandardScaler,LabelEncoder\n",
    "from sklearn.preprocessing import MinMaxScaler\n",
    "from sklearn.model_selection import train_test_split\n",
    "from pandas import get_dummies\n",
    "\n",
    "# Regressors\n",
    "# import statsmodels.formula.api as sm\n",
    "from sklearn.linear_model import LinearRegression\n",
    "from sklearn.linear_model import Ridge # Ridge Regressor\n",
    "from sklearn.ensemble import RandomForestRegressor\n",
    "from sklearn.svm import LinearSVR\n",
    "\n",
    "# Clustering algorithm\n",
    "from sklearn.cluster import KMeans\n",
    "from sklearn.cluster import DBSCAN\n",
    "from sklearn.decomposition import PCA # for dimension reduction\n",
    "from sklearn.neighbors import NearestNeighbors\n",
    "\n",
    "# Classifiers\n",
    "# from sklearn.neighbors import KNeighborsClassifier\n",
    "from sklearn.svm import SVC\n",
    "from sklearn.ensemble import RandomForestClassifier\n",
    "from sklearn.ensemble import GradientBoostingClassifier\n",
    "\n",
    "# Performance metrics\n",
    "## regression\n",
    "from sklearn.metrics import mean_squared_error, r2_score, mean_absolute_error\n",
    "## classification\n",
    "from sklearn.metrics import confusion_matrix,classification_report\n",
    "from sklearn.metrics import accuracy_score, precision_score, recall_score\n",
    "# clustering\n",
    "from sklearn.metrics import silhouette_score\n",
    "\n",
    "# Suppressing unnecessary warnings\n",
    "import warnings\n",
    "warnings.filterwarnings(\"ignore\")"
   ]
  },
  {
   "cell_type": "code",
   "execution_count": null,
   "id": "3faa2837",
   "metadata": {
    "executionInfo": {
     "elapsed": 8,
     "status": "ok",
     "timestamp": 1682880632590,
     "user": {
      "displayName": "Adedoyin Simeon",
      "userId": "06560907186348381188"
     },
     "user_tz": -60
    },
    "id": "3faa2837"
   },
   "outputs": [],
   "source": [
    "sns.set_style('darkgrid')\n",
    "plt.rcParams['figure.figsize']=(15,8)\n",
    "plt.rcParams['font.size']=18"
   ]
  },
  {
   "cell_type": "markdown",
   "id": "RuNoTWKtZzb3",
   "metadata": {
    "id": "RuNoTWKtZzb3"
   },
   "source": [
    "# Connecting to Google Drive"
   ]
  },
  {
   "cell_type": "code",
   "execution_count": null,
   "id": "lU3CsF30Z3LY",
   "metadata": {
    "colab": {
     "base_uri": "https://localhost:8080/"
    },
    "executionInfo": {
     "elapsed": 34385,
     "status": "ok",
     "timestamp": 1682880484721,
     "user": {
      "displayName": "Adedoyin Simeon",
      "userId": "06560907186348381188"
     },
     "user_tz": -60
    },
    "id": "lU3CsF30Z3LY",
    "outputId": "6e20d892-e584-4139-a012-223d1e6586a1"
   },
   "outputs": [],
   "source": [
    "# Connecting Google Colab to Google Drive\n",
    "from google.colab import drive\n",
    "drive.mount(\"/content/gdrive\")"
   ]
  },
  {
   "cell_type": "code",
   "execution_count": null,
   "id": "ZaDl6BCKZ4cI",
   "metadata": {
    "executionInfo": {
     "elapsed": 32,
     "status": "ok",
     "timestamp": 1682880484729,
     "user": {
      "displayName": "Adedoyin Simeon",
      "userId": "06560907186348381188"
     },
     "user_tz": -60
    },
    "id": "ZaDl6BCKZ4cI"
   },
   "outputs": [],
   "source": [
    "PWD = \"gdrive/MyDrive/Colab Notebooks/Hourly_Rate_Prediction_Project\"\n",
    "DATASET_PATH = f'datasets'\n",
    "MODEL_PATH = f'models'\n",
    "RESULTS_PATH = f'results'"
   ]
  },
  {
   "cell_type": "markdown",
   "id": "R4DoIvktrLjh",
   "metadata": {
    "id": "R4DoIvktrLjh"
   },
   "source": [
    "# Setting current working directory to project folder\n"
   ]
  },
  {
   "cell_type": "code",
   "execution_count": null,
   "id": "zwv0wND8uCq7",
   "metadata": {
    "colab": {
     "base_uri": "https://localhost:8080/",
     "height": 35
    },
    "executionInfo": {
     "elapsed": 32,
     "status": "ok",
     "timestamp": 1682880484730,
     "user": {
      "displayName": "Adedoyin Simeon",
      "userId": "06560907186348381188"
     },
     "user_tz": -60
    },
    "id": "zwv0wND8uCq7",
    "outputId": "cc402a8b-1d4f-4c70-d6f5-9721a011eb32"
   },
   "outputs": [],
   "source": [
    "pwd"
   ]
  },
  {
   "cell_type": "code",
   "execution_count": null,
   "id": "o4oM6r12rQsm",
   "metadata": {
    "colab": {
     "base_uri": "https://localhost:8080/"
    },
    "executionInfo": {
     "elapsed": 31,
     "status": "ok",
     "timestamp": 1682880484731,
     "user": {
      "displayName": "Adedoyin Simeon",
      "userId": "06560907186348381188"
     },
     "user_tz": -60
    },
    "id": "o4oM6r12rQsm",
    "outputId": "4d4e0760-22b1-4e40-be5a-4f31b3af0bc1"
   },
   "outputs": [],
   "source": [
    "%cd {PWD}"
   ]
  },
  {
   "cell_type": "code",
   "execution_count": null,
   "id": "sq-2yzC6r49G",
   "metadata": {
    "executionInfo": {
     "elapsed": 5,
     "status": "ok",
     "timestamp": 1682865213027,
     "user": {
      "displayName": "Adedoyin Simeon",
      "userId": "06560907186348381188"
     },
     "user_tz": -60
    },
    "id": "sq-2yzC6r49G"
   },
   "outputs": [],
   "source": [
    "# Creating appropriate folders if not already existing\n",
    "if not os.path.exists(DATASET_PATH):\n",
    "    os.mkdir(DATASET_PATH)\n",
    "\n",
    "if not os.path.exists(MODEL_PATH):\n",
    "    os.mkdir(MODEL_PATH)\n",
    "\n",
    "if not os.path.exists(RESULTS_PATH):\n",
    "    os.mkdir(RESULTS_PATH)"
   ]
  },
  {
   "cell_type": "markdown",
   "id": "JFuEn9R-rEVs",
   "metadata": {
    "id": "JFuEn9R-rEVs"
   },
   "source": [
    "# Utility functions to save and load trained models"
   ]
  },
  {
   "cell_type": "code",
   "execution_count": null,
   "id": "GJVE0HHbrDaM",
   "metadata": {
    "executionInfo": {
     "elapsed": 7,
     "status": "ok",
     "timestamp": 1682880632590,
     "user": {
      "displayName": "Adedoyin Simeon",
      "userId": "06560907186348381188"
     },
     "user_tz": -60
    },
    "id": "GJVE0HHbrDaM"
   },
   "outputs": [],
   "source": [
    "def save_model_pickle(model, filename):\n",
    "    try:\n",
    "        pickle.dump(model, open(f'{MODEL_PATH}/{filename}', 'wb'))\n",
    "        print('Saved')\n",
    "    except Exception as err:\n",
    "        print(err)\n",
    "\n",
    "\n",
    "# Loading saved Pickle model\n",
    "def load_model_pickle(filename):\n",
    "    try:\n",
    "        model = pickle.load(open(f'{MODEL_PATH}/{filename}', 'rb'))\n",
    "        return model\n",
    "    except Exception as err:\n",
    "        print(err)\n",
    "        return None"
   ]
  },
  {
   "cell_type": "markdown",
   "id": "VizubLAnbjOl",
   "metadata": {
    "id": "VizubLAnbjOl"
   },
   "source": [
    "# Loading Dataset"
   ]
  },
  {
   "cell_type": "markdown",
   "id": "B5x7lrHsbne2",
   "metadata": {
    "id": "B5x7lrHsbne2"
   },
   "source": [
    "# Data Source\n",
    "- [Gender Pay Gap Dataset - Kaggle](https://www.kaggle.com/datasets/fedesoriano/gender-pay-gap-dataset)\n",
    "\n",
    "- Feature Description\n"
   ]
  },
  {
   "cell_type": "code",
   "execution_count": null,
   "id": "9x-xUnIg3Loo",
   "metadata": {
    "colab": {
     "base_uri": "https://localhost:8080/",
     "height": 300
    },
    "executionInfo": {
     "elapsed": 13380,
     "status": "ok",
     "timestamp": 1682619449926,
     "user": {
      "displayName": "Adedoyin Simeon",
      "userId": "06560907186348381188"
     },
     "user_tz": -60
    },
    "id": "9x-xUnIg3Loo",
    "outputId": "c04d6c47-5310-4ce8-db09-119f2fced182"
   },
   "outputs": [],
   "source": [
    "# reading dataset\n",
    "df1 = pd.read_csv(f'{DATASET_PATH}/CurrentPopulationSurvey.csv')\n",
    "df1.head()"
   ]
  },
  {
   "cell_type": "code",
   "execution_count": null,
   "id": "oju2FG1gDsPP",
   "metadata": {
    "id": "oju2FG1gDsPP"
   },
   "outputs": [],
   "source": [
    "# Generating employee_id column\n",
    "df1['employee_id'] = list(range(1, len(df1)+1))"
   ]
  },
  {
   "cell_type": "markdown",
   "id": "lGbcChjxQ9ED",
   "metadata": {
    "id": "lGbcChjxQ9ED"
   },
   "source": [
    "# EXPLORATORY DATA ANALYSIS (EDA)"
   ]
  },
  {
   "cell_type": "code",
   "execution_count": null,
   "id": "YYWh20Ze3PlV",
   "metadata": {
    "colab": {
     "base_uri": "https://localhost:8080/"
    },
    "executionInfo": {
     "elapsed": 39,
     "status": "ok",
     "timestamp": 1682619449928,
     "user": {
      "displayName": "Adedoyin Simeon",
      "userId": "06560907186348381188"
     },
     "user_tz": -60
    },
    "id": "YYWh20Ze3PlV",
    "outputId": "76c19541-d186-445b-b76f-d58ddfbfd2ea"
   },
   "outputs": [],
   "source": [
    "df1.shape"
   ]
  },
  {
   "cell_type": "code",
   "execution_count": null,
   "id": "15cbbfa3",
   "metadata": {
    "colab": {
     "base_uri": "https://localhost:8080/"
    },
    "executionInfo": {
     "elapsed": 32,
     "status": "ok",
     "timestamp": 1682619449928,
     "user": {
      "displayName": "Adedoyin Simeon",
      "userId": "06560907186348381188"
     },
     "user_tz": -60
    },
    "id": "15cbbfa3",
    "outputId": "ec0ae79f-c402-4e29-c251-04ecf6fa16bb"
   },
   "outputs": [],
   "source": [
    "#check shape\n",
    "print(f\"Total No of Rows: {df1.shape[0]} and Columns: {df1.shape[1]}\")"
   ]
  },
  {
   "cell_type": "code",
   "execution_count": null,
   "id": "7da4d1e0",
   "metadata": {
    "colab": {
     "base_uri": "https://localhost:8080/"
    },
    "executionInfo": {
     "elapsed": 24,
     "status": "ok",
     "timestamp": 1682619449929,
     "user": {
      "displayName": "Adedoyin Simeon",
      "userId": "06560907186348381188"
     },
     "user_tz": -60
    },
    "id": "7da4d1e0",
    "outputId": "421ddda2-3fbe-4cef-d97a-51b85546b7aa"
   },
   "outputs": [],
   "source": [
    "# basic info\n",
    "df1.info()"
   ]
  },
  {
   "cell_type": "code",
   "execution_count": null,
   "id": "bf907cb6",
   "metadata": {
    "colab": {
     "base_uri": "https://localhost:8080/"
    },
    "executionInfo": {
     "elapsed": 628,
     "status": "ok",
     "timestamp": 1682619450547,
     "user": {
      "displayName": "Adedoyin Simeon",
      "userId": "06560907186348381188"
     },
     "user_tz": -60
    },
    "id": "bf907cb6",
    "outputId": "b451b31b-b216-4c9e-d9d8-e6e66d414e7d"
   },
   "outputs": [],
   "source": [
    "# total no of unique values in each columns\n",
    "df1.nunique()"
   ]
  },
  {
   "cell_type": "code",
   "execution_count": null,
   "id": "b998f346",
   "metadata": {
    "colab": {
     "base_uri": "https://localhost:8080/"
    },
    "executionInfo": {
     "elapsed": 24,
     "status": "ok",
     "timestamp": 1682619450548,
     "user": {
      "displayName": "Adedoyin Simeon",
      "userId": "06560907186348381188"
     },
     "user_tz": -60
    },
    "id": "b998f346",
    "outputId": "5540f907-0493-4852-8d26-caba22bbc667"
   },
   "outputs": [],
   "source": [
    "# checking for null values\n",
    "df1.isnull().sum()"
   ]
  },
  {
   "cell_type": "code",
   "execution_count": null,
   "id": "AMMhVL4K6OGf",
   "metadata": {
    "colab": {
     "base_uri": "https://localhost:8080/"
    },
    "executionInfo": {
     "elapsed": 2341,
     "status": "ok",
     "timestamp": 1682619452877,
     "user": {
      "displayName": "Adedoyin Simeon",
      "userId": "06560907186348381188"
     },
     "user_tz": -60
    },
    "id": "AMMhVL4K6OGf",
    "outputId": "10585b60-99f9-482d-f768-26993761972d"
   },
   "outputs": [],
   "source": [
    "# Columns containing at least one null value(s)\n",
    "df1.isnull().sum()[df1.isnull().sum() > 0.0]"
   ]
  },
  {
   "cell_type": "code",
   "execution_count": null,
   "id": "33d96473",
   "metadata": {
    "colab": {
     "base_uri": "https://localhost:8080/"
    },
    "executionInfo": {
     "elapsed": 9,
     "status": "ok",
     "timestamp": 1682619452877,
     "user": {
      "displayName": "Adedoyin Simeon",
      "userId": "06560907186348381188"
     },
     "user_tz": -60
    },
    "id": "33d96473",
    "outputId": "f34f18fc-bc97-4777-e4ce-315e84371189"
   },
   "outputs": [],
   "source": [
    "# null values in %\n",
    "(df1.isnull().mean()[df1.isnull().mean() > 0.0] * 100).round(2)"
   ]
  },
  {
   "cell_type": "code",
   "execution_count": null,
   "id": "EM_0QGhg88Xq",
   "metadata": {
    "colab": {
     "base_uri": "https://localhost:8080/",
     "height": 581
    },
    "executionInfo": {
     "elapsed": 3342,
     "status": "ok",
     "timestamp": 1682619456214,
     "user": {
      "displayName": "Adedoyin Simeon",
      "userId": "06560907186348381188"
     },
     "user_tz": -60
    },
    "id": "EM_0QGhg88Xq",
    "outputId": "31184b62-ab54-42d2-bb0b-3a9081792dd0"
   },
   "outputs": [],
   "source": [
    "# Plotting Null Ratio for nullable columns\n",
    "missing_ratio = (df1.isnull().mean()[df1.isnull().mean() > 0.0] * 100).round(2).sort_values(ascending=False)\n",
    "pd.DataFrame(missing_ratio, columns=['Missing ratio %']).plot.bar()"
   ]
  },
  {
   "cell_type": "code",
   "execution_count": null,
   "id": "e6fd083a",
   "metadata": {
    "id": "e6fd083a"
   },
   "outputs": [],
   "source": [
    "# plt.figure(figsize=(12,7))\n",
    "# def plot_nas(df1: pd.DataFrame):\n",
    "#     if df1.isnull().sum().sum() != 0:\n",
    "#         na_df1 = ((df1.isnull().sum() / len(df1)) * 100).round(2)      \n",
    "#         na_df1 = na_df1.drop(na_df1[na_df1 == 0].index).sort_values(ascending=False)\n",
    "#         missing_data = pd.DataFrame({'Missing Ratio %' :na_df1})\n",
    "#         missing_data.plot(kind = \"bar\")\n",
    "#         plt.show()\n",
    "#     else:\n",
    "#         print('No NAs found')\n",
    "# plot_nas(df1)"
   ]
  },
  {
   "cell_type": "code",
   "execution_count": null,
   "id": "2c6b49b5",
   "metadata": {
    "colab": {
     "base_uri": "https://localhost:8080/",
     "height": 561
    },
    "executionInfo": {
     "elapsed": 4029,
     "status": "ok",
     "timestamp": 1682619460236,
     "user": {
      "displayName": "Adedoyin Simeon",
      "userId": "06560907186348381188"
     },
     "user_tz": -60
    },
    "id": "2c6b49b5",
    "outputId": "dfb1106b-258d-4b95-987e-4427822b9e88"
   },
   "outputs": [],
   "source": [
    "df1.isna().sum()[df1.isna().sum()>0].sort_values(ascending=False).plot(kind='bar')"
   ]
  },
  {
   "cell_type": "markdown",
   "id": "DBp06Oz3RD78",
   "metadata": {
    "id": "DBp06Oz3RD78"
   },
   "source": [
    "# FEATURE ENGINEERING AND SELECTION"
   ]
  },
  {
   "cell_type": "markdown",
   "id": "UZxCkuH6-VR6",
   "metadata": {
    "id": "UZxCkuH6-VR6"
   },
   "source": [
    "## Dropping some unnecessary columns"
   ]
  },
  {
   "cell_type": "code",
   "execution_count": null,
   "id": "dad17050",
   "metadata": {
    "id": "dad17050"
   },
   "outputs": [],
   "source": [
    "df1.drop([\n",
    "      'o_numprec','o_hwtsupp','o_gq','o_metro','o_metarea','o_county','o_farm',\n",
    "      'o_month','o_pernum','o_wtsupp','o_relate','o_bpl','o_mbpl','o_fbpl','o_nativity',\n",
    "      'o_educ99','o_schlcoll','o_occ1990','o_ind1990','o_occ1950','o_ind1950','o_classwkr',\n",
    "      'o_occly','o_occ50ly','o_indly','o_ind50ly','o_classwly','o_wkswork1','o_wkswork2',\n",
    "      'o_hrswork','o_incwage','o_incbus','o_incfarm','o_inclongj','o_oincwage','o_srcearn',\n",
    "      'o_ftype','o_quhrswor','o_qwkswork','o_qincbus','o_qincfarm','o_qincwage'\n",
    "    ],axis = 1, inplace = True)"
   ]
  },
  {
   "cell_type": "markdown",
   "id": "nZliE0Aw_HW9",
   "metadata": {
    "id": "nZliE0Aw_HW9"
   },
   "source": [
    "## Checking for duplicate records"
   ]
  },
  {
   "cell_type": "code",
   "execution_count": null,
   "id": "66aa75c8",
   "metadata": {
    "colab": {
     "base_uri": "https://localhost:8080/",
     "height": 35
    },
    "executionInfo": {
     "elapsed": 1505,
     "status": "ok",
     "timestamp": 1682619461732,
     "user": {
      "displayName": "Adedoyin Simeon",
      "userId": "06560907186348381188"
     },
     "user_tz": -60
    },
    "id": "66aa75c8",
    "outputId": "630df830-70cc-41c9-b1b4-5bc86b944c81"
   },
   "outputs": [],
   "source": [
    "# checking duplicated values\n",
    "np.all(df1.duplicated()) or 'No duplicate rows'"
   ]
  },
  {
   "cell_type": "code",
   "execution_count": null,
   "id": "d066d65a",
   "metadata": {
    "colab": {
     "base_uri": "https://localhost:8080/"
    },
    "executionInfo": {
     "elapsed": 4146,
     "status": "ok",
     "timestamp": 1682619465870,
     "user": {
      "displayName": "Adedoyin Simeon",
      "userId": "06560907186348381188"
     },
     "user_tz": -60
    },
    "id": "d066d65a",
    "outputId": "d5b8526e-addb-4923-cedb-eaae230e8252"
   },
   "outputs": [],
   "source": [
    "# chexking duplicated values\n",
    "df1.duplicated().sum()"
   ]
  },
  {
   "cell_type": "code",
   "execution_count": null,
   "id": "ebb5422c",
   "metadata": {
    "colab": {
     "base_uri": "https://localhost:8080/"
    },
    "executionInfo": {
     "elapsed": 32,
     "status": "ok",
     "timestamp": 1682619465871,
     "user": {
      "displayName": "Adedoyin Simeon",
      "userId": "06560907186348381188"
     },
     "user_tz": -60
    },
    "id": "ebb5422c",
    "outputId": "3cc61fb0-5aa8-4b0d-d8de-eb33ae7fa3a3"
   },
   "outputs": [],
   "source": [
    "df1.info()"
   ]
  },
  {
   "cell_type": "code",
   "execution_count": null,
   "id": "8060f713",
   "metadata": {
    "id": "8060f713"
   },
   "outputs": [],
   "source": [
    "df1.drop('o_statefip',axis = 1, inplace = True)"
   ]
  },
  {
   "cell_type": "code",
   "execution_count": null,
   "id": "40ad64c7",
   "metadata": {
    "id": "40ad64c7"
   },
   "outputs": [],
   "source": [
    "df1.drop('o_yrimmig',axis = 1, inplace = True)"
   ]
  },
  {
   "cell_type": "code",
   "execution_count": null,
   "id": "bdeba197",
   "metadata": {
    "colab": {
     "base_uri": "https://localhost:8080/"
    },
    "executionInfo": {
     "elapsed": 1938,
     "status": "ok",
     "timestamp": 1682619468323,
     "user": {
      "displayName": "Adedoyin Simeon",
      "userId": "06560907186348381188"
     },
     "user_tz": -60
    },
    "id": "bdeba197",
    "outputId": "7bc42555-8feb-48e5-825e-3feb46aed90d"
   },
   "outputs": [],
   "source": [
    "df1_records_dropped = df1.dropna(axis=0, how='any')\n",
    "df1_records_dropped.info()"
   ]
  },
  {
   "cell_type": "code",
   "execution_count": null,
   "id": "fb10c237",
   "metadata": {
    "colab": {
     "base_uri": "https://localhost:8080/",
     "height": 488
    },
    "executionInfo": {
     "elapsed": 5555,
     "status": "ok",
     "timestamp": 1682619473823,
     "user": {
      "displayName": "Adedoyin Simeon",
      "userId": "06560907186348381188"
     },
     "user_tz": -60
    },
    "id": "fb10c237",
    "outputId": "a5f086b2-c290-4b40-888a-fe68be01d341"
   },
   "outputs": [],
   "source": [
    "# statasic analysis\n",
    "df1.describe().T"
   ]
  },
  {
   "cell_type": "markdown",
   "id": "68168fd1",
   "metadata": {
    "id": "68168fd1"
   },
   "source": [
    "## More Exporatory Data Analysis (EDA)"
   ]
  },
  {
   "cell_type": "code",
   "execution_count": null,
   "id": "1539ae9a",
   "metadata": {
    "colab": {
     "base_uri": "https://localhost:8080/"
    },
    "executionInfo": {
     "elapsed": 1711,
     "status": "ok",
     "timestamp": 1682619476016,
     "user": {
      "displayName": "Adedoyin Simeon",
      "userId": "06560907186348381188"
     },
     "user_tz": -60
    },
    "id": "1539ae9a",
    "outputId": "cb2a61b8-3213-4299-eb5b-a247c15c76b1"
   },
   "outputs": [],
   "source": [
    "for col in df1.columns:\n",
    "    print(col, df1[col].unique(), sep=\":\\n\", end = \"\\n\\n\")"
   ]
  },
  {
   "cell_type": "code",
   "execution_count": null,
   "id": "39416c40",
   "metadata": {
    "colab": {
     "base_uri": "https://localhost:8080/",
     "height": 1000
    },
    "executionInfo": {
     "elapsed": 11023,
     "status": "ok",
     "timestamp": 1682619486923,
     "user": {
      "displayName": "Adedoyin Simeon",
      "userId": "06560907186348381188"
     },
     "user_tz": -60
    },
    "id": "39416c40",
    "outputId": "93cae9b8-60c7-4e79-9be9-171149b794ea"
   },
   "outputs": [],
   "source": [
    "df_numeric = df1[['hrwage', 'realhrwage', 'o_uhrswork', 'o_age',\n",
    " 'annhrs']]\n",
    "for i in df_numeric.columns:\n",
    " plt.figure(figsize=(5,2))\n",
    " sns.histplot(df1[i], bins = 10, kde = True, palette='hls')\n",
    " plt.xticks(rotation = 90)\n",
    " plt.show()\n"
   ]
  },
  {
   "cell_type": "code",
   "execution_count": null,
   "id": "73bf4fa5",
   "metadata": {
    "id": "73bf4fa5"
   },
   "outputs": [],
   "source": [
    "# for i in df_categorical.columns:\n",
    "#  plt.figure(figsize=(7,3))\n",
    "#  sns.boxplot(df1[i], palette='hls')\n",
    "#  plt.xticks(rotation = 90)\n",
    "#  plt.show()"
   ]
  },
  {
   "cell_type": "code",
   "execution_count": null,
   "id": "07b64e70",
   "metadata": {
    "id": "07b64e70"
   },
   "outputs": [],
   "source": [
    "df1.drop(['o_labforce','niincwage','incwageman','tcoincwage','tcinclongj','tcincwage'],axis = 1, inplace = True)"
   ]
  },
  {
   "cell_type": "code",
   "execution_count": null,
   "id": "69f51d98",
   "metadata": {
    "colab": {
     "base_uri": "https://localhost:8080/",
     "height": 488
    },
    "executionInfo": {
     "elapsed": 2052,
     "status": "ok",
     "timestamp": 1682619489870,
     "user": {
      "displayName": "Adedoyin Simeon",
      "userId": "06560907186348381188"
     },
     "user_tz": -60
    },
    "id": "69f51d98",
    "outputId": "00712df4-7506-48d0-bac4-e8e3165308a8"
   },
   "outputs": [],
   "source": [
    "# statasic analysis\n",
    "df1.describe().T"
   ]
  },
  {
   "cell_type": "code",
   "execution_count": null,
   "id": "e6b306c8",
   "metadata": {
    "id": "e6b306c8"
   },
   "outputs": [],
   "source": [
    "df1.drop('o_ind',axis = 1, inplace = True)"
   ]
  },
  {
   "cell_type": "code",
   "execution_count": null,
   "id": "40ff03b6",
   "metadata": {
    "id": "40ff03b6"
   },
   "outputs": [],
   "source": [
    "# They are single-valued variables (columns), won't contribute anything\n",
    "df1.drop(['selfemp','military','employed','groupquar','origrace','potexp2','expendbase10'],axis = 1, inplace = True)"
   ]
  },
  {
   "cell_type": "code",
   "execution_count": null,
   "id": "e0c0c4d0",
   "metadata": {
    "colab": {
     "base_uri": "https://localhost:8080/",
     "height": 488
    },
    "executionInfo": {
     "elapsed": 2209,
     "status": "ok",
     "timestamp": 1682619492729,
     "user": {
      "displayName": "Adedoyin Simeon",
      "userId": "06560907186348381188"
     },
     "user_tz": -60
    },
    "id": "e0c0c4d0",
    "outputId": "b802da09-acdf-4b3e-ce19-8da89a2b09e8"
   },
   "outputs": [],
   "source": [
    "# statasic analysis\n",
    "df1.describe().T"
   ]
  },
  {
   "cell_type": "code",
   "execution_count": null,
   "id": "279d29e2",
   "metadata": {
    "colab": {
     "base_uri": "https://localhost:8080/",
     "height": 407
    },
    "executionInfo": {
     "elapsed": 4273,
     "status": "ok",
     "timestamp": 1682619496983,
     "user": {
      "displayName": "Adedoyin Simeon",
      "userId": "06560907186348381188"
     },
     "user_tz": -60
    },
    "id": "279d29e2",
    "outputId": "3aa613c0-432b-445e-bdee-72f60fd71017"
   },
   "outputs": [],
   "source": [
    "# plot melted dataframe in a single command\n",
    "sns.histplot(df_numeric.melt(), x='value', hue='variable',\n",
    "             multiple='dodge', shrink=.75, bins=10);"
   ]
  },
  {
   "cell_type": "markdown",
   "id": "ELTtRoRvlyei",
   "metadata": {
    "id": "ELTtRoRvlyei"
   },
   "source": [
    "## Correlation analysis for feature selection purposes"
   ]
  },
  {
   "cell_type": "code",
   "execution_count": null,
   "id": "6d22b221",
   "metadata": {
    "id": "6d22b221"
   },
   "outputs": [],
   "source": [
    "corr_matrix = df1.corr().abs()\n",
    "#the matrix is symmetric so we need to extract upper triangle matrix without diagonal (k = 1)\n",
    "\n",
    "sol = (corr_matrix.where(np.triu(np.ones(corr_matrix.shape), k=1).astype(bool))\n",
    "                  .stack()\n",
    "                  .sort_values(ascending=False))\n",
    "\n",
    "#first element of sol series is the pair with the biggest correlation"
   ]
  },
  {
   "cell_type": "code",
   "execution_count": null,
   "id": "4ec1214e",
   "metadata": {
    "colab": {
     "base_uri": "https://localhost:8080/"
    },
    "executionInfo": {
     "elapsed": 479,
     "status": "ok",
     "timestamp": 1682619526704,
     "user": {
      "displayName": "Adedoyin Simeon",
      "userId": "06560907186348381188"
     },
     "user_tz": -60
    },
    "id": "4ec1214e",
    "outputId": "a61bb00f-deb1-4c64-8e5e-b5c046865b56"
   },
   "outputs": [],
   "source": [
    "sol"
   ]
  },
  {
   "cell_type": "code",
   "execution_count": null,
   "id": "fdfc3a04",
   "metadata": {
    "colab": {
     "base_uri": "https://localhost:8080/",
     "height": 373
    },
    "executionInfo": {
     "elapsed": 34222,
     "status": "ok",
     "timestamp": 1682619560492,
     "user": {
      "displayName": "Adedoyin Simeon",
      "userId": "06560907186348381188"
     },
     "user_tz": -60
    },
    "id": "fdfc3a04",
    "outputId": "88362fc2-5991-4602-c968-7f0ed2331946"
   },
   "outputs": [],
   "source": [
    "plt.figure(figsize=(14,10))\n",
    "dfCorr = df1.corr()\n",
    "filteredDf = dfCorr[((dfCorr >= .5) | (dfCorr <= -.5)) & (dfCorr !=1.000)]\n",
    "plt.figure(figsize=(30,10))\n",
    "sns.heatmap(filteredDf, annot=True, cmap=\"Reds\")\n",
    "plt.show()"
   ]
  },
  {
   "cell_type": "markdown",
   "id": "86668f60",
   "metadata": {
    "id": "86668f60"
   },
   "source": [
    "#In the end, I created a small function to create the correlation matrix, filter it, and then flatten it. \n",
    "\n",
    "# As an idea, could easily be extended\n",
    "e.g. asymmetric upper and lower bounds, etc."
   ]
  },
  {
   "cell_type": "code",
   "execution_count": null,
   "id": "927a48de",
   "metadata": {
    "colab": {
     "base_uri": "https://localhost:8080/"
    },
    "executionInfo": {
     "elapsed": 46313,
     "status": "ok",
     "timestamp": 1682619606721,
     "user": {
      "displayName": "Adedoyin Simeon",
      "userId": "06560907186348381188"
     },
     "user_tz": -60
    },
    "id": "927a48de",
    "outputId": "9614ce66-82d0-4f69-a2a1-c43f707edf0e"
   },
   "outputs": [],
   "source": [
    "def corrFilter(df1: pd.DataFrame, bound: float):\n",
    "    df1Corr = df1.corr()\n",
    "    df1Filtered = df1Corr[((df1Corr >= bound) | (df1Corr <= -bound)) & (df1Corr != 1.000)]\n",
    "    df1Flattened = df1Filtered.unstack().sort_values().drop_duplicates()\n",
    "    return df1Flattened\n",
    "\n",
    "res = corrFilter(df1, .7)\n",
    "res"
   ]
  },
  {
   "cell_type": "markdown",
   "id": "_MbDm9R0Rf6I",
   "metadata": {
    "id": "_MbDm9R0Rf6I"
   },
   "source": [
    "## Accesing Multi-Collinearity among features\n",
    "\n",
    "**In general, an absolute correlation coefficient of >0.7 among two or more predictors indicates the presence of multicollinearity. Therefore, one of the following features will be dropped for the other.**"
   ]
  },
  {
   "cell_type": "code",
   "execution_count": null,
   "id": "vX4dKcgsFs-0",
   "metadata": {
    "id": "vX4dKcgsFs-0"
   },
   "outputs": [],
   "source": [
    "first = [x for x,_ in res.index]\n",
    "second = [y for _,y in res.index]\n",
    "multi_col_attr = pd.DataFrame(zip(first, second), columns=['first', 'second'])"
   ]
  },
  {
   "cell_type": "code",
   "execution_count": null,
   "id": "x5hE3lIvKSZS",
   "metadata": {
    "colab": {
     "base_uri": "https://localhost:8080/",
     "height": 677
    },
    "executionInfo": {
     "elapsed": 915,
     "status": "ok",
     "timestamp": 1682619606724,
     "user": {
      "displayName": "Adedoyin Simeon",
      "userId": "06560907186348381188"
     },
     "user_tz": -60
    },
    "id": "x5hE3lIvKSZS",
    "outputId": "6a4bf79c-5ec0-45b4-f303-1f2bc6809d17"
   },
   "outputs": [],
   "source": [
    "multi_col_attr.head(20)"
   ]
  },
  {
   "cell_type": "code",
   "execution_count": null,
   "id": "GFYPGszpKYSV",
   "metadata": {
    "colab": {
     "base_uri": "https://localhost:8080/",
     "height": 677
    },
    "executionInfo": {
     "elapsed": 910,
     "status": "ok",
     "timestamp": 1682619606724,
     "user": {
      "displayName": "Adedoyin Simeon",
      "userId": "06560907186348381188"
     },
     "user_tz": -60
    },
    "id": "GFYPGszpKYSV",
    "outputId": "2101701f-0d96-4eb9-ec67-5a6b04094eb3"
   },
   "outputs": [],
   "source": [
    "multi_col_attr.iloc[20:40]"
   ]
  },
  {
   "cell_type": "code",
   "execution_count": null,
   "id": "Tskc0yLPLwQj",
   "metadata": {
    "colab": {
     "base_uri": "https://localhost:8080/",
     "height": 677
    },
    "executionInfo": {
     "elapsed": 914,
     "status": "ok",
     "timestamp": 1682619606733,
     "user": {
      "displayName": "Adedoyin Simeon",
      "userId": "06560907186348381188"
     },
     "user_tz": -60
    },
    "id": "Tskc0yLPLwQj",
    "outputId": "3eeb998c-1ce6-4b63-81d4-b7e13286f009"
   },
   "outputs": [],
   "source": [
    "multi_col_attr.iloc[40:60]"
   ]
  },
  {
   "cell_type": "markdown",
   "id": "phlZzs_PRv42",
   "metadata": {
    "id": "phlZzs_PRv42"
   },
   "source": [
    "**Some important columns I always want to retain**"
   ]
  },
  {
   "cell_type": "code",
   "execution_count": null,
   "id": "sg_fGHwnKnXN",
   "metadata": {
    "colab": {
     "base_uri": "https://localhost:8080/"
    },
    "executionInfo": {
     "elapsed": 914,
     "status": "ok",
     "timestamp": 1682619606737,
     "user": {
      "displayName": "Adedoyin Simeon",
      "userId": "06560907186348381188"
     },
     "user_tz": -60
    },
    "id": "sg_fGHwnKnXN",
    "outputId": "c507f4be-37f0-46d5-f593-6f8d797a312f"
   },
   "outputs": [],
   "source": [
    "COLS_TO_EXEMPT = ['educ99','sch', 'uhrswork', 'white', 'black', 'hisp', 'othrace', 'ba', 'adv', 'realhrwage', \n",
    "                  'northeast','northcentral', 'south','west', 'classwkr', 'citizen', 'ft', 'employee_id', 'inclongj'\n",
    "                  ]\n",
    "\n",
    "# Selected Columns that must be included\n",
    "print(COLS_TO_EXEMPT)"
   ]
  },
  {
   "cell_type": "markdown",
   "id": "unTqq9Z3R2_l",
   "metadata": {
    "id": "unTqq9Z3R2_l"
   },
   "source": [
    "### More Feature Engineering and Selection (Contn'd)"
   ]
  },
  {
   "cell_type": "code",
   "execution_count": null,
   "id": "3sKKZCv6I1Y8",
   "metadata": {
    "id": "3sKKZCv6I1Y8"
   },
   "outputs": [],
   "source": [
    "# Selecting columns to be dropped\n",
    "cols_to_drop = [\n",
    "    'perconexp','year','wagesamp','race', 'educorig', 'region', 'ind_orig', 'farmer', 'ind','serial', 'qwkswork',\n",
    "    'fbpl','o_region', 'bpl', 'occ1990','occ_1990', 'occ_1999', 'mbpl', 'ftype', 'relate', 'ind_2007_orig', 'ind2000_90', 'ind2000_99',\n",
    "    'o_hispan', 'ind50ly', 'ind_2002_orig', 'ind_2000', 'classwly', 'occ1990', 'adj_ind', 'ind_1990', 'occ2000_90', 'occ2000_99', \n",
    "    'ind_2007_orig', 'ind_1999', 'o_citizen', 'ind1950', 'ind_2002_orig', 'o_race', 'ind_81', 'o_uhrswork', 'lnrwg'\n",
    "]\n",
    "\n",
    "for i in range(len(multi_col_attr)):\n",
    "    curr = multi_col_attr.iloc[i]\n",
    "    first = curr['first']\n",
    "    sec = curr['second']\n",
    "\n",
    "    if first not in cols_to_drop and first not in COLS_TO_EXEMPT:\n",
    "        cols_to_drop.append(first)\n",
    "    elif sec not in cols_to_drop and sec not in COLS_TO_EXEMPT:\n",
    "        cols_to_drop.append(sec)\n"
   ]
  },
  {
   "cell_type": "code",
   "execution_count": null,
   "id": "aRp8-8FJTk99",
   "metadata": {
    "colab": {
     "base_uri": "https://localhost:8080/"
    },
    "executionInfo": {
     "elapsed": 893,
     "status": "ok",
     "timestamp": 1682619606747,
     "user": {
      "displayName": "Adedoyin Simeon",
      "userId": "06560907186348381188"
     },
     "user_tz": -60
    },
    "id": "aRp8-8FJTk99",
    "outputId": "d4d6b372-02ab-407a-90d3-054542be5050"
   },
   "outputs": [],
   "source": [
    "# Multi-collinear columns to be deleted\n",
    "sorted(cols_to_drop.copy())"
   ]
  },
  {
   "cell_type": "code",
   "execution_count": null,
   "id": "xW7ZrWTTVU4t",
   "metadata": {
    "colab": {
     "base_uri": "https://localhost:8080/"
    },
    "executionInfo": {
     "elapsed": 880,
     "status": "ok",
     "timestamp": 1682619606748,
     "user": {
      "displayName": "Adedoyin Simeon",
      "userId": "06560907186348381188"
     },
     "user_tz": -60
    },
    "id": "xW7ZrWTTVU4t",
    "outputId": "b9be67ad-810b-4f33-a395-eb715a31b399"
   },
   "outputs": [],
   "source": [
    "# Dropping one of the multi-collinear columns\n",
    "print(f'Number of Collinnear columns to drop: {len(cols_to_drop)}')\n",
    "df1.drop(columns=cols_to_drop, inplace=True)"
   ]
  },
  {
   "cell_type": "code",
   "execution_count": null,
   "id": "ftFGzcziYX_q",
   "metadata": {
    "colab": {
     "base_uri": "https://localhost:8080/",
     "height": 300
    },
    "executionInfo": {
     "elapsed": 871,
     "status": "ok",
     "timestamp": 1682619606751,
     "user": {
      "displayName": "Adedoyin Simeon",
      "userId": "06560907186348381188"
     },
     "user_tz": -60
    },
    "id": "ftFGzcziYX_q",
    "outputId": "a185cd4b-b824-4d06-e594-f84078eec1bb"
   },
   "outputs": [],
   "source": [
    "df1.head()"
   ]
  },
  {
   "cell_type": "code",
   "execution_count": null,
   "id": "fdd0ee0d",
   "metadata": {
    "colab": {
     "base_uri": "https://localhost:8080/"
    },
    "executionInfo": {
     "elapsed": 867,
     "status": "ok",
     "timestamp": 1682619606753,
     "user": {
      "displayName": "Adedoyin Simeon",
      "userId": "06560907186348381188"
     },
     "user_tz": -60
    },
    "id": "fdd0ee0d",
    "outputId": "de3358e8-db79-4611-bc4c-49d23e7772e2"
   },
   "outputs": [],
   "source": [
    "df1.info()"
   ]
  },
  {
   "cell_type": "markdown",
   "id": "bG6Enj6BarqM",
   "metadata": {
    "id": "bG6Enj6BarqM"
   },
   "source": [
    "## Dropping columns having more than 30% missing data and columns having a single value data points"
   ]
  },
  {
   "cell_type": "code",
   "execution_count": null,
   "id": "yqgotd0AY_YP",
   "metadata": {
    "colab": {
     "base_uri": "https://localhost:8080/"
    },
    "executionInfo": {
     "elapsed": 857,
     "status": "ok",
     "timestamp": 1682619606754,
     "user": {
      "displayName": "Adedoyin Simeon",
      "userId": "06560907186348381188"
     },
     "user_tz": -60
    },
    "id": "yqgotd0AY_YP",
    "outputId": "77a9544f-763e-45fb-a446-dbab04253ecb"
   },
   "outputs": [],
   "source": [
    "cols_with_over_30_perc_missing_data = df1.isna().mean()[df1.isna().mean() * 100 > 30.0] * 100\n",
    "cols_with_over_30_perc_missing_data"
   ]
  },
  {
   "cell_type": "code",
   "execution_count": null,
   "id": "5dCTgKwZYmJ9",
   "metadata": {
    "colab": {
     "base_uri": "https://localhost:8080/"
    },
    "executionInfo": {
     "elapsed": 851,
     "status": "ok",
     "timestamp": 1682619606756,
     "user": {
      "displayName": "Adedoyin Simeon",
      "userId": "06560907186348381188"
     },
     "user_tz": -60
    },
    "id": "5dCTgKwZYmJ9",
    "outputId": "92da6b48-4f33-440c-a3bd-585875055365"
   },
   "outputs": [],
   "source": [
    "more_cols_to_drop = list(cols_with_over_30_perc_missing_data.index)\n",
    "\n",
    "# Drop single valued columns\n",
    "for col in df1.columns:\n",
    "    if df1[col].nunique() < 2 and col not in more_cols_to_drop:\n",
    "        more_cols_to_drop.append(col)\n",
    "\n",
    "# exempt the selected column names\n",
    "for col in COLS_TO_EXEMPT:\n",
    "    if col in more_cols_to_drop:\n",
    "        more_cols_to_drop.remove(col)\n",
    "\n",
    "print(f'No of more columns to drop: {len(more_cols_to_drop)}')\n",
    "print(more_cols_to_drop)"
   ]
  },
  {
   "cell_type": "code",
   "execution_count": null,
   "id": "5lYdc0fua5KO",
   "metadata": {
    "id": "5lYdc0fua5KO"
   },
   "outputs": [],
   "source": [
    "df1.drop(columns=more_cols_to_drop, inplace=True)"
   ]
  },
  {
   "cell_type": "code",
   "execution_count": null,
   "id": "T9vMLaU4dJyk",
   "metadata": {
    "colab": {
     "base_uri": "https://localhost:8080/",
     "height": 300
    },
    "executionInfo": {
     "elapsed": 773,
     "status": "ok",
     "timestamp": 1682619606759,
     "user": {
      "displayName": "Adedoyin Simeon",
      "userId": "06560907186348381188"
     },
     "user_tz": -60
    },
    "id": "T9vMLaU4dJyk",
    "outputId": "9b706c2d-e51d-4741-af90-233130089a32"
   },
   "outputs": [],
   "source": [
    "df1.head()"
   ]
  },
  {
   "cell_type": "code",
   "execution_count": null,
   "id": "l439ECFJbKBX",
   "metadata": {
    "colab": {
     "base_uri": "https://localhost:8080/"
    },
    "executionInfo": {
     "elapsed": 721,
     "status": "ok",
     "timestamp": 1682619606760,
     "user": {
      "displayName": "Adedoyin Simeon",
      "userId": "06560907186348381188"
     },
     "user_tz": -60
    },
    "id": "l439ECFJbKBX",
    "outputId": "75e00c65-732f-4108-bf11-20f66b51e22e"
   },
   "outputs": [],
   "source": [
    "df1.info()"
   ]
  },
  {
   "cell_type": "markdown",
   "id": "eHLvdYSGbMVk",
   "metadata": {
    "id": "eHLvdYSGbMVk"
   },
   "source": [
    "## Dropping more columns based on understanding of data captured as described on the dataset kaggle webpage"
   ]
  },
  {
   "cell_type": "code",
   "execution_count": null,
   "id": "Ld_jc9TOf6wW",
   "metadata": {
    "colab": {
     "base_uri": "https://localhost:8080/",
     "height": 488
    },
    "executionInfo": {
     "elapsed": 3872,
     "status": "ok",
     "timestamp": 1682619609973,
     "user": {
      "displayName": "Adedoyin Simeon",
      "userId": "06560907186348381188"
     },
     "user_tz": -60
    },
    "id": "Ld_jc9TOf6wW",
    "outputId": "28f113aa-fa9d-48b7-9a56-799ddc4287e5"
   },
   "outputs": [],
   "source": [
    "df_corr = df1.drop(columns='adj_occ2name').corr()\n",
    "ab = df1.drop(columns='adj_occ2name').corr()[((df_corr > 0.5) & (df_corr < 1.0))].dropna(thresh=1, axis=1).replace(np.NaN, '-')\n",
    "ab.dropna(thresh=1, axis=0)"
   ]
  },
  {
   "cell_type": "markdown",
   "id": "f88Fd8iOShy_",
   "metadata": {
    "id": "f88Fd8iOShy_"
   },
   "source": [
    "**Selected Columns that must always be included, selected based on domain knowledge**"
   ]
  },
  {
   "cell_type": "code",
   "execution_count": null,
   "id": "BjmbdvlbOftq",
   "metadata": {
    "colab": {
     "base_uri": "https://localhost:8080/"
    },
    "executionInfo": {
     "elapsed": 96,
     "status": "ok",
     "timestamp": 1682619609974,
     "user": {
      "displayName": "Adedoyin Simeon",
      "userId": "06560907186348381188"
     },
     "user_tz": -60
    },
    "id": "BjmbdvlbOftq",
    "outputId": "393ac19f-d144-4818-9644-dfd237ff4d46"
   },
   "outputs": [],
   "source": [
    "# Selected Columns that must always be included, selected based on domain knowledge, as described on data homepage\n",
    "print(COLS_TO_EXEMPT)"
   ]
  },
  {
   "cell_type": "markdown",
   "id": "fNlnGgS5SmeG",
   "metadata": {
    "id": "fNlnGgS5SmeG"
   },
   "source": []
  },
  {
   "cell_type": "code",
   "execution_count": null,
   "id": "sIK2ny5yMj_I",
   "metadata": {
    "colab": {
     "base_uri": "https://localhost:8080/"
    },
    "executionInfo": {
     "elapsed": 585,
     "status": "ok",
     "timestamp": 1682620058424,
     "user": {
      "displayName": "Adedoyin Simeon",
      "userId": "06560907186348381188"
     },
     "user_tz": -60
    },
    "id": "sIK2ny5yMj_I",
    "outputId": "a3421a56-9537-4c6b-dce4-c7d91c3ec42c"
   },
   "outputs": [],
   "source": [
    "df1.info()"
   ]
  },
  {
   "cell_type": "markdown",
   "id": "xuE3VFimSqdY",
   "metadata": {
    "id": "xuE3VFimSqdY"
   },
   "source": [
    "### More columns to remove based on domain knowledge of dataset (Kaggle dataset attribute descriptions)"
   ]
  },
  {
   "cell_type": "code",
   "execution_count": null,
   "id": "OV54fLEWEBZO",
   "metadata": {
    "id": "OV54fLEWEBZO"
   },
   "outputs": [],
   "source": [
    "# more_cols_to_drop = ['hwtsupp', 'statefip', 'qincfarm', 'o_educ']\n",
    "\n",
    "more_cols_to_drop = ['adj_occ2name', 'o_marst', 'o_empstat', 'o_union', 'union', 'oincwage', 'hrswork',\n",
    "      'srcearn', 'hdwfcoh', 'un_lnrealwg', 'numprec', 'pernum', 'qincfarm', 'wtsupp', 'o_age', 'o_occ',\n",
    "      'hrwage'\n",
    "    ]"
   ]
  },
  {
   "cell_type": "code",
   "execution_count": null,
   "id": "tciJ1gXJJrhw",
   "metadata": {
    "id": "tciJ1gXJJrhw"
   },
   "outputs": [],
   "source": [
    "# more_cols_to_drop = ['hrwage']"
   ]
  },
  {
   "cell_type": "code",
   "execution_count": null,
   "id": "XfwLg9OHLZ2i",
   "metadata": {
    "colab": {
     "base_uri": "https://localhost:8080/"
    },
    "executionInfo": {
     "elapsed": 1216,
     "status": "ok",
     "timestamp": 1682620447299,
     "user": {
      "displayName": "Adedoyin Simeon",
      "userId": "06560907186348381188"
     },
     "user_tz": -60
    },
    "id": "XfwLg9OHLZ2i",
    "outputId": "fee266b4-d101-486e-fdb6-501f6c5a21a6"
   },
   "outputs": [],
   "source": [
    "df1.info()"
   ]
  },
  {
   "cell_type": "code",
   "execution_count": null,
   "id": "OmI7uAGRMdl_",
   "metadata": {
    "id": "OmI7uAGRMdl_"
   },
   "outputs": [],
   "source": [
    "df1.drop(columns=more_cols_to_drop, inplace=True)"
   ]
  },
  {
   "cell_type": "code",
   "execution_count": null,
   "id": "9-6rY9eOQn8j",
   "metadata": {
    "colab": {
     "base_uri": "https://localhost:8080/"
    },
    "executionInfo": {
     "elapsed": 6,
     "status": "ok",
     "timestamp": 1682620498765,
     "user": {
      "displayName": "Adedoyin Simeon",
      "userId": "06560907186348381188"
     },
     "user_tz": -60
    },
    "id": "9-6rY9eOQn8j",
    "outputId": "a825caea-43d0-469f-8419-be8540638171"
   },
   "outputs": [],
   "source": [
    "df1.info()"
   ]
  },
  {
   "cell_type": "markdown",
   "id": "sY7X5_1aQy-j",
   "metadata": {
    "id": "sY7X5_1aQy-j"
   },
   "source": [
    "# DATA PREPROCESSING\n",
    "\n",
    "**Having selected relevant features, the result of Feature Engineering carried out, We now have a working dataset to be preprocessed and used**"
   ]
  },
  {
   "cell_type": "code",
   "execution_count": null,
   "id": "0KjMKnHmQxR6",
   "metadata": {
    "colab": {
     "base_uri": "https://localhost:8080/",
     "height": 300
    },
    "executionInfo": {
     "elapsed": 827,
     "status": "ok",
     "timestamp": 1682620553972,
     "user": {
      "displayName": "Adedoyin Simeon",
      "userId": "06560907186348381188"
     },
     "user_tz": -60
    },
    "id": "0KjMKnHmQxR6",
    "outputId": "fa959b7f-b5e8-4b41-d8c1-7d850bcf574e"
   },
   "outputs": [],
   "source": [
    "df1.head()"
   ]
  },
  {
   "cell_type": "code",
   "execution_count": null,
   "id": "5Kn3gi87TSxU",
   "metadata": {
    "colab": {
     "base_uri": "https://localhost:8080/"
    },
    "executionInfo": {
     "elapsed": 916,
     "status": "ok",
     "timestamp": 1682620576759,
     "user": {
      "displayName": "Adedoyin Simeon",
      "userId": "06560907186348381188"
     },
     "user_tz": -60
    },
    "id": "5Kn3gi87TSxU",
    "outputId": "420e53e0-9e40-4695-b660-927831f9670e"
   },
   "outputs": [],
   "source": [
    "df1.info()"
   ]
  },
  {
   "cell_type": "code",
   "execution_count": null,
   "id": "dvdNzT3vTVJO",
   "metadata": {
    "colab": {
     "base_uri": "https://localhost:8080/"
    },
    "executionInfo": {
     "elapsed": 567,
     "status": "ok",
     "timestamp": 1682620590162,
     "user": {
      "displayName": "Adedoyin Simeon",
      "userId": "06560907186348381188"
     },
     "user_tz": -60
    },
    "id": "dvdNzT3vTVJO",
    "outputId": "d6119729-3982-459d-bb15-eb63fcea092b"
   },
   "outputs": [],
   "source": [
    "print(f'Total Observations (Rows): {df1.shape[0]}')\n",
    "print(f'Total Variable size (Columns): {df1.shape[1]}')"
   ]
  },
  {
   "cell_type": "markdown",
   "id": "YtibjAEIcVvs",
   "metadata": {
    "id": "YtibjAEIcVvs"
   },
   "source": [
    "# Exploring The Data to know how to preprocess it"
   ]
  },
  {
   "cell_type": "code",
   "execution_count": null,
   "id": "JsVzViTHcJyJ",
   "metadata": {
    "colab": {
     "base_uri": "https://localhost:8080/",
     "height": 300
    },
    "executionInfo": {
     "elapsed": 439,
     "status": "ok",
     "timestamp": 1682620596445,
     "user": {
      "displayName": "Adedoyin Simeon",
      "userId": "06560907186348381188"
     },
     "user_tz": -60
    },
    "id": "JsVzViTHcJyJ",
    "outputId": "5d5f3ade-3454-4501-d854-25fbc74965dc"
   },
   "outputs": [],
   "source": [
    "df1.head()"
   ]
  },
  {
   "cell_type": "markdown",
   "id": "7zcXh7VaxShO",
   "metadata": {
    "id": "7zcXh7VaxShO"
   },
   "source": [
    "## Exploring Dummy and Non-Dummy Variables (Columns)"
   ]
  },
  {
   "cell_type": "code",
   "execution_count": null,
   "id": "8EtWTP5Nczpp",
   "metadata": {
    "colab": {
     "base_uri": "https://localhost:8080/"
    },
    "executionInfo": {
     "elapsed": 612,
     "status": "ok",
     "timestamp": 1682620604612,
     "user": {
      "displayName": "Adedoyin Simeon",
      "userId": "06560907186348381188"
     },
     "user_tz": -60
    },
    "id": "8EtWTP5Nczpp",
    "outputId": "94df8ff8-ebd4-4637-9f87-ab6ec4122144"
   },
   "outputs": [],
   "source": [
    "# Viewing all non-dummy variables\n",
    "non_dummy_cols = []\n",
    "for col in df1.columns[:-1]:\n",
    "    unique_values = df1[col].unique()\n",
    "    if not (len(unique_values) == 2 and 1 in unique_values and 0 in unique_values):\n",
    "        non_dummy_cols.append(col)\n",
    "\n",
    "print('Non-Dummy Columns: ')\n",
    "print(non_dummy_cols)"
   ]
  },
  {
   "cell_type": "code",
   "execution_count": null,
   "id": "ZjB1-rD6xnRO",
   "metadata": {
    "colab": {
     "base_uri": "https://localhost:8080/"
    },
    "executionInfo": {
     "elapsed": 1364,
     "status": "ok",
     "timestamp": 1682620621911,
     "user": {
      "displayName": "Adedoyin Simeon",
      "userId": "06560907186348381188"
     },
     "user_tz": -60
    },
    "id": "ZjB1-rD6xnRO",
    "outputId": "c1fb1109-5555-494e-dc5e-4d826ec53330"
   },
   "outputs": [],
   "source": [
    "# Dummy Variables (Columns)\n",
    "df1.drop(columns=non_dummy_cols).info()"
   ]
  },
  {
   "cell_type": "markdown",
   "id": "4ejRf4Hcymmz",
   "metadata": {
    "id": "4ejRf4Hcymmz"
   },
   "source": [
    "---\n",
    "**NOTE:** \n",
    "- For dummy variables it can be observed that there are no missing data and obviously no cleaning necessary, since all columns contains values [0,1]\n",
    "\n",
    "---"
   ]
  },
  {
   "cell_type": "code",
   "execution_count": null,
   "id": "G2g-KIbmxY8_",
   "metadata": {
    "colab": {
     "base_uri": "https://localhost:8080/",
     "height": 270
    },
    "executionInfo": {
     "elapsed": 1362,
     "status": "ok",
     "timestamp": 1682591032144,
     "user": {
      "displayName": "Adedoyin Simeon",
      "userId": "06560907186348381188"
     },
     "user_tz": -60
    },
    "id": "G2g-KIbmxY8_",
    "outputId": "846ea6e8-16e1-434c-ab9d-ce3a794ea4d0"
   },
   "outputs": [],
   "source": [
    "# Non-Dummy Variables (columns)\n",
    "df1[non_dummy_cols].head()"
   ]
  },
  {
   "cell_type": "code",
   "execution_count": null,
   "id": "wjZ4tjCsxm6q",
   "metadata": {
    "colab": {
     "base_uri": "https://localhost:8080/"
    },
    "executionInfo": {
     "elapsed": 1383,
     "status": "ok",
     "timestamp": 1682620678955,
     "user": {
      "displayName": "Adedoyin Simeon",
      "userId": "06560907186348381188"
     },
     "user_tz": -60
    },
    "id": "wjZ4tjCsxm6q",
    "outputId": "e479d640-3a3d-4e97-aafd-448dd131960b"
   },
   "outputs": [],
   "source": [
    "df1[non_dummy_cols].info()"
   ]
  },
  {
   "cell_type": "code",
   "execution_count": null,
   "id": "dnrux-0fxmW3",
   "metadata": {
    "id": "dnrux-0fxmW3"
   },
   "outputs": [],
   "source": [
    "df_non_dummy = df1[non_dummy_cols]"
   ]
  },
  {
   "cell_type": "markdown",
   "id": "eu9Vo5TFziaK",
   "metadata": {
    "id": "eu9Vo5TFziaK"
   },
   "source": [
    "### Treating missing data (nullables) "
   ]
  },
  {
   "cell_type": "code",
   "execution_count": null,
   "id": "LyFuE5Wsxlrk",
   "metadata": {
    "colab": {
     "base_uri": "https://localhost:8080/"
    },
    "executionInfo": {
     "elapsed": 1084,
     "status": "ok",
     "timestamp": 1682620692847,
     "user": {
      "displayName": "Adedoyin Simeon",
      "userId": "06560907186348381188"
     },
     "user_tz": -60
    },
    "id": "LyFuE5Wsxlrk",
    "outputId": "400a5c54-2010-4a7d-f246-4248c0d78e74"
   },
   "outputs": [],
   "source": [
    "df_non_dummy.isna().sum()"
   ]
  },
  {
   "cell_type": "markdown",
   "id": "P9g7a1F60zCF",
   "metadata": {
    "id": "P9g7a1F60zCF"
   },
   "source": [
    "#### Metro"
   ]
  },
  {
   "cell_type": "code",
   "execution_count": null,
   "id": "CEZk_j152PHx",
   "metadata": {
    "colab": {
     "base_uri": "https://localhost:8080/"
    },
    "executionInfo": {
     "elapsed": 504,
     "status": "ok",
     "timestamp": 1682620699759,
     "user": {
      "displayName": "Adedoyin Simeon",
      "userId": "06560907186348381188"
     },
     "user_tz": -60
    },
    "id": "CEZk_j152PHx",
    "outputId": "44d7285b-6485-4c44-d6f0-aecb8fdb1a16"
   },
   "outputs": [],
   "source": [
    "# % of missing data\n",
    "print(f'% of missing data in \"metro\" column: {np.round(df_non_dummy.metro.isna().mean() * 100, 2)}%')"
   ]
  },
  {
   "cell_type": "code",
   "execution_count": null,
   "id": "5Bs_owfxz40T",
   "metadata": {
    "colab": {
     "base_uri": "https://localhost:8080/"
    },
    "executionInfo": {
     "elapsed": 4,
     "status": "ok",
     "timestamp": 1682620700901,
     "user": {
      "displayName": "Adedoyin Simeon",
      "userId": "06560907186348381188"
     },
     "user_tz": -60
    },
    "id": "5Bs_owfxz40T",
    "outputId": "33712da7-7d7d-4e38-ae19-488ab7bd477a"
   },
   "outputs": [],
   "source": [
    "df_non_dummy.metro.value_counts()"
   ]
  },
  {
   "cell_type": "code",
   "execution_count": null,
   "id": "UUibctiFz4mZ",
   "metadata": {
    "colab": {
     "base_uri": "https://localhost:8080/"
    },
    "executionInfo": {
     "elapsed": 955,
     "status": "ok",
     "timestamp": 1682620711240,
     "user": {
      "displayName": "Adedoyin Simeon",
      "userId": "06560907186348381188"
     },
     "user_tz": -60
    },
    "id": "UUibctiFz4mZ",
    "outputId": "dff8ef01-a8d0-4917-8ab9-c9606d46b9da"
   },
   "outputs": [],
   "source": [
    "df_non_dummy.metro.fillna('others', inplace=True)\n",
    "df_non_dummy.metro.value_counts()"
   ]
  },
  {
   "cell_type": "markdown",
   "id": "zY3bnbA104XU",
   "metadata": {
    "id": "zY3bnbA104XU"
   },
   "source": [
    "#### Citizen"
   ]
  },
  {
   "cell_type": "code",
   "execution_count": null,
   "id": "vyEVj4-sz4UZ",
   "metadata": {
    "colab": {
     "base_uri": "https://localhost:8080/"
    },
    "executionInfo": {
     "elapsed": 1024,
     "status": "ok",
     "timestamp": 1682620716838,
     "user": {
      "displayName": "Adedoyin Simeon",
      "userId": "06560907186348381188"
     },
     "user_tz": -60
    },
    "id": "vyEVj4-sz4UZ",
    "outputId": "da1cfccd-9299-4f80-9452-43c5b13b9127"
   },
   "outputs": [],
   "source": [
    "# % of missing data\n",
    "print(f'% of missing data in \"citizen\" column: {np.round(df_non_dummy.citizen.isna().mean() * 100, 2)}%')"
   ]
  },
  {
   "cell_type": "markdown",
   "id": "UEyelJyb2kYb",
   "metadata": {
    "id": "UEyelJyb2kYb"
   },
   "source": [
    "---\n",
    "**NOTE:**\n",
    "- We decided not to drop \"citizen\" column despite its large number of missing values because we consider it an important feature that may affect wage(s)\n",
    "---"
   ]
  },
  {
   "cell_type": "code",
   "execution_count": null,
   "id": "fR32BMMIz4Fh",
   "metadata": {
    "colab": {
     "base_uri": "https://localhost:8080/"
    },
    "executionInfo": {
     "elapsed": 1231,
     "status": "ok",
     "timestamp": 1682620726669,
     "user": {
      "displayName": "Adedoyin Simeon",
      "userId": "06560907186348381188"
     },
     "user_tz": -60
    },
    "id": "fR32BMMIz4Fh",
    "outputId": "963b2543-352d-45ad-85e1-fcb14cffe3c7"
   },
   "outputs": [],
   "source": [
    "df_non_dummy.citizen.value_counts()"
   ]
  },
  {
   "cell_type": "code",
   "execution_count": null,
   "id": "rgstE8gyz3zR",
   "metadata": {
    "colab": {
     "base_uri": "https://localhost:8080/"
    },
    "executionInfo": {
     "elapsed": 557,
     "status": "ok",
     "timestamp": 1682620729899,
     "user": {
      "displayName": "Adedoyin Simeon",
      "userId": "06560907186348381188"
     },
     "user_tz": -60
    },
    "id": "rgstE8gyz3zR",
    "outputId": "d82e04df-c90b-4c65-fb2e-012a32ae9ea3"
   },
   "outputs": [],
   "source": [
    "# Filling missing values with 'others'\n",
    "df_non_dummy.citizen.fillna('others', inplace=True)\n",
    "df_non_dummy.citizen.value_counts()"
   ]
  },
  {
   "cell_type": "markdown",
   "id": "sT8NmROJ3Nbz",
   "metadata": {
    "id": "sT8NmROJ3Nbz"
   },
   "source": [
    "#### educ99"
   ]
  },
  {
   "cell_type": "code",
   "execution_count": null,
   "id": "-om4voRj3XP_",
   "metadata": {
    "colab": {
     "base_uri": "https://localhost:8080/"
    },
    "executionInfo": {
     "elapsed": 625,
     "status": "ok",
     "timestamp": 1682620735540,
     "user": {
      "displayName": "Adedoyin Simeon",
      "userId": "06560907186348381188"
     },
     "user_tz": -60
    },
    "id": "-om4voRj3XP_",
    "outputId": "4d8e9cb3-6a04-4330-b5bf-a7f14d021a3f"
   },
   "outputs": [],
   "source": [
    "# % of missing data\n",
    "print(f'% of missing data in \"educ99\" column: {np.round(df_non_dummy.educ99.isna().mean() * 100, 2)}%')"
   ]
  },
  {
   "cell_type": "code",
   "execution_count": null,
   "id": "q6RJVyhW3XQA",
   "metadata": {
    "colab": {
     "base_uri": "https://localhost:8080/"
    },
    "executionInfo": {
     "elapsed": 9,
     "status": "ok",
     "timestamp": 1682620735541,
     "user": {
      "displayName": "Adedoyin Simeon",
      "userId": "06560907186348381188"
     },
     "user_tz": -60
    },
    "id": "q6RJVyhW3XQA",
    "outputId": "be2940bf-395a-4669-9424-faad8aa0c413"
   },
   "outputs": [],
   "source": [
    "df_non_dummy.educ99.value_counts()"
   ]
  },
  {
   "cell_type": "code",
   "execution_count": null,
   "id": "zjsKzpA13XQA",
   "metadata": {
    "colab": {
     "base_uri": "https://localhost:8080/"
    },
    "executionInfo": {
     "elapsed": 619,
     "status": "ok",
     "timestamp": 1682620739779,
     "user": {
      "displayName": "Adedoyin Simeon",
      "userId": "06560907186348381188"
     },
     "user_tz": -60
    },
    "id": "zjsKzpA13XQA",
    "outputId": "b30d9def-b80b-4482-dce9-3b97c10db52d"
   },
   "outputs": [],
   "source": [
    "# Filling missing values with 'others'\n",
    "df_non_dummy.educ99.fillna('others', inplace=True)\n",
    "df_non_dummy.educ99.value_counts()"
   ]
  },
  {
   "cell_type": "markdown",
   "id": "TpRlvIGM4vT9",
   "metadata": {
    "id": "TpRlvIGM4vT9"
   },
   "source": [
    "#### inclongj"
   ]
  },
  {
   "cell_type": "code",
   "execution_count": null,
   "id": "KD8WyOVa45j0",
   "metadata": {
    "colab": {
     "base_uri": "https://localhost:8080/"
    },
    "executionInfo": {
     "elapsed": 632,
     "status": "ok",
     "timestamp": 1682620744059,
     "user": {
      "displayName": "Adedoyin Simeon",
      "userId": "06560907186348381188"
     },
     "user_tz": -60
    },
    "id": "KD8WyOVa45j0",
    "outputId": "860bfbe4-8668-41b5-b4e9-79eb12077900"
   },
   "outputs": [],
   "source": [
    "# % of missing data\n",
    "print(f'% of missing data in \"inclongj\" column: {np.round(df_non_dummy.inclongj.isna().mean() * 100, 2)}%')"
   ]
  },
  {
   "cell_type": "code",
   "execution_count": null,
   "id": "7S-FulZv45j1",
   "metadata": {
    "colab": {
     "base_uri": "https://localhost:8080/"
    },
    "executionInfo": {
     "elapsed": 8,
     "status": "ok",
     "timestamp": 1682620745623,
     "user": {
      "displayName": "Adedoyin Simeon",
      "userId": "06560907186348381188"
     },
     "user_tz": -60
    },
    "id": "7S-FulZv45j1",
    "outputId": "179535e2-b079-4784-eaeb-d3de56bdf654"
   },
   "outputs": [],
   "source": [
    "df_non_dummy.inclongj.value_counts()"
   ]
  },
  {
   "cell_type": "code",
   "execution_count": null,
   "id": "ue30vFAH45j2",
   "metadata": {
    "id": "ue30vFAH45j2"
   },
   "outputs": [],
   "source": [
    "# Filling missing values with mean of income of longest job taken\n",
    "avg_income = df_non_dummy.inclongj.mean()\n",
    "df_non_dummy.inclongj.fillna(avg_income, inplace=True)"
   ]
  },
  {
   "cell_type": "markdown",
   "id": "4763bLcUA39x",
   "metadata": {
    "id": "4763bLcUA39x"
   },
   "source": [
    "#### Confirming that all missing data have been treated"
   ]
  },
  {
   "cell_type": "code",
   "execution_count": null,
   "id": "00hav0Knz2rl",
   "metadata": {
    "colab": {
     "base_uri": "https://localhost:8080/"
    },
    "executionInfo": {
     "elapsed": 1185,
     "status": "ok",
     "timestamp": 1682620794456,
     "user": {
      "displayName": "Adedoyin Simeon",
      "userId": "06560907186348381188"
     },
     "user_tz": -60
    },
    "id": "00hav0Knz2rl",
    "outputId": "65df3a47-c5b8-4f4d-9ef9-2dfff3450e94"
   },
   "outputs": [],
   "source": [
    "# Confirming that all missing data have been treated\n",
    "df_non_dummy.isna().sum()"
   ]
  },
  {
   "cell_type": "code",
   "execution_count": null,
   "id": "6xAjpxe8z0jQ",
   "metadata": {
    "id": "6xAjpxe8z0jQ"
   },
   "outputs": [],
   "source": []
  },
  {
   "cell_type": "markdown",
   "id": "Ym8ucfuy6y8m",
   "metadata": {
    "id": "Ym8ucfuy6y8m"
   },
   "source": [
    "# Encoding categorical columns using One-Hot (dummy variables)"
   ]
  },
  {
   "cell_type": "code",
   "execution_count": null,
   "id": "HMERn9Lf68Tj",
   "metadata": {
    "colab": {
     "base_uri": "https://localhost:8080/"
    },
    "executionInfo": {
     "elapsed": 580,
     "status": "ok",
     "timestamp": 1682620802822,
     "user": {
      "displayName": "Adedoyin Simeon",
      "userId": "06560907186348381188"
     },
     "user_tz": -60
    },
    "id": "HMERn9Lf68Tj",
    "outputId": "1a59575b-fd0d-4403-cc56-488e2e1cbcd8"
   },
   "outputs": [],
   "source": [
    "for col in df_non_dummy:\n",
    "    print(col, df_non_dummy[col].unique(), sep=':\\n', end='\\n\\n')"
   ]
  },
  {
   "cell_type": "code",
   "execution_count": null,
   "id": "GgaltYq9gUAW",
   "metadata": {
    "colab": {
     "base_uri": "https://localhost:8080/",
     "height": 270
    },
    "executionInfo": {
     "elapsed": 2075,
     "status": "ok",
     "timestamp": 1682620882351,
     "user": {
      "displayName": "Adedoyin Simeon",
      "userId": "06560907186348381188"
     },
     "user_tz": -60
    },
    "id": "GgaltYq9gUAW",
    "outputId": "9c553e83-e6fc-4608-a60c-daed377418f9"
   },
   "outputs": [],
   "source": [
    "# Encoding Categorical columns\n",
    "cat_cols = ['metro', 'sex', 'marst', 'citizen', 'empstat', 'classwkr']\n",
    "\n",
    "# Changing datatypes of columns into categorical-type first\n",
    "for col in cat_cols:\n",
    "    df_non_dummy[col] = df_non_dummy[col].astype(np.str)\n",
    "\n",
    "encoded_cats = get_dummies(df_non_dummy[cat_cols], drop_first=True)\n",
    "encoded_cats.head()"
   ]
  },
  {
   "cell_type": "code",
   "execution_count": null,
   "id": "scnbbFGQBVbU",
   "metadata": {
    "colab": {
     "base_uri": "https://localhost:8080/"
    },
    "executionInfo": {
     "elapsed": 592,
     "status": "ok",
     "timestamp": 1682620909023,
     "user": {
      "displayName": "Adedoyin Simeon",
      "userId": "06560907186348381188"
     },
     "user_tz": -60
    },
    "id": "scnbbFGQBVbU",
    "outputId": "03b17fee-b04d-469d-bc75-b5a80fe54b11"
   },
   "outputs": [],
   "source": [
    "encoded_cats.shape"
   ]
  },
  {
   "cell_type": "code",
   "execution_count": null,
   "id": "GZRNunQc8-Wj",
   "metadata": {
    "colab": {
     "base_uri": "https://localhost:8080/",
     "height": 300
    },
    "executionInfo": {
     "elapsed": 455,
     "status": "ok",
     "timestamp": 1682620946031,
     "user": {
      "displayName": "Adedoyin Simeon",
      "userId": "06560907186348381188"
     },
     "user_tz": -60
    },
    "id": "GZRNunQc8-Wj",
    "outputId": "56795da7-9360-460b-bfbc-b7004db496cd"
   },
   "outputs": [],
   "source": [
    "# Replacing the original columns with the encoded columns\n",
    "df_non_dummy_encoded = pd.concat([df_non_dummy.drop(columns=cat_cols), encoded_cats], axis='columns')\n",
    "df_non_dummy_encoded.head()"
   ]
  },
  {
   "cell_type": "code",
   "execution_count": null,
   "id": "WGmXTRlBmFpv",
   "metadata": {
    "colab": {
     "base_uri": "https://localhost:8080/",
     "height": 300
    },
    "executionInfo": {
     "elapsed": 654,
     "status": "ok",
     "timestamp": 1682620955504,
     "user": {
      "displayName": "Adedoyin Simeon",
      "userId": "06560907186348381188"
     },
     "user_tz": -60
    },
    "id": "WGmXTRlBmFpv",
    "outputId": "0259a2ee-a76a-42b9-9a9d-a2952b0825b2"
   },
   "outputs": [],
   "source": [
    "# Replacing 'others' values for educ99 with 0.0\n",
    "df_non_dummy_encoded.educ99 = df_non_dummy_encoded.educ99.replace('others',0.0)\n",
    "df_non_dummy_encoded.head()"
   ]
  },
  {
   "cell_type": "code",
   "execution_count": null,
   "id": "KBD1mJQlBi27",
   "metadata": {
    "colab": {
     "base_uri": "https://localhost:8080/"
    },
    "executionInfo": {
     "elapsed": 824,
     "status": "ok",
     "timestamp": 1682620978574,
     "user": {
      "displayName": "Adedoyin Simeon",
      "userId": "06560907186348381188"
     },
     "user_tz": -60
    },
    "id": "KBD1mJQlBi27",
    "outputId": "c66154df-a625-4736-a5f9-a5cbd7b6d0a9"
   },
   "outputs": [],
   "source": [
    "df_non_dummy_encoded.info()"
   ]
  },
  {
   "cell_type": "markdown",
   "id": "hHygg8KmCg9v",
   "metadata": {
    "id": "hHygg8KmCg9v"
   },
   "source": [
    "## Merging encoded Non-Dummy dataframe with the dummy variables"
   ]
  },
  {
   "cell_type": "code",
   "execution_count": null,
   "id": "y_FgpH_OBisA",
   "metadata": {
    "colab": {
     "base_uri": "https://localhost:8080/",
     "height": 300
    },
    "executionInfo": {
     "elapsed": 719,
     "status": "ok",
     "timestamp": 1682620993591,
     "user": {
      "displayName": "Adedoyin Simeon",
      "userId": "06560907186348381188"
     },
     "user_tz": -60
    },
    "id": "y_FgpH_OBisA",
    "outputId": "105908dc-1ae8-441c-f05b-af68bb178be8"
   },
   "outputs": [],
   "source": [
    "## Merging encoded Non-Dummy dataframe with the dummy variables\n",
    "cleaned_dataset = pd.concat([df1.employee_id, df_non_dummy_encoded, df1.drop(columns=non_dummy_cols).iloc[:,:-1]], axis='columns')\n",
    "cleaned_dataset.head()"
   ]
  },
  {
   "cell_type": "code",
   "execution_count": null,
   "id": "xy3dQsEZBifn",
   "metadata": {
    "colab": {
     "base_uri": "https://localhost:8080/"
    },
    "executionInfo": {
     "elapsed": 631,
     "status": "ok",
     "timestamp": 1682621000486,
     "user": {
      "displayName": "Adedoyin Simeon",
      "userId": "06560907186348381188"
     },
     "user_tz": -60
    },
    "id": "xy3dQsEZBifn",
    "outputId": "25c796f1-6a9e-4537-dba8-988c066b7751"
   },
   "outputs": [],
   "source": [
    "cleaned_dataset.info()"
   ]
  },
  {
   "cell_type": "markdown",
   "id": "yyeCAmMBCnFo",
   "metadata": {
    "id": "yyeCAmMBCnFo"
   },
   "source": [
    "# Analyzing Non-Dummy Variables"
   ]
  },
  {
   "cell_type": "code",
   "execution_count": null,
   "id": "yN5e8eOpCfwQ",
   "metadata": {
    "colab": {
     "base_uri": "https://localhost:8080/",
     "height": 300
    },
    "executionInfo": {
     "elapsed": 632,
     "status": "ok",
     "timestamp": 1682621249566,
     "user": {
      "displayName": "Adedoyin Simeon",
      "userId": "06560907186348381188"
     },
     "user_tz": -60
    },
    "id": "yN5e8eOpCfwQ",
    "outputId": "f8a5f0d0-1c22-4a41-9217-65d114fd881e"
   },
   "outputs": [],
   "source": [
    "cleaned_dataset.head()"
   ]
  },
  {
   "cell_type": "code",
   "execution_count": null,
   "id": "kNfOpqHHCfph",
   "metadata": {
    "colab": {
     "base_uri": "https://localhost:8080/",
     "height": 424
    },
    "executionInfo": {
     "elapsed": 1101,
     "status": "ok",
     "timestamp": 1682621385553,
     "user": {
      "displayName": "Adedoyin Simeon",
      "userId": "06560907186348381188"
     },
     "user_tz": -60
    },
    "id": "kNfOpqHHCfph",
    "outputId": "1681c279-d2ec-4792-fd88-2bd5c2effbca"
   },
   "outputs": [],
   "source": [
    "data_to_analyze = cleaned_dataset.iloc[:,:8]\n",
    "data_to_analyze"
   ]
  },
  {
   "cell_type": "code",
   "execution_count": null,
   "id": "rTbN0WAfCffY",
   "metadata": {
    "colab": {
     "base_uri": "https://localhost:8080/",
     "height": 364
    },
    "executionInfo": {
     "elapsed": 460,
     "status": "ok",
     "timestamp": 1682621451524,
     "user": {
      "displayName": "Adedoyin Simeon",
      "userId": "06560907186348381188"
     },
     "user_tz": -60
    },
    "id": "rTbN0WAfCffY",
    "outputId": "16ae6817-61ac-4407-ec36-cc24c773de53"
   },
   "outputs": [],
   "source": [
    "data_to_analyze.iloc[:, 1:].describe()"
   ]
  },
  {
   "cell_type": "code",
   "execution_count": null,
   "id": "wM3ImEy3EFfO",
   "metadata": {
    "colab": {
     "base_uri": "https://localhost:8080/",
     "height": 475
    },
    "executionInfo": {
     "elapsed": 1414,
     "status": "ok",
     "timestamp": 1682623684175,
     "user": {
      "displayName": "Adedoyin Simeon",
      "userId": "06560907186348381188"
     },
     "user_tz": -60
    },
    "id": "wM3ImEy3EFfO",
    "outputId": "dc329213-be3d-4f6a-f070-fabaaba82a66"
   },
   "outputs": [],
   "source": [
    "data_to_analyze.age.plot.hist(title='Age Distribution\\n')\n",
    "plt.xlabel('Age')"
   ]
  },
  {
   "cell_type": "code",
   "execution_count": null,
   "id": "1YazWN7hEi-y",
   "metadata": {
    "colab": {
     "base_uri": "https://localhost:8080/",
     "height": 487
    },
    "executionInfo": {
     "elapsed": 1675,
     "status": "ok",
     "timestamp": 1682623676041,
     "user": {
      "displayName": "Adedoyin Simeon",
      "userId": "06560907186348381188"
     },
     "user_tz": -60
    },
    "id": "1YazWN7hEi-y",
    "outputId": "99606cbc-079a-47d7-aa5c-7dfaf89b4dd2"
   },
   "outputs": [],
   "source": [
    "data_to_analyze.sch.value_counts().plot.bar(title='sch Data Distribution\\n')\n",
    "plt.xlabel('Education Attainment Codes')\n",
    "plt.ylabel('Value Counts')"
   ]
  },
  {
   "cell_type": "markdown",
   "id": "ftiS2cZkFzli",
   "metadata": {
    "id": "ftiS2cZkFzli"
   },
   "source": [
    "**sch:** educLbl Educational attainment recode: \n",
    "\n",
    "(None=0, 1=1, Grades 1=2, 2.5=2.5, 3=3, 4=4, Grades 5=5, 5.5=5.5, 6=6, Grades 7=7, 7.5=7.5, 8=8, Grade 9=9, Grade 10=10, Grade 11=11, Grade 12=12, Some Coll=13, Assoc.=14, BA=16, Adv. Degr=18)"
   ]
  },
  {
   "cell_type": "code",
   "execution_count": null,
   "id": "amm8PEdCFRvV",
   "metadata": {
    "colab": {
     "base_uri": "https://localhost:8080/",
     "height": 493
    },
    "executionInfo": {
     "elapsed": 867,
     "status": "ok",
     "timestamp": 1682623668012,
     "user": {
      "displayName": "Adedoyin Simeon",
      "userId": "06560907186348381188"
     },
     "user_tz": -60
    },
    "id": "amm8PEdCFRvV",
    "outputId": "4ecc7781-7080-4682-8627-740cf33b047d"
   },
   "outputs": [],
   "source": [
    "data_to_analyze.educ99.value_counts().plot.bar(title='educ99 Data Distribution\\n')\n",
    "plt.xlabel('Education Attainment')\n",
    "plt.ylabel('Value Counts')"
   ]
  },
  {
   "cell_type": "markdown",
   "id": "wowserYlGEYX",
   "metadata": {
    "id": "wowserYlGEYX"
   },
   "source": [
    "**educ99:** \n",
    "\n",
    "educ99_lbl Educational attainment, 1990, available for 1999 and later: \n",
    "\n",
    "(No school=1, 1st-4th g=4, 5th-8th g=5, 9th grade=6, 10th grad=7, 11th grad=8, 12th grad=9, High scho=10, Some coll=11, Associate=13, Associate=14, Bachelors=15, Masters d=16, Professio=17, Doctorate=18, Novalue=0)"
   ]
  },
  {
   "cell_type": "code",
   "execution_count": null,
   "id": "ARNCqjqiFRe0",
   "metadata": {
    "colab": {
     "base_uri": "https://localhost:8080/",
     "height": 469
    },
    "executionInfo": {
     "elapsed": 1782,
     "status": "ok",
     "timestamp": 1682623659430,
     "user": {
      "displayName": "Adedoyin Simeon",
      "userId": "06560907186348381188"
     },
     "user_tz": -60
    },
    "id": "ARNCqjqiFRe0",
    "outputId": "8b3c6de8-da89-41f1-d18f-a1263b1139b6"
   },
   "outputs": [],
   "source": [
    "data_to_analyze.wkswork1.plot.hist(title='Weeks worked last year (wkswork1) Data Distribution\\n')\n",
    "plt.xlabel('wkswork1')"
   ]
  },
  {
   "cell_type": "code",
   "execution_count": null,
   "id": "nVB5cNbWFRTq",
   "metadata": {
    "colab": {
     "base_uri": "https://localhost:8080/",
     "height": 469
    },
    "executionInfo": {
     "elapsed": 761,
     "status": "ok",
     "timestamp": 1682623650345,
     "user": {
      "displayName": "Adedoyin Simeon",
      "userId": "06560907186348381188"
     },
     "user_tz": -60
    },
    "id": "nVB5cNbWFRTq",
    "outputId": "f1b13dcc-2aa0-4f84-8c41-eef42b63f412"
   },
   "outputs": [],
   "source": [
    "data_to_analyze.uhrswork.plot.hist(title='Usual hours worked per week (last yr) (uhrswork) Data Distribution\\n')\n",
    "plt.xlabel('uhrswork')"
   ]
  },
  {
   "cell_type": "code",
   "execution_count": null,
   "id": "bv9fwavFFRI6",
   "metadata": {
    "colab": {
     "base_uri": "https://localhost:8080/",
     "height": 469
    },
    "executionInfo": {
     "elapsed": 1046,
     "status": "ok",
     "timestamp": 1682623642214,
     "user": {
      "displayName": "Adedoyin Simeon",
      "userId": "06560907186348381188"
     },
     "user_tz": -60
    },
    "id": "bv9fwavFFRI6",
    "outputId": "0f73aa6a-69ab-4ea2-edd9-0864fa776093"
   },
   "outputs": [],
   "source": [
    "data_to_analyze.inclongj.plot.hist(title='Earnings from longest job (inclongj) Data Distribution\\n')\n",
    "plt.xlabel('inclongj')"
   ]
  },
  {
   "cell_type": "code",
   "execution_count": null,
   "id": "CJCBwOR8FQ-O",
   "metadata": {
    "colab": {
     "base_uri": "https://localhost:8080/",
     "height": 465
    },
    "executionInfo": {
     "elapsed": 1669,
     "status": "ok",
     "timestamp": 1682623635616,
     "user": {
      "displayName": "Adedoyin Simeon",
      "userId": "06560907186348381188"
     },
     "user_tz": -60
    },
    "id": "CJCBwOR8FQ-O",
    "outputId": "1f99b8e8-92a1-4dd5-8db4-665d127804dd"
   },
   "outputs": [],
   "source": [
    "# Target Variable (realhrswage) Data Distribution\n",
    "data_to_analyze.realhrwage.plot.hist(title='Real Hourly Wage, inflated to 2010 dollars (realhrswage) - Data Distribution\\n')\n",
    "plt.xlabel('realhrswage')"
   ]
  },
  {
   "cell_type": "markdown",
   "id": "2dxzKXHAIyk4",
   "metadata": {
    "id": "2dxzKXHAIyk4"
   },
   "source": [
    "# Exploring Outliers"
   ]
  },
  {
   "cell_type": "code",
   "execution_count": null,
   "id": "Y7YSRJJDIvN4",
   "metadata": {
    "colab": {
     "base_uri": "https://localhost:8080/",
     "height": 1000
    },
    "executionInfo": {
     "elapsed": 2275,
     "status": "ok",
     "timestamp": 1682623626679,
     "user": {
      "displayName": "Adedoyin Simeon",
      "userId": "06560907186348381188"
     },
     "user_tz": -60
    },
    "id": "Y7YSRJJDIvN4",
    "outputId": "7d4bb302-149c-4454-f86b-c11c5cd97c87"
   },
   "outputs": [],
   "source": [
    "for col in data_to_analyze.iloc[:,1:].columns:\n",
    "    # data_to_analyze[col].plot(kind='box', title=f'{col} Outlier Analysis')\n",
    "    # plt.title(f'{col} Outlier Analysis')\n",
    "    plt.figure(figsize=(5,2))\n",
    "    sns.boxplot(data_to_analyze[col], palette='hls')\n",
    "    plt.title(f'{col} Outlier Analysis\\n')\n",
    "    plt.xticks(rotation = 90)\n",
    "    plt.show()\n",
    "    print('\\n\\n')"
   ]
  },
  {
   "cell_type": "markdown",
   "id": "rl-BREmpDny4",
   "metadata": {
    "id": "rl-BREmpDny4"
   },
   "source": [
    "# Exploring correlation of variables with Target variable (realhrwage)"
   ]
  },
  {
   "cell_type": "code",
   "execution_count": null,
   "id": "iZqDsDKVCfXK",
   "metadata": {
    "colab": {
     "base_uri": "https://localhost:8080/"
    },
    "executionInfo": {
     "elapsed": 6,
     "status": "ok",
     "timestamp": 1682621568422,
     "user": {
      "displayName": "Adedoyin Simeon",
      "userId": "06560907186348381188"
     },
     "user_tz": -60
    },
    "id": "iZqDsDKVCfXK",
    "outputId": "f3054608-be22-4c63-c92d-b20ae48e2ae3"
   },
   "outputs": [],
   "source": [
    "data_to_analyze.iloc[:, 1:-1].corrwith(data_to_analyze.realhrwage).sort_values(ascending=False)"
   ]
  },
  {
   "cell_type": "code",
   "execution_count": null,
   "id": "0E8Aif7pCfNI",
   "metadata": {
    "colab": {
     "base_uri": "https://localhost:8080/",
     "height": 474
    },
    "executionInfo": {
     "elapsed": 516,
     "status": "ok",
     "timestamp": 1682623953833,
     "user": {
      "displayName": "Adedoyin Simeon",
      "userId": "06560907186348381188"
     },
     "user_tz": -60
    },
    "id": "0E8Aif7pCfNI",
    "outputId": "7400c24d-ab04-41c4-9c41-f446a29df5f6"
   },
   "outputs": [],
   "source": [
    "# Visualizing Feature Correlation with Target Variable\n",
    "plt.figure(figsize=(10,4))\n",
    "data_to_analyze.iloc[:, 1:-1].corrwith(\n",
    "    data_to_analyze.realhrwage\n",
    "    ).sort_values(\n",
    "        ascending=False\n",
    "        ).plot.bar(\n",
    "            title='Features Correlation with Target Variable (realhrwage)\\n')"
   ]
  },
  {
   "cell_type": "code",
   "execution_count": null,
   "id": "gwXOrdK-NGO-",
   "metadata": {
    "id": "gwXOrdK-NGO-"
   },
   "outputs": [],
   "source": [
    "# Setting the index to 'employee_id'\n",
    "cleaned_dataset.index = cleaned_dataset.employee_id\n",
    "cleaned_dataset.drop(columns=['employee_id'], inplace=True)"
   ]
  },
  {
   "cell_type": "code",
   "execution_count": null,
   "id": "JcBmN6x8BiVF",
   "metadata": {
    "id": "JcBmN6x8BiVF"
   },
   "outputs": [],
   "source": [
    "# Saving a copy of the cleaned dataset\n",
    "cleaned_dataset.to_csv(f'{RESULTS_PATH}/cleaned_dataset.csv')"
   ]
  },
  {
   "cell_type": "markdown",
   "id": "5yD6eKZ9MlG3",
   "metadata": {
    "id": "5yD6eKZ9MlG3"
   },
   "source": [
    "# Data Segmentation and Scaling"
   ]
  },
  {
   "cell_type": "code",
   "execution_count": null,
   "id": "wWWtElP32Kjh",
   "metadata": {
    "colab": {
     "base_uri": "https://localhost:8080/",
     "height": 331
    },
    "executionInfo": {
     "elapsed": 4062,
     "status": "ok",
     "timestamp": 1682865658495,
     "user": {
      "displayName": "Adedoyin Simeon",
      "userId": "06560907186348381188"
     },
     "user_tz": -60
    },
    "id": "wWWtElP32Kjh",
    "outputId": "117133b7-0d7c-4d44-81bc-e0f2b0560a75"
   },
   "outputs": [],
   "source": [
    "# Loading the cleaned dataset\n",
    "cleaned_dataset = pd.read_csv(f'{RESULTS_PATH}/cleaned_dataset.csv', index_col=0)\n",
    "cleaned_dataset.head()"
   ]
  },
  {
   "cell_type": "code",
   "execution_count": null,
   "id": "qukKsnGINUt0",
   "metadata": {
    "colab": {
     "base_uri": "https://localhost:8080/"
    },
    "executionInfo": {
     "elapsed": 8,
     "status": "ok",
     "timestamp": 1682865756189,
     "user": {
      "displayName": "Adedoyin Simeon",
      "userId": "06560907186348381188"
     },
     "user_tz": -60
    },
    "id": "qukKsnGINUt0",
    "outputId": "0d88b126-2a58-4bf0-d8a1-eb258127f5b8"
   },
   "outputs": [],
   "source": [
    "cleaned_dataset.info()"
   ]
  },
  {
   "cell_type": "code",
   "execution_count": null,
   "id": "qN6XtLhVMpc-",
   "metadata": {
    "executionInfo": {
     "elapsed": 1647,
     "status": "ok",
     "timestamp": 1682865806457,
     "user": {
      "displayName": "Adedoyin Simeon",
      "userId": "06560907186348381188"
     },
     "user_tz": -60
    },
    "id": "qN6XtLhVMpc-"
   },
   "outputs": [],
   "source": [
    "X = cleaned_dataset.drop(columns=['realhrwage'])\n",
    "y = cleaned_dataset.realhrwage"
   ]
  },
  {
   "cell_type": "code",
   "execution_count": null,
   "id": "VDp5viO_NxGu",
   "metadata": {
    "colab": {
     "base_uri": "https://localhost:8080/",
     "height": 268
    },
    "executionInfo": {
     "elapsed": 28,
     "status": "ok",
     "timestamp": 1682865812527,
     "user": {
      "displayName": "Adedoyin Simeon",
      "userId": "06560907186348381188"
     },
     "user_tz": -60
    },
    "id": "VDp5viO_NxGu",
    "outputId": "9fc3768b-2db3-481e-a007-cf3e8d6f7e23"
   },
   "outputs": [],
   "source": [
    "X.head(3)"
   ]
  },
  {
   "cell_type": "code",
   "execution_count": null,
   "id": "WCqmjIlYN0m3",
   "metadata": {
    "colab": {
     "base_uri": "https://localhost:8080/"
    },
    "executionInfo": {
     "elapsed": 8,
     "status": "ok",
     "timestamp": 1682865813334,
     "user": {
      "displayName": "Adedoyin Simeon",
      "userId": "06560907186348381188"
     },
     "user_tz": -60
    },
    "id": "WCqmjIlYN0m3",
    "outputId": "e1001d4b-efef-4d86-ad0f-ff1329659cfd"
   },
   "outputs": [],
   "source": [
    "y.head(3)"
   ]
  },
  {
   "cell_type": "markdown",
   "id": "vhRSrKy6MHao",
   "metadata": {
    "id": "vhRSrKy6MHao"
   },
   "source": [
    "## Scaling the features (X)\n",
    "\n",
    "Scaling is essential in this case because of some large-valued features. These features may dominate the others with smaller values, especially the dummy variables, rendering them insignificant."
   ]
  },
  {
   "cell_type": "code",
   "execution_count": null,
   "id": "39STB0PzCfAz",
   "metadata": {
    "colab": {
     "base_uri": "https://localhost:8080/",
     "height": 331
    },
    "executionInfo": {
     "elapsed": 1192,
     "status": "ok",
     "timestamp": 1682865820655,
     "user": {
      "displayName": "Adedoyin Simeon",
      "userId": "06560907186348381188"
     },
     "user_tz": -60
    },
    "id": "39STB0PzCfAz",
    "outputId": "def8b78a-1233-4693-cce9-3727550a7292"
   },
   "outputs": [],
   "source": [
    "scaler = MinMaxScaler()\n",
    "scaledX = scaler.fit_transform(X)\n",
    "scaledX = pd.DataFrame(scaledX, columns=X.columns, index=X.index)\n",
    "scaledX.head()"
   ]
  },
  {
   "cell_type": "markdown",
   "id": "IkP7phAKOEQV",
   "metadata": {
    "id": "IkP7phAKOEQV"
   },
   "source": [
    "## Segmenting into training and testing sets\n",
    "\n",
    "**Split ratio: (70:30)**\n",
    "\n",
    "training set: 70%,\n",
    "testing set: 30%"
   ]
  },
  {
   "cell_type": "code",
   "execution_count": null,
   "id": "lbFAZFboBiJQ",
   "metadata": {
    "executionInfo": {
     "elapsed": 1298,
     "status": "ok",
     "timestamp": 1682865843673,
     "user": {
      "displayName": "Adedoyin Simeon",
      "userId": "06560907186348381188"
     },
     "user_tz": -60
    },
    "id": "lbFAZFboBiJQ"
   },
   "outputs": [],
   "source": [
    "# Segmenting into training and testing sets\n",
    "X_train, X_test, y_train, y_test = train_test_split(scaledX, y, test_size=0.30, random_state=42)"
   ]
  },
  {
   "cell_type": "code",
   "execution_count": null,
   "id": "oFaA77NVOmwK",
   "metadata": {
    "colab": {
     "base_uri": "https://localhost:8080/",
     "height": 268
    },
    "executionInfo": {
     "elapsed": 19,
     "status": "ok",
     "timestamp": 1682626160749,
     "user": {
      "displayName": "Adedoyin Simeon",
      "userId": "06560907186348381188"
     },
     "user_tz": -60
    },
    "id": "oFaA77NVOmwK",
    "outputId": "cdf8f889-49dc-4e31-f6e2-7a22ea495004"
   },
   "outputs": [],
   "source": [
    "X_train.head(3)"
   ]
  },
  {
   "cell_type": "code",
   "execution_count": null,
   "id": "io2Fe5oTOmkA",
   "metadata": {
    "colab": {
     "base_uri": "https://localhost:8080/"
    },
    "executionInfo": {
     "elapsed": 5,
     "status": "ok",
     "timestamp": 1682626163940,
     "user": {
      "displayName": "Adedoyin Simeon",
      "userId": "06560907186348381188"
     },
     "user_tz": -60
    },
    "id": "io2Fe5oTOmkA",
    "outputId": "65a093c3-bd08-4269-dde4-be261565a407"
   },
   "outputs": [],
   "source": [
    "y_train.head(3)"
   ]
  },
  {
   "cell_type": "code",
   "execution_count": null,
   "id": "YVZPMWE5OmbT",
   "metadata": {
    "colab": {
     "base_uri": "https://localhost:8080/",
     "height": 268
    },
    "executionInfo": {
     "elapsed": 11,
     "status": "ok",
     "timestamp": 1682626164552,
     "user": {
      "displayName": "Adedoyin Simeon",
      "userId": "06560907186348381188"
     },
     "user_tz": -60
    },
    "id": "YVZPMWE5OmbT",
    "outputId": "fd2b7beb-c923-4dc6-f42d-d09d185507b1"
   },
   "outputs": [],
   "source": [
    "X_test.head(3)"
   ]
  },
  {
   "cell_type": "code",
   "execution_count": null,
   "id": "z4q6PlemOmTi",
   "metadata": {
    "colab": {
     "base_uri": "https://localhost:8080/"
    },
    "executionInfo": {
     "elapsed": 6,
     "status": "ok",
     "timestamp": 1682626166414,
     "user": {
      "displayName": "Adedoyin Simeon",
      "userId": "06560907186348381188"
     },
     "user_tz": -60
    },
    "id": "z4q6PlemOmTi",
    "outputId": "a937000f-2d6d-4026-e554-f47d4e58ddbf"
   },
   "outputs": [],
   "source": [
    "y_test.head(3)"
   ]
  },
  {
   "cell_type": "code",
   "execution_count": null,
   "id": "gQZEMla3OmLZ",
   "metadata": {
    "colab": {
     "base_uri": "https://localhost:8080/"
    },
    "executionInfo": {
     "elapsed": 7,
     "status": "ok",
     "timestamp": 1682626168467,
     "user": {
      "displayName": "Adedoyin Simeon",
      "userId": "06560907186348381188"
     },
     "user_tz": -60
    },
    "id": "gQZEMla3OmLZ",
    "outputId": "ac416713-2585-4b8c-ca2f-e0882e83931e"
   },
   "outputs": [],
   "source": [
    "print(f'Shape of X-train: {X_train.shape}')\n",
    "print(f'Shape of X-test: {X_test.shape}')"
   ]
  },
  {
   "cell_type": "markdown",
   "id": "MNV5e2MuPII_",
   "metadata": {
    "id": "MNV5e2MuPII_"
   },
   "source": [
    "# REGRESSION"
   ]
  },
  {
   "cell_type": "markdown",
   "id": "E316f69IRoaO",
   "metadata": {
    "id": "E316f69IRoaO"
   },
   "source": [
    "## Random Forest Regressor"
   ]
  },
  {
   "cell_type": "code",
   "execution_count": null,
   "id": "xZwz2VXoOmBs",
   "metadata": {
    "id": "xZwz2VXoOmBs"
   },
   "outputs": [],
   "source": [
    "# instantiation\n",
    "rfr = RandomForestRegressor(\n",
    "    n_estimators=100, criterion='squared_error', \n",
    "    bootstrap=True, random_state=60)\n",
    "\n",
    "# Training\n",
    "rfr.fit(X_train, y_train)\n",
    "\n",
    "# predictions\n",
    "rfr_pred = rfr.predict(X_test)\n"
   ]
  },
  {
   "cell_type": "code",
   "execution_count": null,
   "id": "KJvkkdNJXrzU",
   "metadata": {
    "colab": {
     "base_uri": "https://localhost:8080/"
    },
    "executionInfo": {
     "elapsed": 14,
     "status": "ok",
     "timestamp": 1682630114146,
     "user": {
      "displayName": "Adedoyin Simeon",
      "userId": "06560907186348381188"
     },
     "user_tz": -60
    },
    "id": "KJvkkdNJXrzU",
    "outputId": "96ab2fa2-bd6f-4e27-bc33-d3017596c865"
   },
   "outputs": [],
   "source": [
    "# Evaluations\n",
    "rfr_rmse = sqrt(mean_squared_error(y_test, rfr_pred))\n",
    "rfr_mae = mean_absolute_error(y_test, rfr_pred)\n",
    "\n",
    "print(f'RFR RMSE: {rfr_rmse}')\n",
    "print(f'RFR MAE: {rfr_mae}')"
   ]
  },
  {
   "cell_type": "code",
   "execution_count": null,
   "id": "FhY566LfhfvH",
   "metadata": {
    "id": "FhY566LfhfvH"
   },
   "outputs": [],
   "source": []
  },
  {
   "cell_type": "markdown",
   "id": "mOjIQQ3eVgYN",
   "metadata": {
    "id": "mOjIQQ3eVgYN"
   },
   "source": [
    "## Support Vector Machine (Regressor)"
   ]
  },
  {
   "cell_type": "code",
   "execution_count": null,
   "id": "qpNaoXHPOl2q",
   "metadata": {
    "colab": {
     "base_uri": "https://localhost:8080/",
     "height": 75
    },
    "executionInfo": {
     "elapsed": 7608,
     "status": "ok",
     "timestamp": 1682627362541,
     "user": {
      "displayName": "Adedoyin Simeon",
      "userId": "06560907186348381188"
     },
     "user_tz": -60
    },
    "id": "qpNaoXHPOl2q",
    "outputId": "6d8f8b68-e098-4182-e663-1e72b4c47497"
   },
   "outputs": [],
   "source": [
    "# instantiation\n",
    "svr = LinearSVR(epsilon=0.0, tol=0.0001, C=1.0, fit_intercept=True, random_state=60)\n",
    "\n",
    "# Training\n",
    "svr.fit(X_train, y_train)\n"
   ]
  },
  {
   "cell_type": "code",
   "execution_count": null,
   "id": "fBFh-cAzZ1Sk",
   "metadata": {
    "colab": {
     "base_uri": "https://localhost:8080/"
    },
    "executionInfo": {
     "elapsed": 784,
     "status": "ok",
     "timestamp": 1682630122328,
     "user": {
      "displayName": "Adedoyin Simeon",
      "userId": "06560907186348381188"
     },
     "user_tz": -60
    },
    "id": "fBFh-cAzZ1Sk",
    "outputId": "726ce25b-0360-4047-f850-321337d7b519"
   },
   "outputs": [],
   "source": [
    "# predictions\n",
    "svr_pred = svr.predict(X_test)\n",
    "\n",
    "# Evaluations\n",
    "svr_rmse = sqrt(mean_squared_error(y_test, svr_pred))\n",
    "svr_mae = mean_absolute_error(y_test, svr_pred)\n",
    "\n",
    "print(f'SVR RMSE: {svr_rmse}')\n",
    "print(f'SVR MAE: {svr_mae}')"
   ]
  },
  {
   "cell_type": "code",
   "execution_count": null,
   "id": "PwY3x762heK5",
   "metadata": {
    "id": "PwY3x762heK5"
   },
   "outputs": [],
   "source": []
  },
  {
   "cell_type": "markdown",
   "id": "OS84B7LEWOcP",
   "metadata": {
    "id": "OS84B7LEWOcP"
   },
   "source": [
    "## Linear Regression"
   ]
  },
  {
   "cell_type": "code",
   "execution_count": null,
   "id": "Yt2N8zbSUvuT",
   "metadata": {
    "colab": {
     "base_uri": "https://localhost:8080/",
     "height": 75
    },
    "executionInfo": {
     "elapsed": 2706,
     "status": "ok",
     "timestamp": 1682627884713,
     "user": {
      "displayName": "Adedoyin Simeon",
      "userId": "06560907186348381188"
     },
     "user_tz": -60
    },
    "id": "Yt2N8zbSUvuT",
    "outputId": "74323e0e-9ecb-4ef5-ff19-cd04ca3fd927"
   },
   "outputs": [],
   "source": [
    "# instantiation\n",
    "lr = LinearRegression(fit_intercept=True)\n",
    "\n",
    "# Training\n",
    "lr.fit(X_train, y_train)"
   ]
  },
  {
   "cell_type": "code",
   "execution_count": null,
   "id": "qX-h6AdjaBuT",
   "metadata": {
    "colab": {
     "base_uri": "https://localhost:8080/"
    },
    "executionInfo": {
     "elapsed": 686,
     "status": "ok",
     "timestamp": 1682630127438,
     "user": {
      "displayName": "Adedoyin Simeon",
      "userId": "06560907186348381188"
     },
     "user_tz": -60
    },
    "id": "qX-h6AdjaBuT",
    "outputId": "32d4c595-8d00-4357-e012-d783ad2cd852"
   },
   "outputs": [],
   "source": [
    "# predictions\n",
    "lr_pred = lr.predict(X_test)\n",
    "\n",
    "# Evaluations\n",
    "lr_rmse = sqrt(mean_squared_error(y_test, lr_pred))\n",
    "lr_mae = mean_absolute_error(y_test, lr_pred)\n",
    "\n",
    "print(f'LR RMSE: {lr_rmse}')\n",
    "print(f'LR MAE: {lr_mae}')"
   ]
  },
  {
   "cell_type": "code",
   "execution_count": null,
   "id": "_2cCePX_dNOu",
   "metadata": {
    "id": "_2cCePX_dNOu"
   },
   "outputs": [],
   "source": []
  },
  {
   "cell_type": "markdown",
   "id": "JngbKQ01cuu2",
   "metadata": {
    "id": "JngbKQ01cuu2"
   },
   "source": [
    "## Ridge Regressor"
   ]
  },
  {
   "cell_type": "markdown",
   "id": "9aIPal85ccGO",
   "metadata": {
    "id": "9aIPal85ccGO"
   },
   "source": [
    "**Ridge Regression addresses some of the problems of Ordinary Least Squares by imposing a penalty on the size of the coefficients with l2 regularization.**\n",
    "\n",
    "It is a Linear least squares with l2 regularization.\n",
    "\n",
    "It Minimizes the objective function::\n",
    "\n",
    "||y - Xw||^2_2 + alpha * ||w||^2_2\n",
    "\n",
    "This model solves a regression model where the loss function is\n",
    "the linear least squares function and regularization is given by\n",
    "the l2-norm. Also known as Ridge Regression or Tikhonov regularization.\n",
    "This estimator has built-in support for multi-variate regression\n",
    "(i.e., when y is a 2d-array of shape (n_samples, n_targets)).\n",
    "\n"
   ]
  },
  {
   "cell_type": "code",
   "execution_count": null,
   "id": "DrAfIb2CcPbd",
   "metadata": {
    "colab": {
     "base_uri": "https://localhost:8080/",
     "height": 75
    },
    "executionInfo": {
     "elapsed": 2072,
     "status": "ok",
     "timestamp": 1682628533709,
     "user": {
      "displayName": "Adedoyin Simeon",
      "userId": "06560907186348381188"
     },
     "user_tz": -60
    },
    "id": "DrAfIb2CcPbd",
    "outputId": "fd58716b-c05f-40eb-bcbe-acbfe7f4d92d"
   },
   "outputs": [],
   "source": [
    "# instantiation\n",
    "rr = Ridge(alpha=1.0, tol=0.0001, fit_intercept=True, random_state=60)\n",
    "\n",
    "# Training\n",
    "rr.fit(X_train, y_train)"
   ]
  },
  {
   "cell_type": "code",
   "execution_count": null,
   "id": "nv9wPCYzcPSK",
   "metadata": {
    "colab": {
     "base_uri": "https://localhost:8080/"
    },
    "executionInfo": {
     "elapsed": 435,
     "status": "ok",
     "timestamp": 1682630133856,
     "user": {
      "displayName": "Adedoyin Simeon",
      "userId": "06560907186348381188"
     },
     "user_tz": -60
    },
    "id": "nv9wPCYzcPSK",
    "outputId": "a467cfb1-9563-4fcf-a312-a40c5b629d8d"
   },
   "outputs": [],
   "source": [
    "# predictions\n",
    "rr_pred = rr.predict(X_test)\n",
    "\n",
    "# Evaluations\n",
    "rr_rmse = sqrt(mean_squared_error(y_test, rr_pred))\n",
    "rr_mae = mean_absolute_error(y_test, rr_pred)\n",
    "\n",
    "print(f'RR RMSE: {rr_rmse}')\n",
    "print(f'RR MAE: {rr_mae}')"
   ]
  },
  {
   "cell_type": "code",
   "execution_count": null,
   "id": "nMmSOJnLcO-g",
   "metadata": {
    "id": "nMmSOJnLcO-g"
   },
   "outputs": [],
   "source": []
  },
  {
   "cell_type": "markdown",
   "id": "o23UGaGZaC4k",
   "metadata": {
    "id": "o23UGaGZaC4k"
   },
   "source": [
    "### Regression Comparative Performance Evaluations"
   ]
  },
  {
   "cell_type": "code",
   "execution_count": null,
   "id": "zi-qsyRdUvd6",
   "metadata": {
    "colab": {
     "base_uri": "https://localhost:8080/",
     "height": 112
    },
    "executionInfo": {
     "elapsed": 583,
     "status": "ok",
     "timestamp": 1682630160665,
     "user": {
      "displayName": "Adedoyin Simeon",
      "userId": "06560907186348381188"
     },
     "user_tz": -60
    },
    "id": "zi-qsyRdUvd6",
    "outputId": "36ff9689-d124-4543-c73f-7478d65847f4"
   },
   "outputs": [],
   "source": [
    "REGRESSION_METRICS = ['RMSE', 'MAE']\n",
    "regression_results = {\n",
    "    'RFR': [rfr_rmse, rfr_mae],\n",
    "    'SVR': [svr_rmse, svr_mae],\n",
    "    'LR': [lr_rmse, lr_mae],\n",
    "    'RR': [rr_rmse, rr_mae],\n",
    "\n",
    "}\n",
    "\n",
    "regression_results = pd.DataFrame(regression_results, index=REGRESSION_METRICS)\n",
    "regression_results"
   ]
  },
  {
   "cell_type": "code",
   "execution_count": null,
   "id": "yizHfnfbiNos",
   "metadata": {
    "colab": {
     "base_uri": "https://localhost:8080/",
     "height": 519
    },
    "executionInfo": {
     "elapsed": 1988,
     "status": "ok",
     "timestamp": 1682630178275,
     "user": {
      "displayName": "Adedoyin Simeon",
      "userId": "06560907186348381188"
     },
     "user_tz": -60
    },
    "id": "yizHfnfbiNos",
    "outputId": "ddb36ad9-b18d-4078-991e-fb4f044caadd"
   },
   "outputs": [],
   "source": [
    "regression_results.T.sort_values(by='RMSE').T.plot.bar(title='Regression Comparative Performance Evaluation (Errors)\\n')\n",
    "plt.xlabel('Error Type')\n",
    "plt.ylabel('Error Value')\n"
   ]
  },
  {
   "cell_type": "markdown",
   "id": "ENsy466rGBdg",
   "metadata": {
    "id": "ENsy466rGBdg"
   },
   "source": [
    "**Interpretation of Regression Results**\n",
    "\n",
    "As shown above, Support Vector (SVR) model performed better than Ridge Regression (RR), Linear Regression (LR) and Random Forest Regressor (RFR) in terms of Root Mean squared Error (RMSE) with about 21.44, 3.21 and 3.24 reduction in error measured in terms of RMSE over RR, RR and LR respectively. \n",
    "\n",
    "The implication of this is that SVR model's prediction of *Hourly Wage* is accurate to a +/- $41.97 error rate.\n",
    "\n",
    "\n",
    "It can also be observed that Ridge Regression (RR) Model performed slightly better than Linear Regression (LR) with 0.3 performance improvement in terms of both RMSE and MAE (Mean Absolute Error).\n",
    "\n",
    "\n",
    "In Terms of Mean Absolute Error, Random Forest Regressor (RFR) model performed better than the rest of the other model, with 1.7, 9.05, and 9.02 reduction in error compared to SVR, LR and RR models respectively.\n",
    "\n",
    "\n",
    "Considering the marginal difference of 1.7 MAE reduction (which is an improvement) of RFR over SVR; and that of 21.44 RMSE reduction (which is an improvement) of SVR over RFR, it can be concluded that SVR model performed better than all other models in predicting hourly wage of employee."
   ]
  },
  {
   "cell_type": "code",
   "execution_count": null,
   "id": "c4M4a_DqiBHD",
   "metadata": {
    "id": "c4M4a_DqiBHD"
   },
   "outputs": [],
   "source": []
  },
  {
   "cell_type": "markdown",
   "id": "uziu7X9ZgH8D",
   "metadata": {
    "id": "uziu7X9ZgH8D"
   },
   "source": [
    "### Regression: Accessing Feature Importances for Regression Case"
   ]
  },
  {
   "cell_type": "code",
   "execution_count": null,
   "id": "KOUADqZkerbS",
   "metadata": {
    "colab": {
     "base_uri": "https://localhost:8080/",
     "height": 424
    },
    "executionInfo": {
     "elapsed": 2461,
     "status": "ok",
     "timestamp": 1682628857001,
     "user": {
      "displayName": "Adedoyin Simeon",
      "userId": "06560907186348381188"
     },
     "user_tz": -60
    },
    "id": "KOUADqZkerbS",
    "outputId": "4ad5279f-b18e-442d-abda-f8fc515d8bd9"
   },
   "outputs": [],
   "source": [
    "feature_importances = pd.DataFrame(rfr.feature_importances_, columns=['importance'], index=X_train.columns).sort_values(by='importance', ascending=False)\n",
    "feature_importances"
   ]
  },
  {
   "cell_type": "code",
   "execution_count": null,
   "id": "Vm9gEavJftn7",
   "metadata": {
    "colab": {
     "base_uri": "https://localhost:8080/",
     "height": 567
    },
    "executionInfo": {
     "elapsed": 3937,
     "status": "ok",
     "timestamp": 1682628950574,
     "user": {
      "displayName": "Adedoyin Simeon",
      "userId": "06560907186348381188"
     },
     "user_tz": -60
    },
    "id": "Vm9gEavJftn7",
    "outputId": "cf47dac4-bd5f-48c1-85d1-a73e42cb0f72"
   },
   "outputs": [],
   "source": [
    "# plotting top 20 important features\n",
    "feature_importances[:20].plot.bar(title='Feature Importances\\n')\n",
    "plt.xlabel('Features')\n",
    "plt.ylabel('Importances')"
   ]
  },
  {
   "cell_type": "markdown",
   "id": "8Kwng2B3rZt0",
   "metadata": {
    "id": "8Kwng2B3rZt0"
   },
   "source": [
    "## Saving regression results and trained models"
   ]
  },
  {
   "cell_type": "code",
   "execution_count": null,
   "id": "zm4tg8cLUvQY",
   "metadata": {
    "colab": {
     "base_uri": "https://localhost:8080/"
    },
    "executionInfo": {
     "elapsed": 8904,
     "status": "ok",
     "timestamp": 1682632274264,
     "user": {
      "displayName": "Adedoyin Simeon",
      "userId": "06560907186348381188"
     },
     "user_tz": -60
    },
    "id": "zm4tg8cLUvQY",
    "outputId": "81c77d08-962b-4549-8894-a9464ad5f244"
   },
   "outputs": [],
   "source": [
    "# Saving a copy of regression results\n",
    "regression_results.to_csv(f'{RESULTS_PATH}/regression_results.csv')\n",
    "\n",
    "# Saving trained models\n",
    "save_model_pickle(rfr, filename='RFR_MODEL.pickle')\n",
    "save_model_pickle(svr, filename='LinearSVR_MODEL.pickle')\n",
    "save_model_pickle(lr, filename='LR_MODEL.pickle')\n",
    "save_model_pickle(rr, filename='RR_MODEL.pickle')\n",
    "\n",
    "# saving 'scaler' object for regression\n",
    "save_model_pickle(scaler, filename='SCALAR_Regression.pickle')\n"
   ]
  },
  {
   "cell_type": "code",
   "execution_count": null,
   "id": "YUon3VkhsNiX",
   "metadata": {
    "id": "YUon3VkhsNiX"
   },
   "outputs": [],
   "source": []
  },
  {
   "cell_type": "markdown",
   "id": "LziLjXypk9tO",
   "metadata": {
    "id": "LziLjXypk9tO"
   },
   "source": [
    "---\n",
    "# CLUSTERING\n",
    "---"
   ]
  },
  {
   "cell_type": "markdown",
   "id": "guO9djbh90y7",
   "metadata": {
    "id": "guO9djbh90y7"
   },
   "source": [
    "---\n",
    "## KMeans"
   ]
  },
  {
   "cell_type": "markdown",
   "id": "KWyyXR7A1Hm5",
   "metadata": {
    "id": "KWyyXR7A1Hm5"
   },
   "source": [
    "## Loading saved cleaned dataset"
   ]
  },
  {
   "cell_type": "code",
   "execution_count": null,
   "id": "ucDfzpIy3UzX",
   "metadata": {
    "colab": {
     "base_uri": "https://localhost:8080/",
     "height": 331
    },
    "executionInfo": {
     "elapsed": 2762,
     "status": "ok",
     "timestamp": 1682880650739,
     "user": {
      "displayName": "Adedoyin Simeon",
      "userId": "06560907186348381188"
     },
     "user_tz": -60
    },
    "id": "ucDfzpIy3UzX",
    "outputId": "548baf0e-24a7-41b4-c7a2-76523cff2240"
   },
   "outputs": [],
   "source": [
    "cleaned_dataset = pd.read_csv(f'{RESULTS_PATH}/cleaned_dataset.csv', index_col=0)\n",
    "cleaned_dataset.head()"
   ]
  },
  {
   "cell_type": "markdown",
   "id": "eoBzOPbGnHvN",
   "metadata": {
    "id": "eoBzOPbGnHvN"
   },
   "source": [
    "## Scaling for clustering by including the 'realhrwage' variable"
   ]
  },
  {
   "cell_type": "code",
   "execution_count": null,
   "id": "GtDjoAjVlEzl",
   "metadata": {
    "colab": {
     "base_uri": "https://localhost:8080/",
     "height": 331
    },
    "executionInfo": {
     "elapsed": 9,
     "status": "ok",
     "timestamp": 1682880652004,
     "user": {
      "displayName": "Adedoyin Simeon",
      "userId": "06560907186348381188"
     },
     "user_tz": -60
    },
    "id": "GtDjoAjVlEzl",
    "outputId": "f91557af-f40a-4314-f650-b179bbdcf31e"
   },
   "outputs": [],
   "source": [
    "# making a copy of the cleaned_dataset in case we make changes to it\n",
    "XC = cleaned_dataset.copy()\n",
    "XC.head()"
   ]
  },
  {
   "cell_type": "code",
   "execution_count": null,
   "id": "dDzexRQko1lr",
   "metadata": {
    "colab": {
     "base_uri": "https://localhost:8080/",
     "height": 238
    },
    "executionInfo": {
     "elapsed": 25,
     "status": "ok",
     "timestamp": 1682880654903,
     "user": {
      "displayName": "Adedoyin Simeon",
      "userId": "06560907186348381188"
     },
     "user_tz": -60
    },
    "id": "dDzexRQko1lr",
    "outputId": "903fcd86-65eb-4dd3-d558-605d1d08dad8"
   },
   "outputs": [],
   "source": [
    "# Scaling\n",
    "scaler_clust = MinMaxScaler()\n",
    "scaledXC = scaler_clust.fit_transform(XC.iloc[:,:7])\n",
    "scaledXC = pd.DataFrame(scaledXC, columns=XC.columns[:7], index=XC.index)\n",
    "scaledXC.head()"
   ]
  },
  {
   "cell_type": "markdown",
   "id": "H_QWO6peoeb2",
   "metadata": {
    "id": "H_QWO6peoeb2"
   },
   "source": [
    "# KMeans Implementation"
   ]
  },
  {
   "cell_type": "markdown",
   "id": "32MtOut7tA76",
   "metadata": {
    "id": "32MtOut7tA76"
   },
   "source": [
    "## Finding the best cluster size (k-value) using Elbow Method\n",
    "\n",
    "with the within-cluster-sum-of-squared (wcss) values"
   ]
  },
  {
   "cell_type": "code",
   "execution_count": null,
   "id": "2YJW_JqRs1cV",
   "metadata": {
    "colab": {
     "base_uri": "https://localhost:8080/",
     "height": 732
    },
    "executionInfo": {
     "elapsed": 192775,
     "status": "ok",
     "timestamp": 1682880850758,
     "user": {
      "displayName": "Adedoyin Simeon",
      "userId": "06560907186348381188"
     },
     "user_tz": -60
    },
    "id": "2YJW_JqRs1cV",
    "outputId": "c11251b7-e1bc-40d8-c6ae-969697779c2e"
   },
   "outputs": [],
   "source": [
    "# Using the elbow method to find the optimal number of clusters (k-value)\n",
    "\n",
    "WCSS = []\n",
    "for i in range (1,  20):\n",
    "    kmeans = KMeans(n_clusters=i, init=\"k-means++\", random_state=50)\n",
    "    kmeans.fit(scaledXC)\n",
    "    WCSS.append(kmeans.inertia_)\n",
    "    \n",
    "plt.plot(range(1, 20), WCSS)\n",
    "plt.title(\"The Elbow Method\")\n",
    "plt.xlabel(\"Number of clusters\")\n",
    "plt.ylabel(\"WCSS\")"
   ]
  },
  {
   "cell_type": "markdown",
   "id": "vI2OWmcTuBch",
   "metadata": {
    "id": "vI2OWmcTuBch"
   },
   "source": [
    "**From the graph, k=4 seems a good k value (elbow point) at which point further division brings less significant reduction in intra-cluster distance (wcss) measure**"
   ]
  },
  {
   "cell_type": "markdown",
   "id": "co-Bx9pRZFOx",
   "metadata": {
    "id": "co-Bx9pRZFOx"
   },
   "source": [
    "### Training KMeans on data"
   ]
  },
  {
   "cell_type": "markdown",
   "id": "2mbv6RnSt3Tb",
   "metadata": {
    "id": "2mbv6RnSt3Tb"
   },
   "source": [
    "### Using K-Means at k = 4 (no of clusters)"
   ]
  },
  {
   "cell_type": "code",
   "execution_count": null,
   "id": "SAobKo8m7QZ9",
   "metadata": {
    "executionInfo": {
     "elapsed": 29,
     "status": "ok",
     "timestamp": 1682880850759,
     "user": {
      "displayName": "Adedoyin Simeon",
      "userId": "06560907186348381188"
     },
     "user_tz": -60
    },
    "id": "SAobKo8m7QZ9"
   },
   "outputs": [],
   "source": [
    "K = 4"
   ]
  },
  {
   "cell_type": "code",
   "execution_count": null,
   "id": "tD2YJ3ost29X",
   "metadata": {
    "executionInfo": {
     "elapsed": 3029,
     "status": "ok",
     "timestamp": 1682880853763,
     "user": {
      "displayName": "Adedoyin Simeon",
      "userId": "06560907186348381188"
     },
     "user_tz": -60
    },
    "id": "tD2YJ3ost29X"
   },
   "outputs": [],
   "source": [
    "kmeans = KMeans(n_clusters=K, init=\"k-means++\", random_state=50)\n",
    "y_kmeans = kmeans.fit_predict(scaledXC)"
   ]
  },
  {
   "cell_type": "code",
   "execution_count": null,
   "id": "nFFtkhmp7ebP",
   "metadata": {
    "colab": {
     "base_uri": "https://localhost:8080/"
    },
    "executionInfo": {
     "elapsed": 37,
     "status": "ok",
     "timestamp": 1682880853764,
     "user": {
      "displayName": "Adedoyin Simeon",
      "userId": "06560907186348381188"
     },
     "user_tz": -60
    },
    "id": "nFFtkhmp7ebP",
    "outputId": "4ad0177b-0164-48b6-ebfb-f2e70e61e407"
   },
   "outputs": [],
   "source": [
    "y_kmeans[:10]"
   ]
  },
  {
   "cell_type": "code",
   "execution_count": null,
   "id": "pEn3jJBQxG8Y",
   "metadata": {
    "colab": {
     "base_uri": "https://localhost:8080/"
    },
    "executionInfo": {
     "elapsed": 32,
     "status": "ok",
     "timestamp": 1682880853765,
     "user": {
      "displayName": "Adedoyin Simeon",
      "userId": "06560907186348381188"
     },
     "user_tz": -60
    },
    "id": "pEn3jJBQxG8Y",
    "outputId": "a4ea675a-6b6f-4581-f3cb-909cf3e469cb"
   },
   "outputs": [],
   "source": [
    "scaledXC.shape"
   ]
  },
  {
   "cell_type": "markdown",
   "id": "IusFLFvvxEKW",
   "metadata": {
    "id": "IusFLFvvxEKW"
   },
   "source": [
    "## Dimensionality Reduction\n",
    "\n",
    "**Using Principal Component Analysis (PCA)**\n",
    "\n",
    "\n",
    "7 columns is way too much dimension to plot, therefore using PCA for dimensionality reduction is essential to be able to visualize the clusters on 2-D plane"
   ]
  },
  {
   "cell_type": "code",
   "execution_count": null,
   "id": "E3NAVDH1t2zp",
   "metadata": {
    "colab": {
     "base_uri": "https://localhost:8080/",
     "height": 238
    },
    "executionInfo": {
     "elapsed": 20,
     "status": "ok",
     "timestamp": 1682880853765,
     "user": {
      "displayName": "Adedoyin Simeon",
      "userId": "06560907186348381188"
     },
     "user_tz": -60
    },
    "id": "E3NAVDH1t2zp",
    "outputId": "3c582b31-bce1-45eb-a93e-b5be2aa91216"
   },
   "outputs": [],
   "source": [
    "pca = PCA(n_components=2)\n",
    "reduced_scaledXC = pca.fit_transform(scaledXC)\n",
    "reduced_scaledXC = pd.DataFrame(reduced_scaledXC, columns=['x1', 'x2'], index=scaledXC.index)\n",
    "reduced_scaledXC.head()"
   ]
  },
  {
   "cell_type": "code",
   "execution_count": null,
   "id": "QCpHf5b2qUgn",
   "metadata": {
    "colab": {
     "base_uri": "https://localhost:8080/",
     "height": 238
    },
    "executionInfo": {
     "elapsed": 18,
     "status": "ok",
     "timestamp": 1682880853766,
     "user": {
      "displayName": "Adedoyin Simeon",
      "userId": "06560907186348381188"
     },
     "user_tz": -60
    },
    "id": "QCpHf5b2qUgn",
    "outputId": "f5dfb973-3b99-424f-9636-3f7c23f39a4f"
   },
   "outputs": [],
   "source": [
    "# Adding the clusters columns\n",
    "reduced_scaledXC['kmeans_cluster'] = y_kmeans\n",
    "reduced_scaledXC.head()"
   ]
  },
  {
   "cell_type": "code",
   "execution_count": null,
   "id": "YQoVX7Nf0JRJ",
   "metadata": {
    "executionInfo": {
     "elapsed": 34,
     "status": "ok",
     "timestamp": 1682880855811,
     "user": {
      "displayName": "Adedoyin Simeon",
      "userId": "06560907186348381188"
     },
     "user_tz": -60
    },
    "id": "YQoVX7Nf0JRJ"
   },
   "outputs": [],
   "source": []
  },
  {
   "cell_type": "code",
   "execution_count": null,
   "id": "3mrx045_t2nZ",
   "metadata": {
    "colab": {
     "base_uri": "https://localhost:8080/"
    },
    "executionInfo": {
     "elapsed": 35,
     "status": "ok",
     "timestamp": 1682880855814,
     "user": {
      "displayName": "Adedoyin Simeon",
      "userId": "06560907186348381188"
     },
     "user_tz": -60
    },
    "id": "3mrx045_t2nZ",
    "outputId": "7de14c52-fce4-4baa-b763-7cd9b184e9b6"
   },
   "outputs": [],
   "source": [
    "pca.explained_variance_ratio_"
   ]
  },
  {
   "cell_type": "code",
   "execution_count": null,
   "id": "Ps6tu_-wt2Xa",
   "metadata": {
    "colab": {
     "base_uri": "https://localhost:8080/"
    },
    "executionInfo": {
     "elapsed": 33,
     "status": "ok",
     "timestamp": 1682880855814,
     "user": {
      "displayName": "Adedoyin Simeon",
      "userId": "06560907186348381188"
     },
     "user_tz": -60
    },
    "id": "Ps6tu_-wt2Xa",
    "outputId": "02adfe5f-b0b1-466e-ce13-f6c7a0b4c6fd"
   },
   "outputs": [],
   "source": [
    "print(f'Explained Variance: {sum(pca.explained_variance_ratio_)}')"
   ]
  },
  {
   "cell_type": "markdown",
   "id": "GGlke467ToT7",
   "metadata": {
    "id": "GGlke467ToT7"
   },
   "source": [
    "**About 78% of the original variance is explained by the 2 new dimensions retained.**\n",
    "\n",
    "This is a good-enough representation of the data, considering the high dimension (7) involved, and for visualization purposes, we can use it."
   ]
  },
  {
   "cell_type": "markdown",
   "id": "HihQT2YfzOb4",
   "metadata": {
    "id": "HihQT2YfzOb4"
   },
   "source": [
    "### Visualizing the clusters"
   ]
  },
  {
   "cell_type": "code",
   "execution_count": null,
   "id": "NuAbOwALt1ip",
   "metadata": {
    "colab": {
     "base_uri": "https://localhost:8080/",
     "height": 764
    },
    "executionInfo": {
     "elapsed": 1750,
     "status": "ok",
     "timestamp": 1682880857542,
     "user": {
      "displayName": "Adedoyin Simeon",
      "userId": "06560907186348381188"
     },
     "user_tz": -60
    },
    "id": "NuAbOwALt1ip",
    "outputId": "20218a4c-3ea1-4a57-ce1d-6b0780903ec2"
   },
   "outputs": [],
   "source": [
    "COLORS = [\n",
    "    'red','green','blue','yellow','brown','pink','silver','black',\n",
    "    'tomato', 'grey','indigo','violet','blue','purple','green','blue',\n",
    "    'cyan','brown','orange','pink','gold'\n",
    "]\n",
    "\n",
    "plt.figure(figsize=(10,8))\n",
    "for i in range(K):\n",
    "    plt.scatter(reduced_scaledXC[reduced_scaledXC.kmeans_cluster == i].x1.values, \n",
    "                reduced_scaledXC[reduced_scaledXC.kmeans_cluster == i].x2.values, \n",
    "                s=20, c=COLORS[i], label=f'Cluster_{i}')\n",
    "\n",
    "plt.title('Cluster of Employees using K-Means (scaled dataset)')\n",
    "plt.xlabel('Dimesion 1')\n",
    "plt.ylabel('Dimesion 2')\n",
    "plt.legend(loc='lower right')"
   ]
  },
  {
   "cell_type": "code",
   "execution_count": null,
   "id": "0DOnCRUwYCq7",
   "metadata": {
    "colab": {
     "base_uri": "https://localhost:8080/"
    },
    "executionInfo": {
     "elapsed": 43,
     "status": "ok",
     "timestamp": 1682880860101,
     "user": {
      "displayName": "Adedoyin Simeon",
      "userId": "06560907186348381188"
     },
     "user_tz": -60
    },
    "id": "0DOnCRUwYCq7",
    "outputId": "67b90c52-593a-436a-d04f-cfc7a68085f0"
   },
   "outputs": [],
   "source": [
    "# evaluations\n",
    "\n",
    "# wcss\n",
    "km_wcss = kmeans.inertia_\n",
    "print(f'WCSS for KMeans: {km_wcss}')"
   ]
  },
  {
   "cell_type": "code",
   "execution_count": null,
   "id": "_KRPVQLmNSWc",
   "metadata": {
    "colab": {
     "base_uri": "https://localhost:8080/"
    },
    "executionInfo": {
     "elapsed": 32,
     "status": "ok",
     "timestamp": 1682880860101,
     "user": {
      "displayName": "Adedoyin Simeon",
      "userId": "06560907186348381188"
     },
     "user_tz": -60
    },
    "id": "_KRPVQLmNSWc",
    "outputId": "f53b7f17-82c0-4013-b5f7-4af1e5a13ea1"
   },
   "outputs": [],
   "source": [
    "reduced_scaledXC.kmeans_cluster.value_counts()"
   ]
  },
  {
   "cell_type": "markdown",
   "id": "NGl2L5Jecfku",
   "metadata": {
    "id": "NGl2L5Jecfku"
   },
   "source": [
    "**Silhouette Score**\n",
    "\n",
    "This score is the mean Silhouette Coefficient of all samples.\n",
    "\n",
    "\n",
    "The Silhouette Coefficient is calculated using the mean intra-cluster\n",
    "distance (``a``) and the mean nearest-cluster distance (``b``) for each sample.  \n",
    "\n",
    "\n",
    "The Silhouette Coefficient for a sample is ``(b - a) / max(a,\n",
    "b)``.  \n",
    "\n",
    "\n",
    "- To clarify, ``b`` is the distance between a sample and the nearest cluster that the sample is not a part of.\n",
    "\n",
    "**Note** that Silhouette Coefficient is only defined if number of labels is 2 <= n_labels <= n_samples - 1.\n",
    "\n",
    "\n",
    "This returns the mean Silhouette Coefficient over all samples.\n",
    "To obtain the values for each sample, use :func:`silhouette_samples`.\n",
    "\n",
    "The best value is 1 and the worst value is -1. Values near 0 indicate overlapping clusters. \n",
    "\n",
    "Negative values generally indicate that a sample has\n",
    "been assigned to the wrong cluster, as a different cluster is more similar."
   ]
  },
  {
   "cell_type": "code",
   "execution_count": null,
   "id": "01Zgeo5W12UI",
   "metadata": {
    "colab": {
     "base_uri": "https://localhost:8080/"
    },
    "executionInfo": {
     "elapsed": 21,
     "status": "ok",
     "timestamp": 1682880908579,
     "user": {
      "displayName": "Adedoyin Simeon",
      "userId": "06560907186348381188"
     },
     "user_tz": -60
    },
    "id": "01Zgeo5W12UI",
    "outputId": "2bfefb70-c1be-4669-b18e-f38cf34854ef"
   },
   "outputs": [],
   "source": [
    "# 4 clusters\n",
    "km_silhouette_score = silhouette_score(scaledXC, y_kmeans)\n",
    "print(f'Silhouette Score of KMeans: {km_silhouette_score}')"
   ]
  },
  {
   "cell_type": "code",
   "execution_count": null,
   "id": "IzZT08lkxQ1W",
   "metadata": {
    "executionInfo": {
     "elapsed": 1163,
     "status": "ok",
     "timestamp": 1682880923691,
     "user": {
      "displayName": "Adedoyin Simeon",
      "userId": "06560907186348381188"
     },
     "user_tz": -60
    },
    "id": "IzZT08lkxQ1W"
   },
   "outputs": [],
   "source": [
    "clustering_data = XC.iloc[:,:7]\n",
    "clustering_data['kmeans_clusters'] = y_kmeans"
   ]
  },
  {
   "cell_type": "code",
   "execution_count": null,
   "id": "hoGn5kWWhR2V",
   "metadata": {
    "colab": {
     "base_uri": "https://localhost:8080/",
     "height": 238
    },
    "executionInfo": {
     "elapsed": 23,
     "status": "ok",
     "timestamp": 1682880945830,
     "user": {
      "displayName": "Adedoyin Simeon",
      "userId": "06560907186348381188"
     },
     "user_tz": -60
    },
    "id": "hoGn5kWWhR2V",
    "outputId": "f8f42013-3b78-4f10-fd9f-2213fef4ab4b"
   },
   "outputs": [],
   "source": [
    "clustering_data.head()"
   ]
  },
  {
   "cell_type": "markdown",
   "id": "eKbzGawow281",
   "metadata": {
    "id": "eKbzGawow281"
   },
   "source": [
    "## Analyzing KMeans Clustered Groups"
   ]
  },
  {
   "cell_type": "code",
   "execution_count": null,
   "id": "xWi86tsEhgYN",
   "metadata": {
    "colab": {
     "base_uri": "https://localhost:8080/"
    },
    "executionInfo": {
     "elapsed": 5,
     "status": "ok",
     "timestamp": 1682881012601,
     "user": {
      "displayName": "Adedoyin Simeon",
      "userId": "06560907186348381188"
     },
     "user_tz": -60
    },
    "id": "xWi86tsEhgYN",
    "outputId": "55d28206-8ba5-48cd-d731-617cf4b7d3e8"
   },
   "outputs": [],
   "source": [
    "clustering_data.kmeans_clusters.value_counts()"
   ]
  },
  {
   "cell_type": "code",
   "execution_count": null,
   "id": "x9JiRha9w-36",
   "metadata": {
    "executionInfo": {
     "elapsed": 959,
     "status": "ok",
     "timestamp": 1682880958775,
     "user": {
      "displayName": "Adedoyin Simeon",
      "userId": "06560907186348381188"
     },
     "user_tz": -60
    },
    "id": "x9JiRha9w-36"
   },
   "outputs": [],
   "source": [
    "cluster0_km = clustering_data[clustering_data.kmeans_clusters == 0]\n",
    "cluster1_km = clustering_data[clustering_data.kmeans_clusters == 1]\n",
    "cluster2_km = clustering_data[clustering_data.kmeans_clusters == 2]\n",
    "cluster3_km = clustering_data[clustering_data.kmeans_clusters == 3]"
   ]
  },
  {
   "cell_type": "markdown",
   "id": "nefFmG8ObK4Y",
   "metadata": {
    "id": "nefFmG8ObK4Y"
   },
   "source": [
    "### Cluster 0 - Kmeans"
   ]
  },
  {
   "cell_type": "code",
   "execution_count": null,
   "id": "ENlQBmyMbJE-",
   "metadata": {
    "colab": {
     "base_uri": "https://localhost:8080/",
     "height": 238
    },
    "executionInfo": {
     "elapsed": 86,
     "status": "ok",
     "timestamp": 1682880962689,
     "user": {
      "displayName": "Adedoyin Simeon",
      "userId": "06560907186348381188"
     },
     "user_tz": -60
    },
    "id": "ENlQBmyMbJE-",
    "outputId": "7b414195-bb45-4b8c-c9cf-2ae73ee70d68"
   },
   "outputs": [],
   "source": [
    "cluster0_km.head()"
   ]
  },
  {
   "cell_type": "code",
   "execution_count": null,
   "id": "NhYQ_n0Ba0mg",
   "metadata": {
    "colab": {
     "base_uri": "https://localhost:8080/",
     "height": 318
    },
    "executionInfo": {
     "elapsed": 681,
     "status": "ok",
     "timestamp": 1682880963287,
     "user": {
      "displayName": "Adedoyin Simeon",
      "userId": "06560907186348381188"
     },
     "user_tz": -60
    },
    "id": "NhYQ_n0Ba0mg",
    "outputId": "caf974ad-da60-4e8a-d394-8f16c5ce81b9"
   },
   "outputs": [],
   "source": [
    "print('Cluster 0 Employees Group Analysis')\n",
    "cluster0_km.describe()"
   ]
  },
  {
   "cell_type": "code",
   "execution_count": null,
   "id": "Ja1LkQDMbZyQ",
   "metadata": {
    "executionInfo": {
     "elapsed": 3,
     "status": "ok",
     "timestamp": 1682880964203,
     "user": {
      "displayName": "Adedoyin Simeon",
      "userId": "06560907186348381188"
     },
     "user_tz": -60
    },
    "id": "Ja1LkQDMbZyQ"
   },
   "outputs": [],
   "source": []
  },
  {
   "cell_type": "markdown",
   "id": "jA8uYCCkbaZl",
   "metadata": {
    "id": "jA8uYCCkbaZl"
   },
   "source": [
    "### Cluster 1 - Kmeans"
   ]
  },
  {
   "cell_type": "code",
   "execution_count": null,
   "id": "iL8B10UjbaZm",
   "metadata": {
    "colab": {
     "base_uri": "https://localhost:8080/",
     "height": 238
    },
    "executionInfo": {
     "elapsed": 24,
     "status": "ok",
     "timestamp": 1682880968301,
     "user": {
      "displayName": "Adedoyin Simeon",
      "userId": "06560907186348381188"
     },
     "user_tz": -60
    },
    "id": "iL8B10UjbaZm",
    "outputId": "c3a117a6-8424-4f60-feba-364f294f906f"
   },
   "outputs": [],
   "source": [
    "cluster1_km.head()"
   ]
  },
  {
   "cell_type": "code",
   "execution_count": null,
   "id": "1YdlA8K8baZm",
   "metadata": {
    "colab": {
     "base_uri": "https://localhost:8080/",
     "height": 352
    },
    "executionInfo": {
     "elapsed": 23,
     "status": "ok",
     "timestamp": 1682880968303,
     "user": {
      "displayName": "Adedoyin Simeon",
      "userId": "06560907186348381188"
     },
     "user_tz": -60
    },
    "id": "1YdlA8K8baZm",
    "outputId": "3971879e-0f7f-4a29-ac89-f87831901bee"
   },
   "outputs": [],
   "source": [
    "print('Cluster 1 Employees Group Analysis\\n\\n')\n",
    "cluster1_km.describe()"
   ]
  },
  {
   "cell_type": "code",
   "execution_count": null,
   "id": "PWisseRVbhKp",
   "metadata": {
    "executionInfo": {
     "elapsed": 13,
     "status": "ok",
     "timestamp": 1682880968304,
     "user": {
      "displayName": "Adedoyin Simeon",
      "userId": "06560907186348381188"
     },
     "user_tz": -60
    },
    "id": "PWisseRVbhKp"
   },
   "outputs": [],
   "source": []
  },
  {
   "cell_type": "markdown",
   "id": "POposGv0bhYm",
   "metadata": {
    "id": "POposGv0bhYm"
   },
   "source": [
    "### Cluster 2 - Kmeans"
   ]
  },
  {
   "cell_type": "code",
   "execution_count": null,
   "id": "VjyQ6uFtbhYn",
   "metadata": {
    "colab": {
     "base_uri": "https://localhost:8080/",
     "height": 238
    },
    "executionInfo": {
     "elapsed": 32,
     "status": "ok",
     "timestamp": 1682880969615,
     "user": {
      "displayName": "Adedoyin Simeon",
      "userId": "06560907186348381188"
     },
     "user_tz": -60
    },
    "id": "VjyQ6uFtbhYn",
    "outputId": "b220c534-3b8b-4346-89e0-e697b94fa8da"
   },
   "outputs": [],
   "source": [
    "cluster2_km.head()"
   ]
  },
  {
   "cell_type": "code",
   "execution_count": null,
   "id": "v6rfU_DxbhYn",
   "metadata": {
    "colab": {
     "base_uri": "https://localhost:8080/",
     "height": 318
    },
    "executionInfo": {
     "elapsed": 29,
     "status": "ok",
     "timestamp": 1682880969616,
     "user": {
      "displayName": "Adedoyin Simeon",
      "userId": "06560907186348381188"
     },
     "user_tz": -60
    },
    "id": "v6rfU_DxbhYn",
    "outputId": "ed049fc0-617a-4486-f3a3-16105943a3f9"
   },
   "outputs": [],
   "source": [
    "print('Cluster 2 Employees Group Analysis')\n",
    "cluster2_km.describe()"
   ]
  },
  {
   "cell_type": "code",
   "execution_count": null,
   "id": "0UnbEVtYbroy",
   "metadata": {
    "executionInfo": {
     "elapsed": 18,
     "status": "ok",
     "timestamp": 1682880969617,
     "user": {
      "displayName": "Adedoyin Simeon",
      "userId": "06560907186348381188"
     },
     "user_tz": -60
    },
    "id": "0UnbEVtYbroy"
   },
   "outputs": [],
   "source": []
  },
  {
   "cell_type": "markdown",
   "id": "JSsZTcaVbr3d",
   "metadata": {
    "id": "JSsZTcaVbr3d"
   },
   "source": [
    "### Cluster 3 - Kmeans"
   ]
  },
  {
   "cell_type": "code",
   "execution_count": null,
   "id": "ChBo21uObr3d",
   "metadata": {
    "colab": {
     "base_uri": "https://localhost:8080/",
     "height": 238
    },
    "executionInfo": {
     "elapsed": 18,
     "status": "ok",
     "timestamp": 1682880969618,
     "user": {
      "displayName": "Adedoyin Simeon",
      "userId": "06560907186348381188"
     },
     "user_tz": -60
    },
    "id": "ChBo21uObr3d",
    "outputId": "e83d6635-42eb-4588-85f4-5649a97298a6"
   },
   "outputs": [],
   "source": [
    "cluster3_km.head()"
   ]
  },
  {
   "cell_type": "code",
   "execution_count": null,
   "id": "irpLelAVbr3e",
   "metadata": {
    "colab": {
     "base_uri": "https://localhost:8080/",
     "height": 318
    },
    "executionInfo": {
     "elapsed": 65,
     "status": "ok",
     "timestamp": 1682880971272,
     "user": {
      "displayName": "Adedoyin Simeon",
      "userId": "06560907186348381188"
     },
     "user_tz": -60
    },
    "id": "irpLelAVbr3e",
    "outputId": "7eb19b4b-de80-46e6-9e11-7925573370ba"
   },
   "outputs": [],
   "source": [
    "print('Cluster 3 Employees Group Analysis')\n",
    "cluster3_km.describe()"
   ]
  },
  {
   "cell_type": "markdown",
   "id": "ogUVXDCDN0q6",
   "metadata": {
    "id": "ogUVXDCDN0q6"
   },
   "source": [
    "**Interpretation of Cluster Results**\n",
    "\n",
    "The result shows a silhouette score of 0.34 which indicates how compact points within clusters are and how far away point across clusters are. It measures the ratio of intra-cluster to inter cluster distances, ranging between -1 and 1, with -1 being the worst clustering and 1 being the best. \n",
    "\n",
    "The result of 0.34 shows a good cluster. Although it is slightly close to 0, showing a very small amount of overlaping clusters."
   ]
  },
  {
   "cell_type": "markdown",
   "id": "uGnN8nMMwREN",
   "metadata": {
    "id": "uGnN8nMMwREN"
   },
   "source": []
  },
  {
   "cell_type": "markdown",
   "id": "AjX2ifbLsa60",
   "metadata": {
    "id": "AjX2ifbLsa60"
   },
   "source": [
    "---\n",
    "# DBSCAN\n",
    "**Clustering Algorithm2**\n"
   ]
  },
  {
   "cell_type": "markdown",
   "id": "vgDH3sI9soau",
   "metadata": {
    "id": "vgDH3sI9soau"
   },
   "source": [
    "### Finding the best epsilon value for the dataset using nearest neighbors"
   ]
  },
  {
   "cell_type": "code",
   "execution_count": null,
   "id": "Ak5gCkBudZTM",
   "metadata": {
    "colab": {
     "base_uri": "https://localhost:8080/",
     "height": 75
    },
    "executionInfo": {
     "elapsed": 8,
     "status": "ok",
     "timestamp": 1682881171293,
     "user": {
      "displayName": "Adedoyin Simeon",
      "userId": "06560907186348381188"
     },
     "user_tz": -60
    },
    "id": "Ak5gCkBudZTM",
    "outputId": "6d895e61-b707-4603-a954-d56db2036993"
   },
   "outputs": [],
   "source": [
    "neighbors = NearestNeighbors(n_neighbors=2)\n",
    "neighbors.fit(scaledXC)"
   ]
  },
  {
   "cell_type": "code",
   "execution_count": null,
   "id": "oN9Thi2JsuVO",
   "metadata": {
    "executionInfo": {
     "elapsed": 32229,
     "status": "ok",
     "timestamp": 1682881204761,
     "user": {
      "displayName": "Adedoyin Simeon",
      "userId": "06560907186348381188"
     },
     "user_tz": -60
    },
    "id": "oN9Thi2JsuVO"
   },
   "outputs": [],
   "source": [
    "distances, indices = neighbors.kneighbors(scaledXC)"
   ]
  },
  {
   "cell_type": "code",
   "execution_count": null,
   "id": "q9ZGIgx5sx7c",
   "metadata": {
    "colab": {
     "base_uri": "https://localhost:8080/"
    },
    "executionInfo": {
     "elapsed": 80,
     "status": "ok",
     "timestamp": 1682881204762,
     "user": {
      "displayName": "Adedoyin Simeon",
      "userId": "06560907186348381188"
     },
     "user_tz": -60
    },
    "id": "q9ZGIgx5sx7c",
    "outputId": "b03f0ba3-4954-4f82-e163-145a5d9b312d"
   },
   "outputs": [],
   "source": [
    "distances"
   ]
  },
  {
   "cell_type": "code",
   "execution_count": null,
   "id": "8oHrv_wRszAI",
   "metadata": {
    "colab": {
     "base_uri": "https://localhost:8080/"
    },
    "executionInfo": {
     "elapsed": 57,
     "status": "ok",
     "timestamp": 1682881204763,
     "user": {
      "displayName": "Adedoyin Simeon",
      "userId": "06560907186348381188"
     },
     "user_tz": -60
    },
    "id": "8oHrv_wRszAI",
    "outputId": "43418d82-25ac-40ad-8b54-53da9b64c575"
   },
   "outputs": [],
   "source": [
    "indices"
   ]
  },
  {
   "cell_type": "code",
   "execution_count": null,
   "id": "zufcD1xos1or",
   "metadata": {
    "executionInfo": {
     "elapsed": 46,
     "status": "ok",
     "timestamp": 1682881204764,
     "user": {
      "displayName": "Adedoyin Simeon",
      "userId": "06560907186348381188"
     },
     "user_tz": -60
    },
    "id": "zufcD1xos1or"
   },
   "outputs": [],
   "source": [
    "distances = distances[:,1]\n",
    "distances.sort(axis=0)"
   ]
  },
  {
   "cell_type": "code",
   "execution_count": null,
   "id": "z_X4wki3s1gN",
   "metadata": {
    "colab": {
     "base_uri": "https://localhost:8080/",
     "height": 735
    },
    "executionInfo": {
     "elapsed": 45,
     "status": "ok",
     "timestamp": 1682881204764,
     "user": {
      "displayName": "Adedoyin Simeon",
      "userId": "06560907186348381188"
     },
     "user_tz": -60
    },
    "id": "z_X4wki3s1gN",
    "outputId": "64917264-466e-410e-dd6b-a57a96b1f3ed"
   },
   "outputs": [],
   "source": [
    "plt.figure(figsize=(10,8))\n",
    "plt.plot(distances)\n",
    "\n",
    "plt.title('Finding The Best Epsilon Value')"
   ]
  },
  {
   "cell_type": "markdown",
   "id": "-_5LALWJs-gG",
   "metadata": {
    "id": "-_5LALWJs-gG"
   },
   "source": [
    "Since the distances started increasing at about ~0.06, we pick that as the epsilon value\n",
    "epsilon = 0.06"
   ]
  },
  {
   "cell_type": "code",
   "execution_count": null,
   "id": "8IVnCOQXs1Tj",
   "metadata": {
    "executionInfo": {
     "elapsed": 342423,
     "status": "ok",
     "timestamp": 1682881547155,
     "user": {
      "displayName": "Adedoyin Simeon",
      "userId": "06560907186348381188"
     },
     "user_tz": -60
    },
    "id": "8IVnCOQXs1Tj"
   },
   "outputs": [],
   "source": [
    "epsilon = 0.06\n",
    "dbscan = DBSCAN(eps=epsilon, min_samples=5)\n",
    "y_dbscan = dbscan.fit_predict(scaledXC)"
   ]
  },
  {
   "cell_type": "code",
   "execution_count": null,
   "id": "p-rdSbvCtOKN",
   "metadata": {
    "colab": {
     "base_uri": "https://localhost:8080/"
    },
    "executionInfo": {
     "elapsed": 31,
     "status": "ok",
     "timestamp": 1682881547156,
     "user": {
      "displayName": "Adedoyin Simeon",
      "userId": "06560907186348381188"
     },
     "user_tz": -60
    },
    "id": "p-rdSbvCtOKN",
    "outputId": "c2b6c37e-8a4b-41de-c29e-4e832e0fe636"
   },
   "outputs": [],
   "source": [
    "y_dbscan[:10]"
   ]
  },
  {
   "cell_type": "code",
   "execution_count": null,
   "id": "R4ON9cGStzqh",
   "metadata": {
    "colab": {
     "base_uri": "https://localhost:8080/",
     "height": 238
    },
    "executionInfo": {
     "elapsed": 9,
     "status": "ok",
     "timestamp": 1682881607942,
     "user": {
      "displayName": "Adedoyin Simeon",
      "userId": "06560907186348381188"
     },
     "user_tz": -60
    },
    "id": "R4ON9cGStzqh",
    "outputId": "4808aaf9-d4f3-42e6-e637-b801dd897171"
   },
   "outputs": [],
   "source": [
    "# Adding the DBSCAN clusters columns\n",
    "reduced_scaledXC['dbscan_cluster'] = y_dbscan\n",
    "reduced_scaledXC.head()"
   ]
  },
  {
   "cell_type": "code",
   "execution_count": null,
   "id": "jHMXzXPgi8IY",
   "metadata": {
    "colab": {
     "base_uri": "https://localhost:8080/"
    },
    "executionInfo": {
     "elapsed": 5,
     "status": "ok",
     "timestamp": 1682881611313,
     "user": {
      "displayName": "Adedoyin Simeon",
      "userId": "06560907186348381188"
     },
     "user_tz": -60
    },
    "id": "jHMXzXPgi8IY",
    "outputId": "1199a861-5b22-4f03-aa62-c3845fb91379"
   },
   "outputs": [],
   "source": [
    "print(f'No of Clusters (DBSCAN): {reduced_scaledXC.dbscan_cluster.nunique()}')"
   ]
  },
  {
   "cell_type": "markdown",
   "id": "ZvxXF-9Jit2T",
   "metadata": {
    "id": "ZvxXF-9Jit2T"
   },
   "source": []
  },
  {
   "cell_type": "markdown",
   "id": "1eaAX4v4t516",
   "metadata": {
    "id": "1eaAX4v4t516"
   },
   "source": [
    "### Visualizing DBSCAN Clusters"
   ]
  },
  {
   "cell_type": "code",
   "execution_count": null,
   "id": "QAsPa0u1tCSB",
   "metadata": {
    "colab": {
     "base_uri": "https://localhost:8080/",
     "height": 1000
    },
    "executionInfo": {
     "elapsed": 52729,
     "status": "ok",
     "timestamp": 1682881755493,
     "user": {
      "displayName": "Adedoyin Simeon",
      "userId": "06560907186348381188"
     },
     "user_tz": -60
    },
    "id": "QAsPa0u1tCSB",
    "outputId": "7c5e158e-7d02-4383-91e0-d415a0e481a4"
   },
   "outputs": [],
   "source": [
    "n_clusters = y_dbscan.max() + 1\n",
    "\n",
    "plt.figure(figsize=(10,8))\n",
    "\n",
    "for i in range(n_clusters):\n",
    "    plt.scatter(reduced_scaledXC[reduced_scaledXC.dbscan_cluster == i].x1.values, \n",
    "                reduced_scaledXC[reduced_scaledXC.dbscan_cluster == i].x2.values,  \n",
    "                s=20, #c=COLORS[i], \n",
    "                label=f'Cluster_{i}')\n",
    "\n",
    "plt.title('Cluster of Employees using DBSCAN (Scaled Dataset)\\n')\n",
    "plt.xlabel('Dimension 1')\n",
    "plt.ylabel('Dimension 2')\n",
    "plt.legend(loc='lower right')"
   ]
  },
  {
   "cell_type": "code",
   "execution_count": null,
   "id": "FxnWs30euIEF",
   "metadata": {
    "colab": {
     "base_uri": "https://localhost:8080/",
     "height": 238
    },
    "executionInfo": {
     "elapsed": 16,
     "status": "ok",
     "timestamp": 1682881756540,
     "user": {
      "displayName": "Adedoyin Simeon",
      "userId": "06560907186348381188"
     },
     "user_tz": -60
    },
    "id": "FxnWs30euIEF",
    "outputId": "531e13b1-1814-4b87-be28-52115f559d15"
   },
   "outputs": [],
   "source": [
    "# Adding the DBSCAN clusters columns to clusters dataset \n",
    "clustering_data['dbscan_cluster'] = y_dbscan\n",
    "\n",
    "clustering_data.head()\n"
   ]
  },
  {
   "cell_type": "code",
   "execution_count": null,
   "id": "4gkSaHtZdNth",
   "metadata": {
    "id": "4gkSaHtZdNth"
   },
   "outputs": [],
   "source": []
  },
  {
   "cell_type": "markdown",
   "id": "JdKbV03Bi0Gj",
   "metadata": {
    "id": "JdKbV03Bi0Gj"
   },
   "source": [
    "## Analyzing DBSCAN Clustered Groups"
   ]
  },
  {
   "cell_type": "code",
   "execution_count": null,
   "id": "KN5uMulLi0Gl",
   "metadata": {
    "colab": {
     "base_uri": "https://localhost:8080/"
    },
    "executionInfo": {
     "elapsed": 8219,
     "status": "ok",
     "timestamp": 1682881884910,
     "user": {
      "displayName": "Adedoyin Simeon",
      "userId": "06560907186348381188"
     },
     "user_tz": -60
    },
    "id": "KN5uMulLi0Gl",
    "outputId": "86059d36-ceb4-4885-b1a7-f9b4c88976d6"
   },
   "outputs": [],
   "source": [
    "clustering_data.dbscan_cluster.value_counts()"
   ]
  },
  {
   "cell_type": "code",
   "execution_count": null,
   "id": "0J8SaiFli0Gm",
   "metadata": {
    "executionInfo": {
     "elapsed": 4,
     "status": "ok",
     "timestamp": 1682882001893,
     "user": {
      "displayName": "Adedoyin Simeon",
      "userId": "06560907186348381188"
     },
     "user_tz": -60
    },
    "id": "0J8SaiFli0Gm"
   },
   "outputs": [],
   "source": [
    "cluster0_db = clustering_data[clustering_data.dbscan_cluster == 0]\n",
    "cluster1_db = clustering_data[clustering_data.dbscan_cluster == 1]\n",
    "cluster2_db = clustering_data[clustering_data.dbscan_cluster == 2]\n",
    "cluster3_db = clustering_data[clustering_data.dbscan_cluster == 3]"
   ]
  },
  {
   "cell_type": "markdown",
   "id": "Y39sxj5ci0Gn",
   "metadata": {
    "id": "Y39sxj5ci0Gn"
   },
   "source": [
    "### Cluster 0 - DBSCAN"
   ]
  },
  {
   "cell_type": "code",
   "execution_count": null,
   "id": "OMAW2Qgyi0Gn",
   "metadata": {
    "colab": {
     "base_uri": "https://localhost:8080/",
     "height": 238
    },
    "executionInfo": {
     "elapsed": 13,
     "status": "ok",
     "timestamp": 1682882005858,
     "user": {
      "displayName": "Adedoyin Simeon",
      "userId": "06560907186348381188"
     },
     "user_tz": -60
    },
    "id": "OMAW2Qgyi0Gn",
    "outputId": "2d05a174-c1db-4073-e9cd-95c3c16c83a9"
   },
   "outputs": [],
   "source": [
    "cluster0_db.head()"
   ]
  },
  {
   "cell_type": "code",
   "execution_count": null,
   "id": "wbm4FLumi0Gn",
   "metadata": {
    "colab": {
     "base_uri": "https://localhost:8080/",
     "height": 318
    },
    "executionInfo": {
     "elapsed": 2536,
     "status": "ok",
     "timestamp": 1682882008386,
     "user": {
      "displayName": "Adedoyin Simeon",
      "userId": "06560907186348381188"
     },
     "user_tz": -60
    },
    "id": "wbm4FLumi0Gn",
    "outputId": "f39f0666-20ab-440a-a396-dd824cdf2093"
   },
   "outputs": [],
   "source": [
    "print('Cluster 0 Employees Group Analysis')\n",
    "cluster0_db.describe()"
   ]
  },
  {
   "cell_type": "code",
   "execution_count": null,
   "id": "BUMYZ2Jyi0Go",
   "metadata": {
    "executionInfo": {
     "elapsed": 79,
     "status": "ok",
     "timestamp": 1682882008387,
     "user": {
      "displayName": "Adedoyin Simeon",
      "userId": "06560907186348381188"
     },
     "user_tz": -60
    },
    "id": "BUMYZ2Jyi0Go"
   },
   "outputs": [],
   "source": []
  },
  {
   "cell_type": "markdown",
   "id": "ttRT-_z5i0Go",
   "metadata": {
    "id": "ttRT-_z5i0Go"
   },
   "source": [
    "### Cluster 1 - DBSCAN"
   ]
  },
  {
   "cell_type": "code",
   "execution_count": null,
   "id": "FO4ff4_Bi0Go",
   "metadata": {
    "colab": {
     "base_uri": "https://localhost:8080/",
     "height": 238
    },
    "executionInfo": {
     "elapsed": 79,
     "status": "ok",
     "timestamp": 1682882008388,
     "user": {
      "displayName": "Adedoyin Simeon",
      "userId": "06560907186348381188"
     },
     "user_tz": -60
    },
    "id": "FO4ff4_Bi0Go",
    "outputId": "1d126109-a5d7-4cb9-a9db-3a4cbf115eee"
   },
   "outputs": [],
   "source": [
    "cluster1_db.head()"
   ]
  },
  {
   "cell_type": "code",
   "execution_count": null,
   "id": "p-VwPSmEi0Go",
   "metadata": {
    "colab": {
     "base_uri": "https://localhost:8080/",
     "height": 352
    },
    "executionInfo": {
     "elapsed": 78,
     "status": "ok",
     "timestamp": 1682882008388,
     "user": {
      "displayName": "Adedoyin Simeon",
      "userId": "06560907186348381188"
     },
     "user_tz": -60
    },
    "id": "p-VwPSmEi0Go",
    "outputId": "19d9f06c-dc41-4ed7-c7ec-09735ef01e39"
   },
   "outputs": [],
   "source": [
    "print('Cluster 1 Employees Group Analysis\\n\\n')\n",
    "cluster1_db.describe()"
   ]
  },
  {
   "cell_type": "code",
   "execution_count": null,
   "id": "_O9mLaxQi0Gp",
   "metadata": {
    "executionInfo": {
     "elapsed": 6,
     "status": "ok",
     "timestamp": 1682882010098,
     "user": {
      "displayName": "Adedoyin Simeon",
      "userId": "06560907186348381188"
     },
     "user_tz": -60
    },
    "id": "_O9mLaxQi0Gp"
   },
   "outputs": [],
   "source": []
  },
  {
   "cell_type": "markdown",
   "id": "5t-NezmTi0Gp",
   "metadata": {
    "id": "5t-NezmTi0Gp"
   },
   "source": [
    "### Cluster 2 - DBSCAN"
   ]
  },
  {
   "cell_type": "code",
   "execution_count": null,
   "id": "Jc9ohoESi0Gp",
   "metadata": {
    "colab": {
     "base_uri": "https://localhost:8080/",
     "height": 238
    },
    "executionInfo": {
     "elapsed": 30,
     "status": "ok",
     "timestamp": 1682882011147,
     "user": {
      "displayName": "Adedoyin Simeon",
      "userId": "06560907186348381188"
     },
     "user_tz": -60
    },
    "id": "Jc9ohoESi0Gp",
    "outputId": "8a7caeb5-9fad-49d2-f9b0-e2681c5aa318"
   },
   "outputs": [],
   "source": [
    "cluster2_db.head()"
   ]
  },
  {
   "cell_type": "code",
   "execution_count": null,
   "id": "nj0EQk7oi0Gp",
   "metadata": {
    "colab": {
     "base_uri": "https://localhost:8080/",
     "height": 318
    },
    "executionInfo": {
     "elapsed": 8,
     "status": "ok",
     "timestamp": 1682882032189,
     "user": {
      "displayName": "Adedoyin Simeon",
      "userId": "06560907186348381188"
     },
     "user_tz": -60
    },
    "id": "nj0EQk7oi0Gp",
    "outputId": "dd463438-6c49-4a23-b43e-77c31bece66f"
   },
   "outputs": [],
   "source": [
    "print('Cluster 2 Employees Group Analysis')\n",
    "cluster2_db.describe()"
   ]
  },
  {
   "cell_type": "code",
   "execution_count": null,
   "id": "ioiiuH3Ti0Gp",
   "metadata": {
    "id": "ioiiuH3Ti0Gp"
   },
   "outputs": [],
   "source": []
  },
  {
   "cell_type": "markdown",
   "id": "8nUfeXP2i0Gp",
   "metadata": {
    "id": "8nUfeXP2i0Gp"
   },
   "source": [
    "### Cluster 3 - Kmeans"
   ]
  },
  {
   "cell_type": "code",
   "execution_count": null,
   "id": "wFPlAX3oi0Gp",
   "metadata": {
    "colab": {
     "base_uri": "https://localhost:8080/",
     "height": 238
    },
    "executionInfo": {
     "elapsed": 21,
     "status": "ok",
     "timestamp": 1682882037812,
     "user": {
      "displayName": "Adedoyin Simeon",
      "userId": "06560907186348381188"
     },
     "user_tz": -60
    },
    "id": "wFPlAX3oi0Gp",
    "outputId": "f52ddabe-f46b-45c2-8718-2b455a88e420"
   },
   "outputs": [],
   "source": [
    "cluster3_db.head()"
   ]
  },
  {
   "cell_type": "code",
   "execution_count": null,
   "id": "gOSlfnrUi0Gq",
   "metadata": {
    "colab": {
     "base_uri": "https://localhost:8080/",
     "height": 318
    },
    "executionInfo": {
     "elapsed": 3524,
     "status": "ok",
     "timestamp": 1682882041317,
     "user": {
      "displayName": "Adedoyin Simeon",
      "userId": "06560907186348381188"
     },
     "user_tz": -60
    },
    "id": "gOSlfnrUi0Gq",
    "outputId": "0e84cb9a-e4db-4204-fcf8-79413249c052"
   },
   "outputs": [],
   "source": [
    "print('Cluster 3 Employees Group Analysis')\n",
    "cluster3_db.describe()"
   ]
  },
  {
   "cell_type": "code",
   "execution_count": null,
   "id": "kd86nDTJljra",
   "metadata": {
    "executionInfo": {
     "elapsed": 512569,
     "status": "ok",
     "timestamp": 1682883706540,
     "user": {
      "displayName": "Adedoyin Simeon",
      "userId": "06560907186348381188"
     },
     "user_tz": -60
    },
    "id": "kd86nDTJljra"
   },
   "outputs": [],
   "source": [
    "silhouette_score_db = silhouette_score(scaledXC, y_dbscan)"
   ]
  },
  {
   "cell_type": "code",
   "execution_count": null,
   "id": "OxJXPcv3mU-A",
   "metadata": {
    "colab": {
     "base_uri": "https://localhost:8080/"
    },
    "executionInfo": {
     "elapsed": 0,
     "status": "ok",
     "timestamp": 1682883706672,
     "user": {
      "displayName": "Adedoyin Simeon",
      "userId": "06560907186348381188"
     },
     "user_tz": -60
    },
    "id": "OxJXPcv3mU-A",
    "outputId": "2e3d8535-70c2-4f61-a61b-862d3b9fbe00"
   },
   "outputs": [],
   "source": [
    "print(f'DBSCAN Silhouette Score: {silhouette_score_db}')"
   ]
  },
  {
   "cell_type": "markdown",
   "id": "062e0271",
   "metadata": {},
   "source": [
    "DBSCAN Silhouette Score: -0.2685777444300517"
   ]
  },
  {
   "cell_type": "markdown",
   "id": "yYLDDclki0Gq",
   "metadata": {
    "id": "yYLDDclki0Gq"
   },
   "source": [
    "**Interpretation of Cluster Results**\n",
    "\n",
    "The result shows a silhouette score of -0.27 which indicates how compact points within clusters are and how far apart points across clusters are. It measures the ratio of intra-cluster to inter cluster distances, ranging between -1 and 1, with -1 being the worst clustering and 1 being the best. \n",
    "\n",
    "The result of -0.27 shows a very poor clustering. Although it is slightly close to 0, The negative value shows higher average intra-cluster distances than average inter-cluster distances, showing a considerable  amount of overlaping clusters.\n",
    "\n",
    "It can be observed that KMeans clustering model did way better than DBSCAN with a silhouette score of 0.34 compared to -0.27 silhouette score of DBSCAN.\n",
    "\n",
    "It can also be observed that DBSCAN produced too many clusters up to 286 clusters, which is too large and contains a lot of overlapping clusters as shown in the visualized clusters (for DBSCAN)."
   ]
  },
  {
   "cell_type": "code",
   "execution_count": null,
   "id": "XgLolpmuWRgN",
   "metadata": {
    "colab": {
     "base_uri": "https://localhost:8080/"
    },
    "executionInfo": {
     "elapsed": 3161,
     "status": "ok",
     "timestamp": 1682884290199,
     "user": {
      "displayName": "Adedoyin Simeon",
      "userId": "06560907186348381188"
     },
     "user_tz": -60
    },
    "id": "XgLolpmuWRgN",
    "outputId": "61539cdc-00fa-4657-dd1f-182387c709a7"
   },
   "outputs": [],
   "source": [
    "# saving the KMeans trained model\n",
    "save_model_pickle(kmeans, filename='KMEANS_MODEL.pickle')\n",
    "\n",
    "# saving the DBSCAN trained model\n",
    "save_model_pickle(dbscan, filename='DBSCAN_MODEL.pickle')\n",
    "\n",
    "# saving clustering 'scaler' object\n",
    "save_model_pickle(scaler_clust, filename='SCALER_for_CLUSTERING.pickle')\n",
    "\n",
    "# Saving a copy of the clusters dataset along with the KMeans & DBSCAN clustered labels\n",
    "clustering_data.to_csv(f'{RESULTS_PATH}/clustered_Dataset.csv')\n"
   ]
  },
  {
   "cell_type": "code",
   "execution_count": null,
   "id": "8mqysq4MdNG3",
   "metadata": {
    "id": "8mqysq4MdNG3"
   },
   "outputs": [],
   "source": []
  },
  {
   "cell_type": "markdown",
   "id": "N8DG1Du7IxOG",
   "metadata": {
    "id": "N8DG1Du7IxOG"
   },
   "source": [
    "---\n",
    "# CLASSIFICATION\n",
    "---"
   ]
  },
  {
   "cell_type": "markdown",
   "id": "d9cUQmYdeFM7",
   "metadata": {
    "id": "d9cUQmYdeFM7"
   },
   "source": [
    "This task is to classifier employee into ```well-paid``` (Hourly wage above Federally approved US minimum wage of $7.50) and ```not-well-paid``` (hourly wage below minimum wage of $7.50).\n",
    "\n",
    "These classes will be encoded as:\n",
    "```bash\n",
    "{0: not-well-paid, 1: well-paid}\n",
    "```"
   ]
  },
  {
   "cell_type": "markdown",
   "id": "wtOCkkK5mo5v",
   "metadata": {
    "id": "wtOCkkK5mo5v"
   },
   "source": [
    "## My custom class encoder_decoder utility function"
   ]
  },
  {
   "cell_type": "code",
   "execution_count": null,
   "id": "NPSMawxWmn6R",
   "metadata": {
    "executionInfo": {
     "elapsed": 4,
     "status": "ok",
     "timestamp": 1682884328256,
     "user": {
      "displayName": "Adedoyin Simeon",
      "userId": "06560907186348381188"
     },
     "user_tz": -60
    },
    "id": "NPSMawxWmn6R"
   },
   "outputs": [],
   "source": [
    "def encode_wage(hourly_wage):\n",
    "  min_wage = 7.50\n",
    "  if hourly_wage < min_wage:\n",
    "    return 0\n",
    "  else:\n",
    "    return 1\n",
    "\n",
    "\n",
    "def encode_class(class_name):\n",
    "  if class_name == 'not-well-paid':\n",
    "      return 0\n",
    "  elif class_name == 'well-paid':\n",
    "      return 1\n",
    "  else:\n",
    "      raise Exception('Class name passed not recognized, valid values are {\"well-paid\", \"not-well-paid\"}')\n",
    "\n",
    "\n",
    "def decode_class(class_label):\n",
    "    if class_label == 0:\n",
    "        return 'not-well-paid'\n",
    "    elif class_label == 1:\n",
    "        return 'well-paid'\n",
    "    else:\n",
    "        raise Exception('Invaid class label. Valid labels are {0, 1}')"
   ]
  },
  {
   "cell_type": "code",
   "execution_count": null,
   "id": "1sGtGVWUuTYx",
   "metadata": {
    "id": "1sGtGVWUuTYx"
   },
   "outputs": [],
   "source": []
  },
  {
   "cell_type": "code",
   "execution_count": null,
   "id": "2259-A_PQat6",
   "metadata": {
    "executionInfo": {
     "elapsed": 713,
     "status": "ok",
     "timestamp": 1682884342057,
     "user": {
      "displayName": "Adedoyin Simeon",
      "userId": "06560907186348381188"
     },
     "user_tz": -60
    },
    "id": "2259-A_PQat6"
   },
   "outputs": [],
   "source": [
    "CLASSIFICATION_METRICS = ['Accuracy', 'Precision', 'Recall']"
   ]
  },
  {
   "cell_type": "markdown",
   "id": "-hONGKvvJ_TE",
   "metadata": {
    "id": "-hONGKvvJ_TE"
   },
   "source": [
    "## Data Segmentation for Classification"
   ]
  },
  {
   "cell_type": "code",
   "execution_count": null,
   "id": "e4GC7UfZukEp",
   "metadata": {
    "colab": {
     "base_uri": "https://localhost:8080/",
     "height": 331
    },
    "executionInfo": {
     "elapsed": 1088,
     "status": "ok",
     "timestamp": 1682884484557,
     "user": {
      "displayName": "Adedoyin Simeon",
      "userId": "06560907186348381188"
     },
     "user_tz": -60
    },
    "id": "e4GC7UfZukEp",
    "outputId": "fb137458-ce0a-47c1-a526-3ef61bfb3e48"
   },
   "outputs": [],
   "source": [
    "XC.head()"
   ]
  },
  {
   "cell_type": "code",
   "execution_count": null,
   "id": "GxpjBgBQJ5VQ",
   "metadata": {
    "executionInfo": {
     "elapsed": 725,
     "status": "ok",
     "timestamp": 1682884823249,
     "user": {
      "displayName": "Adedoyin Simeon",
      "userId": "06560907186348381188"
     },
     "user_tz": -60
    },
    "id": "GxpjBgBQJ5VQ"
   },
   "outputs": [],
   "source": [
    "XClass = XC.drop(columns=['realhrwage'])\n",
    "yClass = XC.realhrwage.apply(encode_wage)"
   ]
  },
  {
   "cell_type": "code",
   "execution_count": null,
   "id": "t3I495FPKoRZ",
   "metadata": {
    "colab": {
     "base_uri": "https://localhost:8080/",
     "height": 331
    },
    "executionInfo": {
     "elapsed": 699,
     "status": "ok",
     "timestamp": 1682884831548,
     "user": {
      "displayName": "Adedoyin Simeon",
      "userId": "06560907186348381188"
     },
     "user_tz": -60
    },
    "id": "t3I495FPKoRZ",
    "outputId": "c15697e6-82c1-4655-d1df-7b63e2a5b007"
   },
   "outputs": [],
   "source": [
    "XClass.head()"
   ]
  },
  {
   "cell_type": "code",
   "execution_count": null,
   "id": "r9zKp6FswMTa",
   "metadata": {
    "colab": {
     "base_uri": "https://localhost:8080/"
    },
    "executionInfo": {
     "elapsed": 726,
     "status": "ok",
     "timestamp": 1682884850396,
     "user": {
      "displayName": "Adedoyin Simeon",
      "userId": "06560907186348381188"
     },
     "user_tz": -60
    },
    "id": "r9zKp6FswMTa",
    "outputId": "cd105bca-fa7d-40d0-ee00-72de27c263b1"
   },
   "outputs": [],
   "source": [
    "yClass.head()"
   ]
  },
  {
   "cell_type": "code",
   "execution_count": null,
   "id": "sr-Qbpw6KZbs",
   "metadata": {
    "colab": {
     "base_uri": "https://localhost:8080/"
    },
    "executionInfo": {
     "elapsed": 1192,
     "status": "ok",
     "timestamp": 1682884880630,
     "user": {
      "displayName": "Adedoyin Simeon",
      "userId": "06560907186348381188"
     },
     "user_tz": -60
    },
    "id": "sr-Qbpw6KZbs",
    "outputId": "b8d8e4b8-4f9c-4683-aca6-91da054da33d"
   },
   "outputs": [],
   "source": [
    "print(f'Shape of X: {XClass.shape}')"
   ]
  },
  {
   "cell_type": "code",
   "execution_count": null,
   "id": "_jq3CT4WwXUB",
   "metadata": {
    "colab": {
     "base_uri": "https://localhost:8080/"
    },
    "executionInfo": {
     "elapsed": 953,
     "status": "ok",
     "timestamp": 1682884893377,
     "user": {
      "displayName": "Adedoyin Simeon",
      "userId": "06560907186348381188"
     },
     "user_tz": -60
    },
    "id": "_jq3CT4WwXUB",
    "outputId": "b15c90eb-4a12-441a-f4a0-ef760ffb1e9c"
   },
   "outputs": [],
   "source": [
    "XClass.info()"
   ]
  },
  {
   "cell_type": "code",
   "execution_count": null,
   "id": "m7ZoAVV3w--U",
   "metadata": {
    "colab": {
     "base_uri": "https://localhost:8080/"
    },
    "executionInfo": {
     "elapsed": 3210,
     "status": "ok",
     "timestamp": 1682885054080,
     "user": {
      "displayName": "Adedoyin Simeon",
      "userId": "06560907186348381188"
     },
     "user_tz": -60
    },
    "id": "m7ZoAVV3w--U",
    "outputId": "c071ca2b-8cfb-4572-ae69-c6f5f665ad39"
   },
   "outputs": [],
   "source": [
    "yClass.value_counts()"
   ]
  },
  {
   "cell_type": "code",
   "execution_count": null,
   "id": "ehAHBPIIwayz",
   "metadata": {
    "colab": {
     "base_uri": "https://localhost:8080/",
     "height": 703
    },
    "executionInfo": {
     "elapsed": 2669,
     "status": "ok",
     "timestamp": 1682885084376,
     "user": {
      "displayName": "Adedoyin Simeon",
      "userId": "06560907186348381188"
     },
     "user_tz": -60
    },
    "id": "ehAHBPIIwayz",
    "outputId": "dc337087-e876-4d1d-9388-7542e8c0d759"
   },
   "outputs": [],
   "source": [
    "yClass.value_counts().plot.bar(title='Target Variable Distribution')"
   ]
  },
  {
   "cell_type": "markdown",
   "id": "-0RB_ur92FMX",
   "metadata": {
    "id": "-0RB_ur92FMX"
   },
   "source": [
    "**It can be observed above that there is huge class imbalance that may introduce bias towards the majority class in our model.**\n",
    "\n",
    "We therefore need to remove the imbalance. We chose to randomly sample the same size of observations for both classes."
   ]
  },
  {
   "cell_type": "code",
   "execution_count": null,
   "id": "ZwY_gRl-xJjB",
   "metadata": {
    "executionInfo": {
     "elapsed": 7801,
     "status": "ok",
     "timestamp": 1682885721360,
     "user": {
      "displayName": "Adedoyin Simeon",
      "userId": "06560907186348381188"
     },
     "user_tz": -60
    },
    "id": "ZwY_gRl-xJjB"
   },
   "outputs": [],
   "source": [
    "# Saving a copy of the dataset used for classification\n",
    "yClass.name = 'hrwage_class_label'\n",
    "classification_dataset = pd.concat([XClass, yClass], axis='columns')\n",
    "classification_dataset.to_csv(f'{RESULTS_PATH}/classification_dataset.csv')"
   ]
  },
  {
   "cell_type": "code",
   "execution_count": null,
   "id": "kjfm1O1YzFNZ",
   "metadata": {
    "colab": {
     "base_uri": "https://localhost:8080/",
     "height": 331
    },
    "executionInfo": {
     "elapsed": 30,
     "status": "ok",
     "timestamp": 1682885725184,
     "user": {
      "displayName": "Adedoyin Simeon",
      "userId": "06560907186348381188"
     },
     "user_tz": -60
    },
    "id": "kjfm1O1YzFNZ",
    "outputId": "35e2c905-2d98-4d62-d030-06744af5586d"
   },
   "outputs": [],
   "source": [
    "classification_dataset.head()"
   ]
  },
  {
   "cell_type": "markdown",
   "id": "z9t5s5vzyERd",
   "metadata": {
    "id": "z9t5s5vzyERd"
   },
   "source": [
    "## Moderating Class Imbalance (to avoid a possible bias towards the majority class)\n",
    "\n",
    "**In order to remove a possible bias towards the well-paid (1) class due to class imbalance, we have chosen to select equal randomly sampled observations for both classes.**"
   ]
  },
  {
   "cell_type": "code",
   "execution_count": null,
   "id": "TIRb6SXqxpid",
   "metadata": {
    "colab": {
     "base_uri": "https://localhost:8080/"
    },
    "executionInfo": {
     "elapsed": 1993,
     "status": "ok",
     "timestamp": 1682885821081,
     "user": {
      "displayName": "Adedoyin Simeon",
      "userId": "06560907186348381188"
     },
     "user_tz": -60
    },
    "id": "TIRb6SXqxpid",
    "outputId": "d9d5ad40-9b4e-4236-a7d4-7c7a27a755c8"
   },
   "outputs": [],
   "source": [
    "labels_0_data = classification_dataset[classification_dataset.hrwage_class_label == 0]\n",
    "labels_1_data = classification_dataset[classification_dataset.hrwage_class_label == 1]\n",
    "\n",
    "print(f'Class 0 Population size: {len(labels_0_data)}')\n",
    "print(f'Class 1 Population size: {len(labels_1_data)}')"
   ]
  },
  {
   "cell_type": "code",
   "execution_count": null,
   "id": "Si0agJwY0Kiq",
   "metadata": {
    "executionInfo": {
     "elapsed": 704,
     "status": "ok",
     "timestamp": 1682888066372,
     "user": {
      "displayName": "Adedoyin Simeon",
      "userId": "06560907186348381188"
     },
     "user_tz": -60
    },
    "id": "Si0agJwY0Kiq"
   },
   "outputs": [],
   "source": [
    "sampled_labels_1_data = labels_1_data.sample(len(labels_0_data), random_state=60)"
   ]
  },
  {
   "cell_type": "code",
   "execution_count": null,
   "id": "7y6rRVcX3pax",
   "metadata": {
    "colab": {
     "base_uri": "https://localhost:8080/"
    },
    "executionInfo": {
     "elapsed": 701,
     "status": "ok",
     "timestamp": 1682888070518,
     "user": {
      "displayName": "Adedoyin Simeon",
      "userId": "06560907186348381188"
     },
     "user_tz": -60
    },
    "id": "7y6rRVcX3pax",
    "outputId": "6cae9357-4af0-4503-e177-634fb12fcc23"
   },
   "outputs": [],
   "source": [
    "bal_class_ds = pd.concat([labels_0_data, sampled_labels_1_data], axis='index')\n",
    "print(f'Class 0 Population size: {len(labels_0_data)}')\n",
    "print(f'Balanced Class 1 Population size: {len(sampled_labels_1_data)}')\n",
    "print(f'Shape of balanced dataset: {bal_class_ds.shape}')\n"
   ]
  },
  {
   "cell_type": "code",
   "execution_count": null,
   "id": "oZQCV-HT3dJd",
   "metadata": {
    "colab": {
     "base_uri": "https://localhost:8080/",
     "height": 712
    },
    "executionInfo": {
     "elapsed": 2058,
     "status": "ok",
     "timestamp": 1682888076964,
     "user": {
      "displayName": "Adedoyin Simeon",
      "userId": "06560907186348381188"
     },
     "user_tz": -60
    },
    "id": "oZQCV-HT3dJd",
    "outputId": "38202689-79ee-4c71-c8d3-ac5af5cfa4f3"
   },
   "outputs": [],
   "source": [
    "# Reviewing Target Data Distribution\n",
    "bal_class_ds.hrwage_class_label.value_counts().plot.bar(title='Balanced Target Variable Distribution (Moderated)')"
   ]
  },
  {
   "cell_type": "code",
   "execution_count": null,
   "id": "he1t_vSi1wHb",
   "metadata": {
    "executionInfo": {
     "elapsed": 5,
     "status": "ok",
     "timestamp": 1682888081113,
     "user": {
      "displayName": "Adedoyin Simeon",
      "userId": "06560907186348381188"
     },
     "user_tz": -60
    },
    "id": "he1t_vSi1wHb"
   },
   "outputs": [],
   "source": [
    "new_XClass = bal_class_ds.drop(columns=['hrwage_class_label'])\n",
    "new_yClass = bal_class_ds.hrwage_class_label"
   ]
  },
  {
   "cell_type": "code",
   "execution_count": null,
   "id": "WhwGkvM24hVV",
   "metadata": {
    "colab": {
     "base_uri": "https://localhost:8080/",
     "height": 331
    },
    "executionInfo": {
     "elapsed": 32,
     "status": "ok",
     "timestamp": 1682888082842,
     "user": {
      "displayName": "Adedoyin Simeon",
      "userId": "06560907186348381188"
     },
     "user_tz": -60
    },
    "id": "WhwGkvM24hVV",
    "outputId": "413378d7-5e14-46a6-c790-0bc4fcb5b3c5"
   },
   "outputs": [],
   "source": [
    "new_XClass.head()"
   ]
  },
  {
   "cell_type": "code",
   "execution_count": null,
   "id": "sFCcSpaP4o4v",
   "metadata": {
    "colab": {
     "base_uri": "https://localhost:8080/"
    },
    "executionInfo": {
     "elapsed": 17,
     "status": "ok",
     "timestamp": 1682888085504,
     "user": {
      "displayName": "Adedoyin Simeon",
      "userId": "06560907186348381188"
     },
     "user_tz": -60
    },
    "id": "sFCcSpaP4o4v",
    "outputId": "f8a0a74b-5820-42b3-d356-3624b9077063"
   },
   "outputs": [],
   "source": [
    "new_yClass.head()"
   ]
  },
  {
   "cell_type": "markdown",
   "id": "SqgqGy3WKTSC",
   "metadata": {
    "id": "SqgqGy3WKTSC"
   },
   "source": [
    "## Scaling the features (X)"
   ]
  },
  {
   "cell_type": "code",
   "execution_count": null,
   "id": "8xLBsb3SKZU8",
   "metadata": {
    "colab": {
     "base_uri": "https://localhost:8080/",
     "height": 331
    },
    "executionInfo": {
     "elapsed": 1489,
     "status": "ok",
     "timestamp": 1682891828788,
     "user": {
      "displayName": "Adedoyin Simeon",
      "userId": "06560907186348381188"
     },
     "user_tz": -60
    },
    "id": "8xLBsb3SKZU8",
    "outputId": "b5369e66-0135-43d8-b26c-58c41df3818f"
   },
   "outputs": [],
   "source": [
    "scaler_classif = MinMaxScaler()\n",
    "scaled_XClass = scaler_classif.fit_transform(new_XClass)\n",
    "scaled_XClass = pd.DataFrame(scaled_XClass, columns=new_XClass.columns, index=new_XClass.index)\n",
    "scaled_XClass.head()"
   ]
  },
  {
   "cell_type": "code",
   "execution_count": null,
   "id": "H6j0BwcDKflj",
   "metadata": {
    "executionInfo": {
     "elapsed": 943,
     "status": "ok",
     "timestamp": 1682891865523,
     "user": {
      "displayName": "Adedoyin Simeon",
      "userId": "06560907186348381188"
     },
     "user_tz": -60
    },
    "id": "H6j0BwcDKflj"
   },
   "outputs": [],
   "source": [
    "X_train, X_test, y_train, y_test = train_test_split(scaled_XClass, new_yClass, test_size=0.30, random_state=42)"
   ]
  },
  {
   "cell_type": "code",
   "execution_count": null,
   "id": "tsT-uEytK0Cc",
   "metadata": {
    "colab": {
     "base_uri": "https://localhost:8080/"
    },
    "executionInfo": {
     "elapsed": 5,
     "status": "ok",
     "timestamp": 1682891866436,
     "user": {
      "displayName": "Adedoyin Simeon",
      "userId": "06560907186348381188"
     },
     "user_tz": -60
    },
    "id": "tsT-uEytK0Cc",
    "outputId": "72d86049-14f4-41e5-f991-f61a382056d8"
   },
   "outputs": [],
   "source": [
    "print(f'Shape of X: {new_XClass.shape}')\n",
    "print(f'Shape of X-Train: {X_train.shape}')\n",
    "print(f'Shape of X-Test: {X_test.shape}')"
   ]
  },
  {
   "cell_type": "code",
   "execution_count": null,
   "id": "2QSLujDLKz8S",
   "metadata": {
    "executionInfo": {
     "elapsed": 3,
     "status": "ok",
     "timestamp": 1682888089803,
     "user": {
      "displayName": "Adedoyin Simeon",
      "userId": "06560907186348381188"
     },
     "user_tz": -60
    },
    "id": "2QSLujDLKz8S"
   },
   "outputs": [],
   "source": []
  },
  {
   "cell_type": "markdown",
   "id": "u2wpqVOPI8DV",
   "metadata": {
    "id": "u2wpqVOPI8DV"
   },
   "source": [
    "---\n",
    "## Random Forest Classifier"
   ]
  },
  {
   "cell_type": "code",
   "execution_count": null,
   "id": "_wivgHZlLDib",
   "metadata": {
    "colab": {
     "base_uri": "https://localhost:8080/"
    },
    "executionInfo": {
     "elapsed": 826611,
     "status": "ok",
     "timestamp": 1682892895346,
     "user": {
      "displayName": "Adedoyin Simeon",
      "userId": "06560907186348381188"
     },
     "user_tz": -60
    },
    "id": "_wivgHZlLDib",
    "outputId": "cc09239d-147b-4fbc-f0bc-f26d15937998"
   },
   "outputs": [],
   "source": [
    "# instantiation\n",
    "svc2 = SVC(C=1, kernel='rbf', tol=0.001, gamma='scale', probability=True, random_state=60)\n",
    "\n",
    "# training\n",
    "svc2.fit(X_train, y_train)\n",
    "\n",
    "# predictions\n",
    "svc2_pred = svc2.predict(X_test)\n",
    "\n",
    "print(f'Classification Report for SVC2-Classifier: \\n')\n",
    "print(classification_report(y_test, svc2_pred))"
   ]
  },
  {
   "cell_type": "code",
   "execution_count": null,
   "id": "ZsqKJwIO9eUf",
   "metadata": {
    "colab": {
     "base_uri": "https://localhost:8080/",
     "height": 75
    },
    "executionInfo": {
     "elapsed": 6205,
     "status": "ok",
     "timestamp": 1682888097273,
     "user": {
      "displayName": "Adedoyin Simeon",
      "userId": "06560907186348381188"
     },
     "user_tz": -60
    },
    "id": "ZsqKJwIO9eUf",
    "outputId": "29069100-3723-4ae1-a810-f2695486f769"
   },
   "outputs": [],
   "source": [
    "# instantiation\n",
    "rf = RandomForestClassifier(n_estimators=100, random_state=60)\n",
    "\n",
    "# training\n",
    "rf.fit(X_train, y_train)"
   ]
  },
  {
   "cell_type": "code",
   "execution_count": null,
   "id": "bKpKBASnLHWT",
   "metadata": {
    "colab": {
     "base_uri": "https://localhost:8080/"
    },
    "executionInfo": {
     "elapsed": 7,
     "status": "ok",
     "timestamp": 1682888097274,
     "user": {
      "displayName": "Adedoyin Simeon",
      "userId": "06560907186348381188"
     },
     "user_tz": -60
    },
    "id": "bKpKBASnLHWT",
    "outputId": "6f137ccf-39a6-457c-c331-d1f494210f17"
   },
   "outputs": [],
   "source": [
    "# predictions\n",
    "rf_pred = rf.predict(X_test)\n",
    "\n",
    "# evaluations\n",
    "rf_acc = accuracy_score(y_test, rf_pred)\n",
    "rf_prec = precision_score(y_test, rf_pred, average='weighted')\n",
    "rf_rec = recall_score(y_test, rf_pred, average='weighted')\n",
    "\n",
    "rf_cf = confusion_matrix(y_test, rf_pred)\n",
    "\n",
    "print(f'Classification Report for RF-Classifier: \\n')\n",
    "print(classification_report(y_test, rf_pred))"
   ]
  },
  {
   "cell_type": "markdown",
   "id": "-ihyHYFVQN-9",
   "metadata": {
    "id": "-ihyHYFVQN-9"
   },
   "source": [
    "**Interpretation of the Classification Report for Random Forest Classifier**\n",
    "\n",
    "As shown above, Random Forest classifier has an average precision, recall, f1-score and by implication accuracy of 0.91.\n",
    "\n",
    "The lowest class prediction is 0.88 recall for ```well-paid (class 1)``` employees and 0.89 precision for ```non-well-paid (class 0)``` employees."
   ]
  },
  {
   "cell_type": "code",
   "execution_count": null,
   "id": "YENDvb3uMJiY",
   "metadata": {
    "colab": {
     "base_uri": "https://localhost:8080/",
     "height": 494
    },
    "executionInfo": {
     "elapsed": 4106,
     "status": "ok",
     "timestamp": 1682888287081,
     "user": {
      "displayName": "Adedoyin Simeon",
      "userId": "06560907186348381188"
     },
     "user_tz": -60
    },
    "id": "YENDvb3uMJiY",
    "outputId": "94db2fe5-8761-47df-9f15-f040df944ec0"
   },
   "outputs": [],
   "source": [
    "plt.figure(figsize=(6,4))\n",
    "sns.heatmap(rf_cf, fmt='.4g', annot=True, cmap='Blues')\n",
    "plt.title('\\nConfusion Matrix for Random Forest Classifier\\n')"
   ]
  },
  {
   "cell_type": "code",
   "execution_count": null,
   "id": "fiwKNnNeN4uJ",
   "metadata": {
    "colab": {
     "base_uri": "https://localhost:8080/",
     "height": 494
    },
    "executionInfo": {
     "elapsed": 2382,
     "status": "ok",
     "timestamp": 1682888289422,
     "user": {
      "displayName": "Adedoyin Simeon",
      "userId": "06560907186348381188"
     },
     "user_tz": -60
    },
    "id": "fiwKNnNeN4uJ",
    "outputId": "805b7069-25a2-481d-9655-8834d487e466"
   },
   "outputs": [],
   "source": [
    "cf_perc = (rf_cf / rf_cf.sum(axis=0) * 100).round(1).reshape(2,2)\n",
    "\n",
    "plt.figure(figsize=(6,4))\n",
    "sns.heatmap(cf_perc, annot=True, fmt='.1f', cmap='Blues')\n",
    "plt.title('\\nConfusion Matrix for Random Forest Classifier (%)\\n')"
   ]
  },
  {
   "cell_type": "markdown",
   "id": "SPLOpce0Q961",
   "metadata": {
    "id": "SPLOpce0Q961"
   },
   "source": [
    "**Interpretation of the Confusion Matrix for Random Forest Classifier**\n",
    "\n",
    "As shown above, the x-axis (vertical) indicate the true classes (clusters) and the y-axis (horizontal) indicates the predicted classes (clusters). The diagonal axis indicates number and corresponding percentages of correct classifications, while the rest are misclassifications.\n",
    "\n",
    "Out of 7,911 employees belonging to class 0 (not-well-paid) presented for classification, 7,492 of them were correctly classified, constituting about 88.6% of the population, while 966 (11.4%) employees were mis-classified as belonging to class 1 (well-paid).\n",
    "\n",
    "Also, of the 7,964 employees who are in class 1 (well-paid), 6,998 (94.4%)of them were correctly classified and the remaining 419 (5.6%) employees were miscalssified as class 0 (not-well-paid).\n",
    "\n",
    "And so on. The overall performances shown that out of the 15,875 employees presented for classification, 14,490 (91.3%) of them were correctly classified leaving only about 9.7% misclassification."
   ]
  },
  {
   "cell_type": "code",
   "execution_count": null,
   "id": "2hV5y40pQWlT",
   "metadata": {
    "colab": {
     "base_uri": "https://localhost:8080/",
     "height": 143
    },
    "executionInfo": {
     "elapsed": 2068,
     "status": "ok",
     "timestamp": 1682888510861,
     "user": {
      "displayName": "Adedoyin Simeon",
      "userId": "06560907186348381188"
     },
     "user_tz": -60
    },
    "id": "2hV5y40pQWlT",
    "outputId": "0bd62ee4-756c-4238-897f-c11c47492ba9"
   },
   "outputs": [],
   "source": [
    "rf_results = {\n",
    "    'RF': [rf_acc, rf_prec, rf_rec]\n",
    "}\n",
    "rf_results = pd.DataFrame(rf_results, index=CLASSIFICATION_METRICS)\n",
    "rf_results"
   ]
  },
  {
   "cell_type": "code",
   "execution_count": null,
   "id": "LwtUZeriRY2W",
   "metadata": {
    "colab": {
     "base_uri": "https://localhost:8080/",
     "height": 843
    },
    "executionInfo": {
     "elapsed": 2179,
     "status": "ok",
     "timestamp": 1682888562480,
     "user": {
      "displayName": "Adedoyin Simeon",
      "userId": "06560907186348381188"
     },
     "user_tz": -60
    },
    "id": "LwtUZeriRY2W",
    "outputId": "7367a70d-3acb-49f1-f5b6-4c364196a14d"
   },
   "outputs": [],
   "source": [
    "plt.figure(figsize=(6,4))\n",
    "rf_results.plot.bar(title='RF Results')"
   ]
  },
  {
   "cell_type": "code",
   "execution_count": null,
   "id": "oK6RlLCfRmbI",
   "metadata": {
    "id": "oK6RlLCfRmbI"
   },
   "outputs": [],
   "source": []
  },
  {
   "cell_type": "markdown",
   "id": "oByUwS_MRq-H",
   "metadata": {
    "id": "oByUwS_MRq-H"
   },
   "source": [
    "---\n",
    "## Support Vector Classifier (SVC)"
   ]
  },
  {
   "cell_type": "code",
   "execution_count": null,
   "id": "3_SeScN2Rq-H",
   "metadata": {
    "colab": {
     "base_uri": "https://localhost:8080/",
     "height": 75
    },
    "executionInfo": {
     "elapsed": 728221,
     "status": "ok",
     "timestamp": 1682889311275,
     "user": {
      "displayName": "Adedoyin Simeon",
      "userId": "06560907186348381188"
     },
     "user_tz": -60
    },
    "id": "3_SeScN2Rq-H",
    "outputId": "b8db7d79-4ad8-43ac-c224-c3e48e4c7d26"
   },
   "outputs": [],
   "source": [
    "# instantiation\n",
    "svc = SVC(C=1, kernel='rbf', tol=0.001, gamma='scale', probability=True, random_state=60)\n",
    "\n",
    "# training\n",
    "svc.fit(X_train, y_train)"
   ]
  },
  {
   "cell_type": "code",
   "execution_count": null,
   "id": "ktQPP0LqRq-I",
   "metadata": {
    "colab": {
     "base_uri": "https://localhost:8080/"
    },
    "executionInfo": {
     "elapsed": 27943,
     "status": "ok",
     "timestamp": 1682889407381,
     "user": {
      "displayName": "Adedoyin Simeon",
      "userId": "06560907186348381188"
     },
     "user_tz": -60
    },
    "id": "ktQPP0LqRq-I",
    "outputId": "1ffe045f-90b9-4e7d-9ac2-1d39c3d9571e"
   },
   "outputs": [],
   "source": [
    "# predictions\n",
    "svc_pred = svc.predict(X_test)\n",
    "\n",
    "# evaluations\n",
    "svc_acc = accuracy_score(y_test, svc_pred)\n",
    "svc_prec = precision_score(y_test, svc_pred, average='weighted')\n",
    "svc_rec = recall_score(y_test, svc_pred, average='weighted')\n",
    "\n",
    "svc_cf = confusion_matrix(y_test, svc_pred)\n",
    "\n",
    "print(f'Classification Report for SVM-Classifier (SVC): \\n')\n",
    "print(classification_report(y_test, svc_pred))"
   ]
  },
  {
   "cell_type": "code",
   "execution_count": null,
   "id": "XT5-27feRq-I",
   "metadata": {
    "colab": {
     "base_uri": "https://localhost:8080/",
     "height": 494
    },
    "executionInfo": {
     "elapsed": 42,
     "status": "ok",
     "timestamp": 1682889407384,
     "user": {
      "displayName": "Adedoyin Simeon",
      "userId": "06560907186348381188"
     },
     "user_tz": -60
    },
    "id": "XT5-27feRq-I",
    "outputId": "e2d817c1-09ae-4629-b80b-c0d2e036ed6b"
   },
   "outputs": [],
   "source": [
    "plt.figure(figsize=(6,4))\n",
    "sns.heatmap(svc_cf, fmt='.4g', annot=True, cmap='Blues')\n",
    "plt.title('\\nConfusion Matrix for Support Vector Classifier (SVC)\\n')"
   ]
  },
  {
   "cell_type": "code",
   "execution_count": null,
   "id": "sk_1GMDtRq-I",
   "metadata": {
    "colab": {
     "base_uri": "https://localhost:8080/",
     "height": 494
    },
    "executionInfo": {
     "elapsed": 3471,
     "status": "ok",
     "timestamp": 1682889433594,
     "user": {
      "displayName": "Adedoyin Simeon",
      "userId": "06560907186348381188"
     },
     "user_tz": -60
    },
    "id": "sk_1GMDtRq-I",
    "outputId": "0b01b739-deae-45be-f575-dd7270fb1289"
   },
   "outputs": [],
   "source": [
    "plt.figure(figsize=(6,4))\n",
    "cf_perc = (svc_cf / svc_cf.sum(axis=0) * 100).round(1).reshape(2,2)\n",
    "sns.heatmap(cf_perc, annot=True, fmt='.1f', cmap='Blues')\n",
    "plt.title('\\nConfusion Matrix for Support Vector Classifier (SVC) (%)\\n')"
   ]
  },
  {
   "cell_type": "markdown",
   "id": "aninaZS-U4eC",
   "metadata": {
    "id": "aninaZS-U4eC"
   },
   "source": [
    "**Interpretation of the Confusion Matrix for Support Vector Classifier (SVC)**\n",
    "\n",
    "As shown above, the x-axis (vertical) indicate the true classes (clusters) and the y-axis (horizontal) indicates the predicted classes (clusters). The diagonal axis indicates number and corresponding percentages of correct classifications, while the rest are misclassifications.\n",
    "\n",
    "Out of 7,911 employees belonging to class 0 (not-well-paid) presented for classification, 6,468 of them were correctly classified, constituting about 84.8% of the population, while 1,158 (15.2%) employees were mis-classified as belonging to class 1 (well-paid).\n",
    "\n",
    "Also, of the 7,964 employees who are in class 1 (well-paid), 6,806 (82.5%)of them were correctly classified and the remaining 1,443 (17.5%) eployees were miscalssified into class 0 (not-well-paid).\n",
    "\n",
    "And so on. The overall performances shown that out of the 15,875 employees presented for classification, 13,274 (83.6%) of them were correctly classified leaving only about 16.4% misclassification."
   ]
  },
  {
   "cell_type": "code",
   "execution_count": null,
   "id": "qRqCf3_iRq-I",
   "metadata": {
    "colab": {
     "base_uri": "https://localhost:8080/",
     "height": 143
    },
    "executionInfo": {
     "elapsed": 1271,
     "status": "ok",
     "timestamp": 1682890106566,
     "user": {
      "displayName": "Adedoyin Simeon",
      "userId": "06560907186348381188"
     },
     "user_tz": -60
    },
    "id": "qRqCf3_iRq-I",
    "outputId": "a5051e9e-605c-414d-d8d0-4322936ebb3b"
   },
   "outputs": [],
   "source": [
    "svc_results = {\n",
    "    'SVC': [svc_acc, svc_prec, svc_rec]\n",
    "}\n",
    "svc_results = pd.DataFrame(svc_results, index=CLASSIFICATION_METRICS)\n",
    "svc_results"
   ]
  },
  {
   "cell_type": "code",
   "execution_count": null,
   "id": "wJZ6UQCRRq-J",
   "metadata": {
    "colab": {
     "base_uri": "https://localhost:8080/",
     "height": 843
    },
    "executionInfo": {
     "elapsed": 2089,
     "status": "ok",
     "timestamp": 1682890180780,
     "user": {
      "displayName": "Adedoyin Simeon",
      "userId": "06560907186348381188"
     },
     "user_tz": -60
    },
    "id": "wJZ6UQCRRq-J",
    "outputId": "4e37ca19-1652-41b5-a57d-9de0c4912745"
   },
   "outputs": [],
   "source": [
    "plt.figure(figsize=(6,4))\n",
    "svc_results.plot.bar(title='SVC Results')"
   ]
  },
  {
   "cell_type": "code",
   "execution_count": null,
   "id": "RvEpM6ppRmT2",
   "metadata": {
    "id": "RvEpM6ppRmT2"
   },
   "outputs": [],
   "source": []
  },
  {
   "cell_type": "markdown",
   "id": "6oJWJu6VT6Ch",
   "metadata": {
    "id": "6oJWJu6VT6Ch"
   },
   "source": [
    "---\n",
    "## GradientBoosting Classifier (GBC)"
   ]
  },
  {
   "cell_type": "code",
   "execution_count": null,
   "id": "NCEORjdjT6Ci",
   "metadata": {
    "colab": {
     "base_uri": "https://localhost:8080/",
     "height": 75
    },
    "executionInfo": {
     "elapsed": 10667,
     "status": "ok",
     "timestamp": 1682890135398,
     "user": {
      "displayName": "Adedoyin Simeon",
      "userId": "06560907186348381188"
     },
     "user_tz": -60
    },
    "id": "NCEORjdjT6Ci",
    "outputId": "64154a12-968d-4b0d-f705-10b985c4184f"
   },
   "outputs": [],
   "source": [
    "# instantiation\n",
    "gb = GradientBoostingClassifier(\n",
    "    n_estimators=100, learning_rate=0.1, criterion='friedman_mse', \n",
    "    tol=0.0001, random_state=60)\n",
    "\n",
    "# training\n",
    "gb.fit(X_train, y_train)"
   ]
  },
  {
   "cell_type": "code",
   "execution_count": null,
   "id": "4ZjC2fdPT6Cj",
   "metadata": {
    "colab": {
     "base_uri": "https://localhost:8080/"
    },
    "executionInfo": {
     "elapsed": 13,
     "status": "ok",
     "timestamp": 1682890135399,
     "user": {
      "displayName": "Adedoyin Simeon",
      "userId": "06560907186348381188"
     },
     "user_tz": -60
    },
    "id": "4ZjC2fdPT6Cj",
    "outputId": "1f306214-b291-4ffa-c9c5-2184ee3e14a4"
   },
   "outputs": [],
   "source": [
    "# predictions\n",
    "gb_pred = gb.predict(X_test)\n",
    "\n",
    "# evaluations\n",
    "gb_acc = accuracy_score(y_test, gb_pred)\n",
    "gb_prec = precision_score(y_test, gb_pred, average='weighted')\n",
    "gb_rec = recall_score(y_test, gb_pred, average='weighted')\n",
    "\n",
    "gb_cf = confusion_matrix(y_test, gb_pred)\n",
    "\n",
    "print(f'Classification Report for GradientBoosting-Classifier: \\n')\n",
    "print(classification_report(y_test, gb_pred))"
   ]
  },
  {
   "cell_type": "code",
   "execution_count": null,
   "id": "tLho-jctT6Cj",
   "metadata": {
    "colab": {
     "base_uri": "https://localhost:8080/",
     "height": 494
    },
    "executionInfo": {
     "elapsed": 1191,
     "status": "ok",
     "timestamp": 1682890193173,
     "user": {
      "displayName": "Adedoyin Simeon",
      "userId": "06560907186348381188"
     },
     "user_tz": -60
    },
    "id": "tLho-jctT6Cj",
    "outputId": "3c171f94-eff9-4073-abf8-2fe225d19ad4"
   },
   "outputs": [],
   "source": [
    "plt.figure(figsize=(6,4))\n",
    "sns.heatmap(gb_cf, fmt='.4g', annot=True, cmap='Blues')\n",
    "plt.title('\\nConfusion Matrix for Gradient Boosting Classifier\\n')"
   ]
  },
  {
   "cell_type": "code",
   "execution_count": null,
   "id": "Q9yOY1tST6Ck",
   "metadata": {
    "colab": {
     "base_uri": "https://localhost:8080/",
     "height": 494
    },
    "executionInfo": {
     "elapsed": 1282,
     "status": "ok",
     "timestamp": 1682890205578,
     "user": {
      "displayName": "Adedoyin Simeon",
      "userId": "06560907186348381188"
     },
     "user_tz": -60
    },
    "id": "Q9yOY1tST6Ck",
    "outputId": "b80d5348-cc02-4839-8c50-aab32bc699ce"
   },
   "outputs": [],
   "source": [
    "cf_perc = (gb_cf / gb_cf.sum(axis=0) * 100).round(1).reshape(2,2)\n",
    "\n",
    "plt.figure(figsize=(6,4))\n",
    "sns.heatmap(cf_perc, annot=True, fmt='.1f', cmap='Blues')\n",
    "plt.title('\\nConfusion Matrix for Gradient Boosting Classifier (%)\\n')"
   ]
  },
  {
   "cell_type": "markdown",
   "id": "kqSe5f_0W2_A",
   "metadata": {
    "id": "kqSe5f_0W2_A"
   },
   "source": [
    "**Interpretation of the Confusion Matrix for Gradient Boosting Classifier (GBC)**\n",
    "\n",
    "As shown above, the x-axis (vertical) indicate the true classes (clusters) and the y-axis (horizontal) indicates the predicted classes (clusters). The diagonal axis indicates number and corresponding percentages of correct classifications, while the rest are misclassifications.\n",
    "\n",
    "Out of 7,911 employees belonging to class 0 (not-well-paid) presented to the GBC trained model for classification, 7,530 of them were correctly classified, constituting about 88.8% of the population, while 946 (11.2%) employees were mis-classified as belonging to class 1 (well-paid).\n",
    "\n",
    "Also, of the 7,964 employees who are in class 1 (well-paid), 7,018 (94.9%)of them were correctly classified and the remaining 381 (5.1%) eployees were misclassified as class 0 (not-well-paid).\n",
    "\n",
    "And so on. The overall performances shown that out of the 15,875 employees presented for classification, 14,548 (92.6%) of them were correctly classified leaving only about 7.4% misclassification."
   ]
  },
  {
   "cell_type": "code",
   "execution_count": null,
   "id": "qj7evxoGT6Ck",
   "metadata": {
    "colab": {
     "base_uri": "https://localhost:8080/",
     "height": 143
    },
    "executionInfo": {
     "elapsed": 966,
     "status": "ok",
     "timestamp": 1682890616799,
     "user": {
      "displayName": "Adedoyin Simeon",
      "userId": "06560907186348381188"
     },
     "user_tz": -60
    },
    "id": "qj7evxoGT6Ck",
    "outputId": "ac6884c5-4b6a-4dbc-abf1-3e6bf367461c"
   },
   "outputs": [],
   "source": [
    "gb_results = {\n",
    "    'GBC': [gb_acc, gb_prec, gb_rec]\n",
    "}\n",
    "gb_results = pd.DataFrame(gb_results, index=CLASSIFICATION_METRICS)\n",
    "gb_results"
   ]
  },
  {
   "cell_type": "code",
   "execution_count": null,
   "id": "bYwjg-QOT6Ck",
   "metadata": {
    "colab": {
     "base_uri": "https://localhost:8080/",
     "height": 858
    },
    "executionInfo": {
     "elapsed": 2248,
     "status": "ok",
     "timestamp": 1682890623888,
     "user": {
      "displayName": "Adedoyin Simeon",
      "userId": "06560907186348381188"
     },
     "user_tz": -60
    },
    "id": "bYwjg-QOT6Ck",
    "outputId": "4d22b860-2021-483f-ab66-e57abe4f7913"
   },
   "outputs": [],
   "source": [
    "gb_results.plot.bar(title='Gradient Boosting Classifier (GBC) Results\\n')"
   ]
  },
  {
   "cell_type": "code",
   "execution_count": null,
   "id": "Kxj9m2BdRmF9",
   "metadata": {
    "id": "Kxj9m2BdRmF9"
   },
   "outputs": [],
   "source": []
  },
  {
   "cell_type": "markdown",
   "id": "Xh4pW5lsVlht",
   "metadata": {
    "id": "Xh4pW5lsVlht"
   },
   "source": [
    "# Merged Classification Results\n"
   ]
  },
  {
   "cell_type": "code",
   "execution_count": null,
   "id": "r_dH4kbDRl-1",
   "metadata": {
    "colab": {
     "base_uri": "https://localhost:8080/",
     "height": 143
    },
    "executionInfo": {
     "elapsed": 1899,
     "status": "ok",
     "timestamp": 1682890636645,
     "user": {
      "displayName": "Adedoyin Simeon",
      "userId": "06560907186348381188"
     },
     "user_tz": -60
    },
    "id": "r_dH4kbDRl-1",
    "outputId": "96cee565-6bb7-400e-835b-67898322c7f1"
   },
   "outputs": [],
   "source": [
    "classification_results = pd.concat([rf_results, svc_results, gb_results], axis='columns')\n",
    "classification_results"
   ]
  },
  {
   "cell_type": "code",
   "execution_count": null,
   "id": "NSxjFZRVRl3u",
   "metadata": {
    "colab": {
     "base_uri": "https://localhost:8080/",
     "height": 143
    },
    "executionInfo": {
     "elapsed": 730,
     "status": "ok",
     "timestamp": 1682890726876,
     "user": {
      "displayName": "Adedoyin Simeon",
      "userId": "06560907186348381188"
     },
     "user_tz": -60
    },
    "id": "NSxjFZRVRl3u",
    "outputId": "c7c81c54-3aaf-43b8-fde1-edcbc4efa07d"
   },
   "outputs": [],
   "source": [
    "# Sorting results in order of performance\n",
    "classification_results.T.sort_values(by='Recall', ascending=False).T"
   ]
  },
  {
   "cell_type": "code",
   "execution_count": null,
   "id": "t6K-dCQFRlwY",
   "metadata": {
    "colab": {
     "base_uri": "https://localhost:8080/",
     "height": 825
    },
    "executionInfo": {
     "elapsed": 2505,
     "status": "ok",
     "timestamp": 1682890760406,
     "user": {
      "displayName": "Adedoyin Simeon",
      "userId": "06560907186348381188"
     },
     "user_tz": -60
    },
    "id": "t6K-dCQFRlwY",
    "outputId": "d0044509-5959-453e-f28a-ed685279e5f7"
   },
   "outputs": [],
   "source": [
    "classification_results.T.sort_values(\n",
    "    by='Recall', ascending=False).T.plot.bar(\n",
    "        title='Classification Performance Evaluations')"
   ]
  },
  {
   "cell_type": "markdown",
   "id": "FTnOcR1wYgXk",
   "metadata": {
    "id": "FTnOcR1wYgXk"
   },
   "source": [
    "**Classification Results Interpretation**\n",
    "\n",
    "As shown in the table, and the associated graph,\n",
    "\n",
    "We have 91.64%, 91.28% and 83.62% accuracy for Gradient Boosting Classifier (GBC), Random Forest Classifier (RF), and Support Vector Classifier (SVC) respectively.\n",
    "\n",
    "We have 91.85%, 91.47% and 83.66% precision for Gradient Boosting Classifier (GBC), Random Forest Classifier (RF), and Support Vector Classifier (SVC) respectively.\n",
    "\n",
    "We have 91.64%, 91.28% and 83.62% recall for Gradient Boosting Classifier (GBC), Random Forest Classifier (RF), and Support Vector Classifier (SVC) respectively.\n",
    "\n",
    "**It can be observed that overall, Gradient Boosting Classifier (GBC) model out-performed consistently better than all other models across all metrics with about 92% accuracy. Hence, the best performing model, while SVC is the least performing model having about 84% accuracy.**\n",
    "\n",
    "**It can also be seen that there is only a marginal difference in performance of GBC and RF, as opposed to SVC performances.**\n",
    "\n",
    "**It should also be noted that the improvement in performances of GBC across all models is significant (> 0.05) compared to other models, even though RF Classifier has a very close performance.**\n",
    "\n",
    "\n"
   ]
  },
  {
   "cell_type": "markdown",
   "id": "wVMQzvZdXA-L",
   "metadata": {
    "id": "wVMQzvZdXA-L"
   },
   "source": [
    "### Saving trained classification models"
   ]
  },
  {
   "cell_type": "code",
   "execution_count": null,
   "id": "S4Q2HhrFRloz",
   "metadata": {
    "colab": {
     "base_uri": "https://localhost:8080/"
    },
    "executionInfo": {
     "elapsed": 3138,
     "status": "ok",
     "timestamp": 1682891614831,
     "user": {
      "displayName": "Adedoyin Simeon",
      "userId": "06560907186348381188"
     },
     "user_tz": -60
    },
    "id": "S4Q2HhrFRloz",
    "outputId": "87dd7da2-8ebc-4a9a-e5da-3677977bb908"
   },
   "outputs": [],
   "source": [
    "# saving the KMeans trained model\n",
    "save_model_pickle(rf, filename='RFC_MODEL.pickle')\n",
    "save_model_pickle(svc, filename='SVC_MODEL.pickle')\n",
    "save_model_pickle(gb, filename='GBC_MODEL.pickle')\n",
    "\n",
    "# saving kmeans scaler object\n",
    "save_model_pickle(scaler_clust, filename='SCALER_for_CLUSTERING.pickle')\n",
    "\n",
    "# Saving classification results\n",
    "classification_results.to_csv(f'{RESULTS_PATH}/classification_results.csv')\n",
    "\n",
    "# Saving a copy of the balanced dataset used for training the classification models\n",
    "bal_class_ds.to_csv(f'{RESULTS_PATH}/balanced_classification_dataset_for_training.csv')"
   ]
  },
  {
   "cell_type": "code",
   "execution_count": null,
   "id": "pwQ24lkdRlgd",
   "metadata": {
    "id": "pwQ24lkdRlgd"
   },
   "outputs": [],
   "source": []
  }
 ],
 "metadata": {
  "colab": {
   "provenance": []
  },
  "kernelspec": {
   "display_name": "Python 3 (ipykernel)",
   "language": "python",
   "name": "python3"
  },
  "language_info": {
   "codemirror_mode": {
    "name": "ipython",
    "version": 3
   },
   "file_extension": ".py",
   "mimetype": "text/x-python",
   "name": "python",
   "nbconvert_exporter": "python",
   "pygments_lexer": "ipython3",
   "version": "3.9.7"
  }
 },
 "nbformat": 4,
 "nbformat_minor": 5
}
